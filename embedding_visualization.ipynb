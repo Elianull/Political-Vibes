{
 "cells": [
  {
   "cell_type": "code",
   "execution_count": 1,
   "metadata": {},
   "outputs": [],
   "source": [
    "import h5py\n",
    "import numpy as np\n",
    "import plotly.graph_objects as go\n",
    "from sklearn.manifold import TSNE\n",
    "import matplotlib.pyplot as plt\n",
    "\n",
    "# Load embeddings and titles\n",
    "with h5py.File('data/encoded_vectors.h5', 'r') as hf:\n",
    "    embeddings = hf['vectors'][:]\n",
    "    titles = hf['bill_info'][:]\n",
    "    titles = [title.decode('utf-8') for title in titles]\n"
   ]
  },
  {
   "cell_type": "code",
   "execution_count": 2,
   "metadata": {},
   "outputs": [],
   "source": [
    "# Apply t-SNE to reduce dimensions to 2D for visualization\n",
    "tsne = TSNE(n_components=2, random_state=42)\n",
    "embeddings_reduced = tsne.fit_transform(embeddings)"
   ]
  },
  {
   "cell_type": "code",
   "execution_count": 3,
   "metadata": {},
   "outputs": [
    {
     "data": {
      "application/vnd.plotly.v1+json": {
       "config": {
        "plotlyServerURL": "https://plot.ly"
       },
       "data": [
        {
         "marker": {
          "size": 5
         },
         "mode": "markers+text",
         "text": [
          "{'congress': 117, 'number': '4320', 'originChamber': 'Senate', 'originChamberCode': 'S', 'title': 'Secure Embassy Construction and Counterterrorism Act of 2022', 'type': 'S', 'updateDateIncludingText': '2024-02-09T17:08:30Z', 'url': 'https://api.congress.gov/v3/bill/117/s/4320?format=json'}"
         ],
         "textposition": "top center",
         "type": "scatter",
         "x": [
          -2.7048168182373047
         ],
         "y": [
          -6.6130828857421875
         ]
        },
        {
         "marker": {
          "size": 5
         },
         "mode": "markers+text",
         "text": [
          "{'congress': 117, 'number': '750', 'originChamber': 'Senate', 'originChamberCode': 'S', 'title': 'A resolution celebrating the United States-Republic of Korea alliance and the dedication of the Wall of Remembrance at the Korean War Veterans Memorial on July 27, 2022.', 'type': 'SRES', 'updateDateIncludingText': '2023-08-15T17:45:17Z', 'url': 'https://api.congress.gov/v3/bill/117/sres/750?format=json'}"
         ],
         "textposition": "top center",
         "type": "scatter",
         "x": [
          1.1159610748291016
         ],
         "y": [
          -5.087428569793701
         ]
        },
        {
         "marker": {
          "size": 5
         },
         "mode": "markers+text",
         "text": [
          "{'congress': 117, 'number': '6545', 'originChamber': 'House', 'originChamberCode': 'H', 'title': 'Protecting Americans from Unsafe Drugs Act of 2022', 'type': 'HR', 'updateDateIncludingText': '2024-02-05T14:30:09Z', 'url': 'https://api.congress.gov/v3/bill/117/hr/6545?format=json'}"
         ],
         "textposition": "top center",
         "type": "scatter",
         "x": [
          1.6005580425262451
         ],
         "y": [
          -3.534454822540283
         ]
        },
        {
         "marker": {
          "size": 5
         },
         "mode": "markers+text",
         "text": [
          "{'congress': 117, 'number': '3763', 'originChamber': 'Senate', 'originChamberCode': 'S', 'title': \"A bill to repeal the waiver and termination provisions of the Protecting Europe's Energy Security Act of 2019.\", 'type': 'S', 'updateDateIncludingText': '2024-02-09T17:08:30Z', 'url': 'https://api.congress.gov/v3/bill/117/s/3763?format=json'}"
         ],
         "textposition": "top center",
         "type": "scatter",
         "x": [
          -3.585089683532715
         ],
         "y": [
          -3.93795108795166
         ]
        },
        {
         "marker": {
          "size": 5
         },
         "mode": "markers+text",
         "text": [
          "{'congress': 117, 'number': '69', 'originChamber': 'Senate', 'originChamberCode': 'S', 'title': 'A joint resolution proposing an amendment to the Constitution of the United States to abolish the electoral college and to provide for the direct election of the President and Vice President of the United States.', 'type': 'SJRES', 'updateDateIncludingText': '2023-01-05T05:15:34Z', 'url': 'https://api.congress.gov/v3/bill/117/sjres/69?format=json'}"
         ],
         "textposition": "top center",
         "type": "scatter",
         "x": [
          -1.8551236391067505
         ],
         "y": [
          -1.2855477333068848
         ]
        },
        {
         "marker": {
          "size": 5
         },
         "mode": "markers+text",
         "text": [
          "{'congress': 117, 'number': '8283', 'originChamber': 'House', 'originChamberCode': 'H', 'title': 'Federal Employee Student Debt Transparency Act', 'type': 'HR', 'updateDateIncludingText': '2024-02-07T13:33:49Z', 'url': 'https://api.congress.gov/v3/bill/117/hr/8283?format=json'}"
         ],
         "textposition": "top center",
         "type": "scatter",
         "x": [
          0.8749445676803589
         ],
         "y": [
          -5.470096588134766
         ]
        },
        {
         "marker": {
          "size": 5
         },
         "mode": "markers+text",
         "text": [
          "{'congress': 117, 'number': '8703', 'originChamber': 'House', 'originChamberCode': 'H', 'title': 'REVIEW Act of 2022', 'type': 'HR', 'updateDateIncludingText': '2023-02-02T18:45:58Z', 'url': 'https://api.congress.gov/v3/bill/117/hr/8703?format=json'}"
         ],
         "textposition": "top center",
         "type": "scatter",
         "x": [
          0.702513575553894
         ],
         "y": [
          -2.474376916885376
         ]
        },
        {
         "marker": {
          "size": 5
         },
         "mode": "markers+text",
         "text": [
          "{'congress': 117, 'number': '1320', 'originChamber': 'House', 'originChamberCode': 'H', 'title': 'Remembering the 80th anniversary of the Solomon Islands campaign, including the battles of Guadalcanal and Ironbottom Sound.', 'type': 'HRES', 'updateDateIncludingText': '2024-02-07T11:38:03Z', 'url': 'https://api.congress.gov/v3/bill/117/hres/1320?format=json'}"
         ],
         "textposition": "top center",
         "type": "scatter",
         "x": [
          -4.191448211669922
         ],
         "y": [
          -1.1199865341186523
         ]
        },
        {
         "marker": {
          "size": 5
         },
         "mode": "markers+text",
         "text": [
          "{'congress': 117, 'number': '9532', 'originChamber': 'House', 'originChamberCode': 'H', 'title': 'Warfighter Brain Health Act of 2022', 'type': 'HR', 'updateDateIncludingText': '2023-01-09T22:32:59Z', 'url': 'https://api.congress.gov/v3/bill/117/hr/9532?format=json'}"
         ],
         "textposition": "top center",
         "type": "scatter",
         "x": [
          1.462794542312622
         ],
         "y": [
          -8.750280380249023
         ]
        },
        {
         "marker": {
          "size": 5
         },
         "mode": "markers+text",
         "text": [
          "{'congress': 117, 'number': '6917', 'originChamber': 'House', 'originChamberCode': 'H', 'title': 'To designate the facility of the United States Postal Service located at 301 East Congress Parkway in Crystal Lake, Illinois, as the \"Ryan J. Cummings Post Office Building\".', 'type': 'HR', 'updateDateIncludingText': '2024-02-09T18:20:36Z', 'url': 'https://api.congress.gov/v3/bill/117/hr/6917?format=json'}"
         ],
         "textposition": "top center",
         "type": "scatter",
         "x": [
          -1.9866328239440918
         ],
         "y": [
          5.201582431793213
         ]
        },
        {
         "marker": {
          "size": 5
         },
         "mode": "markers+text",
         "text": [
          "{'congress': 117, 'number': '7297', 'originChamber': 'House', 'originChamberCode': 'H', 'title': 'VA Flood Preparedness Act', 'type': 'HR', 'updateDateIncludingText': '2024-02-07T16:12:44Z', 'url': 'https://api.congress.gov/v3/bill/117/hr/7297?format=json'}"
         ],
         "textposition": "top center",
         "type": "scatter",
         "x": [
          3.2110462188720703
         ],
         "y": [
          -9.471643447875977
         ]
        },
        {
         "marker": {
          "size": 5
         },
         "mode": "markers+text",
         "text": [
          "{'congress': 117, 'number': '5170', 'originChamber': 'House', 'originChamberCode': 'H', 'title': 'SERVE Act', 'type': 'HR', 'updateDateIncludingText': '2024-02-07T16:12:44Z', 'url': 'https://api.congress.gov/v3/bill/117/hr/5170?format=json'}"
         ],
         "textposition": "top center",
         "type": "scatter",
         "x": [
          4.567771911621094
         ],
         "y": [
          -6.721512794494629
         ]
        },
        {
         "marker": {
          "size": 5
         },
         "mode": "markers+text",
         "text": [
          "{'congress': 117, 'number': '4683', 'originChamber': 'House', 'originChamberCode': 'H', 'title': 'Department of Veterans Affairs Electronic Health Record Testing Improvement Act', 'type': 'HR', 'updateDateIncludingText': '2024-02-07T16:12:44Z', 'url': 'https://api.congress.gov/v3/bill/117/hr/4683?format=json'}"
         ],
         "textposition": "top center",
         "type": "scatter",
         "x": [
          2.762726068496704
         ],
         "y": [
          -8.321253776550293
         ]
        },
        {
         "marker": {
          "size": 5
         },
         "mode": "markers+text",
         "text": [
          "{'congress': 117, 'number': '6064', 'originChamber': 'House', 'originChamberCode': 'H', 'title': 'To direct the Secretary of Veterans Affairs to seek to enter into an agreement with the National Academies of Sciences, Engineering, and Medicine for a review of examinations, furnished by the Secretary, to individuals who submit claims to the Secretary for compensation under chapter 11 of title 38, United States Code, for mental and physical conditions linked to military sexual trauma.', 'type': 'HR', 'updateDateIncludingText': '2024-02-09T18:29:17Z', 'url': 'https://api.congress.gov/v3/bill/117/hr/6064?format=json'}"
         ],
         "textposition": "top center",
         "type": "scatter",
         "x": [
          3.709399938583374
         ],
         "y": [
          -8.171263694763184
         ]
        },
        {
         "marker": {
          "size": 5
         },
         "mode": "markers+text",
         "text": [
          "{'congress': 117, 'number': '6961', 'originChamber': 'House', 'originChamberCode': 'H', 'title': 'Dignity for MST Survivors Act', 'type': 'HR', 'updateDateIncludingText': '2024-02-09T18:29:17Z', 'url': 'https://api.congress.gov/v3/bill/117/hr/6961?format=json'}"
         ],
         "textposition": "top center",
         "type": "scatter",
         "x": [
          4.894468307495117
         ],
         "y": [
          -8.044084548950195
         ]
        },
        {
         "marker": {
          "size": 5
         },
         "mode": "markers+text",
         "text": [
          "{'congress': 117, 'number': '5943', 'originChamber': 'House', 'originChamberCode': 'H', 'title': 'To designate the outpatient clinic of the Department of Veterans Affairs in Greenville, South Carolina, as the \"Lance Corporal Dana Cornell Darnell VA Clinic\".', 'type': 'HR', 'updateDateIncludingText': '2024-02-09T18:29:17Z', 'url': 'https://api.congress.gov/v3/bill/117/hr/5943?format=json'}"
         ],
         "textposition": "top center",
         "type": "scatter",
         "x": [
          4.781052112579346
         ],
         "y": [
          -10.653620719909668
         ]
        },
        {
         "marker": {
          "size": 5
         },
         "mode": "markers+text",
         "text": [
          "{'congress': 117, 'number': '7735', 'originChamber': 'House', 'originChamberCode': 'H', 'title': 'Improving Access to the VA Home Loan Benefit Act of 2022', 'type': 'HR', 'updateDateIncludingText': '2024-02-07T16:16:30Z', 'url': 'https://api.congress.gov/v3/bill/117/hr/7735?format=json'}"
         ],
         "textposition": "top center",
         "type": "scatter",
         "x": [
          3.0210072994232178
         ],
         "y": [
          -5.9345903396606445
         ]
        },
        {
         "marker": {
          "size": 5
         },
         "mode": "markers+text",
         "text": [
          "{'congress': 117, 'number': '681', 'originChamber': 'Senate', 'originChamberCode': 'S', 'title': 'A resolution recognizing the service of the Los Angeles-class attack submarine the USS Oklahoma City and the crews of the USS Oklahoma City, who served the United States with valor and bravery.', 'type': 'SRES', 'updateDateIncludingText': '2023-08-24T20:45:19Z', 'url': 'https://api.congress.gov/v3/bill/117/sres/681?format=json'}"
         ],
         "textposition": "top center",
         "type": "scatter",
         "x": [
          6.257719993591309
         ],
         "y": [
          1.7121962308883667
         ]
        },
        {
         "marker": {
          "size": 5
         },
         "mode": "markers+text",
         "text": [
          "{'congress': 117, 'number': '4179', 'originChamber': 'Senate', 'originChamberCode': 'S', 'title': 'Space National Guard Establishment Act', 'type': 'S', 'updateDateIncludingText': '2024-02-08T11:44:40Z', 'url': 'https://api.congress.gov/v3/bill/117/s/4179?format=json'}"
         ],
         "textposition": "top center",
         "type": "scatter",
         "x": [
          -6.694119930267334
         ],
         "y": [
          -2.248356342315674
         ]
        },
        {
         "marker": {
          "size": 5
         },
         "mode": "markers+text",
         "text": [
          "{'congress': 117, 'number': '5952', 'originChamber': 'House', 'originChamberCode': 'H', 'title': 'To designate the facility of the United States Postal Service located at 123 East Main Street, in Vergas, Minnesota, as the \"Jon Glawe Post Office\".', 'type': 'HR', 'updateDateIncludingText': '2024-02-07T13:39:37Z', 'url': 'https://api.congress.gov/v3/bill/117/hr/5952?format=json'}"
         ],
         "textposition": "top center",
         "type": "scatter",
         "x": [
          -1.5564287900924683
         ],
         "y": [
          4.722305774688721
         ]
        },
        {
         "marker": {
          "size": 5
         },
         "mode": "markers+text",
         "text": [
          "{'congress': 117, 'number': '5961', 'originChamber': 'House', 'originChamberCode': 'H', 'title': 'To make revisions in title 5, United States Code, as necessary to keep the title current, and to make technical amendments to improve the United States Code.', 'type': 'HR', 'updateDateIncludingText': '2023-03-08T20:26:24Z', 'url': 'https://api.congress.gov/v3/bill/117/hr/5961?format=json'}"
         ],
         "textposition": "top center",
         "type": "scatter",
         "x": [
          -2.6758153438568115
         ],
         "y": [
          3.980395793914795
         ]
        },
        {
         "marker": {
          "size": 5
         },
         "mode": "markers+text",
         "text": [
          "{'congress': 117, 'number': '5865', 'originChamber': 'House', 'originChamberCode': 'H', 'title': 'To designate the facility of the United States Postal Service located at 4110 Bluebonnet Drive in Stafford, Texas, as the \"Leonard Scarcella Post Office Building\".', 'type': 'HR', 'updateDateIncludingText': '2024-02-07T13:39:42Z', 'url': 'https://api.congress.gov/v3/bill/117/hr/5865?format=json'}"
         ],
         "textposition": "top center",
         "type": "scatter",
         "x": [
          -3.691042184829712
         ],
         "y": [
          -2.411416530609131
         ]
        },
        {
         "marker": {
          "size": 5
         },
         "mode": "markers+text",
         "text": [
          "{'congress': 117, 'number': '681', 'originChamber': 'House', 'originChamberCode': 'H', 'title': 'For the relief of Rebecca Trimble.', 'type': 'HR', 'updateDateIncludingText': '2023-12-05T14:56:19Z', 'url': 'https://api.congress.gov/v3/bill/117/hr/681?format=json'}"
         ],
         "textposition": "top center",
         "type": "scatter",
         "x": [
          -2.854522705078125
         ],
         "y": [
          5.680109024047852
         ]
        },
        {
         "marker": {
          "size": 5
         },
         "mode": "markers+text",
         "text": [
          "{'congress': 117, 'number': '6042', 'originChamber': 'House', 'originChamberCode': 'H', 'title': 'To designate the facility of the United States Postal Service located at 213 William Hilton Parkway in Hilton Head Island, South Carolina, as the \"Caesar H. Wright Jr. Post Office Building\".', 'type': 'HR', 'updateDateIncludingText': '2024-02-07T13:39:43Z', 'url': 'https://api.congress.gov/v3/bill/117/hr/6042?format=json'}"
         ],
         "textposition": "top center",
         "type": "scatter",
         "x": [
          -0.8986368179321289
         ],
         "y": [
          5.583117485046387
         ]
        },
        {
         "marker": {
          "size": 5
         },
         "mode": "markers+text",
         "text": [
          "{'congress': 117, 'number': '2473', 'originChamber': 'House', 'originChamberCode': 'H', 'title': 'To designate the facility of the United States Postal Service located at 275 Penn Avenue in Salem, Ohio, as the \"Howard Arthur Tibbs Post Office\".', 'type': 'HR', 'updateDateIncludingText': '2024-02-09T18:20:36Z', 'url': 'https://api.congress.gov/v3/bill/117/hr/2473?format=json'}"
         ],
         "textposition": "top center",
         "type": "scatter",
         "x": [
          7.989545822143555
         ],
         "y": [
          -5.172534942626953
         ]
        },
        {
         "marker": {
          "size": 5
         },
         "mode": "markers+text",
         "text": [
          "{'congress': 117, 'number': '5087', 'originChamber': 'Senate', 'originChamberCode': 'S', 'title': 'A bill to amend the Not Invisible Act of 2019 to extend, and provide additional support for, the activities of the Department of the Interior and the Department of Justice Joint Commission on Reducing Violent Crime Against Indians, and for other purposes.', 'type': 'S', 'updateDateIncludingText': '2024-02-20T13:57:18Z', 'url': 'https://api.congress.gov/v3/bill/117/s/5087?format=json'}"
         ],
         "textposition": "top center",
         "type": "scatter",
         "x": [
          -1.1863749027252197
         ],
         "y": [
          -5.0088043212890625
         ]
        },
        {
         "marker": {
          "size": 5
         },
         "mode": "markers+text",
         "text": [
          "{'congress': 117, 'number': '3905', 'originChamber': 'Senate', 'originChamberCode': 'S', 'title': 'Preventing Organizational Conflicts of Interest in Federal Acquisition Act', 'type': 'S', 'updateDateIncludingText': '2024-02-09T18:16:56Z', 'url': 'https://api.congress.gov/v3/bill/117/s/3905?format=json'}"
         ],
         "textposition": "top center",
         "type": "scatter",
         "x": [
          1.6030449867248535
         ],
         "y": [
          -6.975632667541504
         ]
        },
        {
         "marker": {
          "size": 5
         },
         "mode": "markers+text",
         "text": [
          "{'congress': 117, 'number': '4816', 'originChamber': 'Senate', 'originChamberCode': 'S', 'title': 'Access for Veterans to Records Act of 2022', 'type': 'S', 'updateDateIncludingText': '2024-02-09T18:16:56Z', 'url': 'https://api.congress.gov/v3/bill/117/s/4816?format=json'}"
         ],
         "textposition": "top center",
         "type": "scatter",
         "x": [
          2.953880548477173
         ],
         "y": [
          -2.8458285331726074
         ]
        },
        {
         "marker": {
          "size": 5
         },
         "mode": "markers+text",
         "text": [
          "{'congress': 117, 'number': '1437', 'originChamber': 'House', 'originChamberCode': 'H', 'title': 'Further Continuing Appropriations and Extensions Act, 2023', 'type': 'HR', 'updateDateIncludingText': '2024-02-07T15:21:41Z', 'url': 'https://api.congress.gov/v3/bill/117/hr/1437?format=json'}"
         ],
         "textposition": "top center",
         "type": "scatter",
         "x": [
          -1.0896899700164795
         ],
         "y": [
          0.4961135685443878
         ]
        },
        {
         "marker": {
          "size": 5
         },
         "mode": "markers+text",
         "text": [
          "{'congress': 117, 'number': '6199', 'originChamber': 'House', 'originChamberCode': 'H', 'title': 'Ste. Genevieve National Historical Park Boundary Revision Act', 'type': 'HR', 'updateDateIncludingText': '2024-02-07T13:32:55Z', 'url': 'https://api.congress.gov/v3/bill/117/hr/6199?format=json'}"
         ],
         "textposition": "top center",
         "type": "scatter",
         "x": [
          -2.3153600692749023
         ],
         "y": [
          3.8558833599090576
         ]
        },
        {
         "marker": {
          "size": 5
         },
         "mode": "markers+text",
         "text": [
          "{'congress': 117, 'number': '228', 'originChamber': 'House', 'originChamberCode': 'H', 'title': 'To designate the facility of the United States Postal Service located at 2141 Ferry Street in Anderson, California, as the \"Norma Comnick Post Office Building\".', 'type': 'HR', 'updateDateIncludingText': '2024-02-09T18:16:56Z', 'url': 'https://api.congress.gov/v3/bill/117/hr/228?format=json'}"
         ],
         "textposition": "top center",
         "type": "scatter",
         "x": [
          -1.4284415245056152
         ],
         "y": [
          3.598478078842163
         ]
        },
        {
         "marker": {
          "size": 5
         },
         "mode": "markers+text",
         "text": [
          "{'congress': 117, 'number': '6614', 'originChamber': 'House', 'originChamberCode': 'H', 'title': 'To designate the facility of the United States Postal Service located at 4744 Grand River Avenue in Detroit, Michigan, as the \"Rosa Louise McCauley Parks Post Office Building\".', 'type': 'HR', 'updateDateIncludingText': '2024-02-09T18:16:56Z', 'url': 'https://api.congress.gov/v3/bill/117/hr/6614?format=json'}"
         ],
         "textposition": "top center",
         "type": "scatter",
         "x": [
          -1.770143985748291
         ],
         "y": [
          5.5124688148498535
         ]
        },
        {
         "marker": {
          "size": 5
         },
         "mode": "markers+text",
         "text": [
          "{'congress': 117, 'number': '700', 'originChamber': 'House', 'originChamberCode': 'H', 'title': 'To designate the facility of the United States Postal Service located at 303 East Mississippi Avenue in Elwood, Illinois, as the \"Lawrence M. \\'Larry\\' Walsh Sr. Post Office\".', 'type': 'HR', 'updateDateIncludingText': '2024-02-09T18:16:56Z', 'url': 'https://api.congress.gov/v3/bill/117/hr/700?format=json'}"
         ],
         "textposition": "top center",
         "type": "scatter",
         "x": [
          -3.2001001834869385
         ],
         "y": [
          4.403116226196289
         ]
        },
        {
         "marker": {
          "size": 5
         },
         "mode": "markers+text",
         "text": [
          "{'congress': 117, 'number': '3825', 'originChamber': 'Senate', 'originChamberCode': 'S', 'title': 'A bill to designate the facility of the United States Postal Service located at 3903 Melear Drive in Arlington, Texas, as the \"Ron Wright Post Office Building\".', 'type': 'S', 'updateDateIncludingText': '2024-02-09T18:16:56Z', 'url': 'https://api.congress.gov/v3/bill/117/s/3825?format=json'}"
         ],
         "textposition": "top center",
         "type": "scatter",
         "x": [
          -1.8333063125610352
         ],
         "y": [
          -5.967372417449951
         ]
        },
        {
         "marker": {
          "size": 5
         },
         "mode": "markers+text",
         "text": [
          "{'congress': 117, 'number': '1351', 'originChamber': 'Senate', 'originChamberCode': 'S', 'title': 'Safeguarding American Innovation Act', 'type': 'S', 'updateDateIncludingText': '2024-02-09T18:16:56Z', 'url': 'https://api.congress.gov/v3/bill/117/s/1351?format=json'}"
         ],
         "textposition": "top center",
         "type": "scatter",
         "x": [
          6.245285987854004
         ],
         "y": [
          -5.504681587219238
         ]
        },
        {
         "marker": {
          "size": 5
         },
         "mode": "markers+text",
         "text": [
          "{'congress': 117, 'number': '5251', 'originChamber': 'Senate', 'originChamberCode': 'S', 'title': 'Community Mental Wellness and Resilience Act of 2022', 'type': 'S', 'updateDateIncludingText': '2024-02-16T21:08:00Z', 'url': 'https://api.congress.gov/v3/bill/117/s/5251?format=json'}"
         ],
         "textposition": "top center",
         "type": "scatter",
         "x": [
          -5.292325973510742
         ],
         "y": [
          -8.265381813049316
         ]
        },
        {
         "marker": {
          "size": 5
         },
         "mode": "markers+text",
         "text": [
          "{'congress': 117, 'number': '8393', 'originChamber': 'House', 'originChamberCode': 'H', 'title': 'Puerto Rico Status Act', 'type': 'HR', 'updateDateIncludingText': '2024-02-07T13:32:55Z', 'url': 'https://api.congress.gov/v3/bill/117/hr/8393?format=json'}"
         ],
         "textposition": "top center",
         "type": "scatter",
         "x": [
          0.762366533279419
         ],
         "y": [
          -10.090056419372559
         ]
        },
        {
         "marker": {
          "size": 5
         },
         "mode": "markers+text",
         "text": [
          "{'congress': 117, 'number': '1143', 'originChamber': 'Senate', 'originChamberCode': 'S', 'title': 'No TikTok on Government Devices Act', 'type': 'S', 'updateDateIncludingText': '2024-02-09T18:16:56Z', 'url': 'https://api.congress.gov/v3/bill/117/s/1143?format=json'}"
         ],
         "textposition": "top center",
         "type": "scatter",
         "x": [
          -6.733155250549316
         ],
         "y": [
          -2.2557053565979004
         ]
        },
        {
         "marker": {
          "size": 5
         },
         "mode": "markers+text",
         "text": [
          "{'congress': 117, 'number': '4764', 'originChamber': 'House', 'originChamberCode': 'H', 'title': 'No CRT for our Military Kids Act', 'type': 'HR', 'updateDateIncludingText': '2024-02-06T18:49:25Z', 'url': 'https://api.congress.gov/v3/bill/117/hr/4764?format=json'}"
         ],
         "textposition": "top center",
         "type": "scatter",
         "x": [
          -0.4120514988899231
         ],
         "y": [
          -6.136050701141357
         ]
        },
        {
         "marker": {
          "size": 5
         },
         "mode": "markers+text",
         "text": [
          "{'congress': 117, 'number': '5112', 'originChamber': 'House', 'originChamberCode': 'H', 'title': 'Space National Guard Establishment Act', 'type': 'HR', 'updateDateIncludingText': '2023-04-28T13:15:16Z', 'url': 'https://api.congress.gov/v3/bill/117/hr/5112?format=json'}"
         ],
         "textposition": "top center",
         "type": "scatter",
         "x": [
          3.6212401390075684
         ],
         "y": [
          -6.937572479248047
         ]
        },
        {
         "marker": {
          "size": 5
         },
         "mode": "markers+text",
         "text": [
          "{'congress': 117, 'number': '5105', 'originChamber': 'House', 'originChamberCode': 'H', 'title': 'National Defense Workforce Opportunity Act', 'type': 'HR', 'updateDateIncludingText': '2023-01-01T20:18:51Z', 'url': 'https://api.congress.gov/v3/bill/117/hr/5105?format=json'}"
         ],
         "textposition": "top center",
         "type": "scatter",
         "x": [
          6.267014980316162
         ],
         "y": [
          1.7346360683441162
         ]
        },
        {
         "marker": {
          "size": 5
         },
         "mode": "markers+text",
         "text": [
          "{'congress': 117, 'number': '2386', 'originChamber': 'Senate', 'originChamberCode': 'S', 'title': 'Veteran Peer Specialist Act of 2021', 'type': 'S', 'updateDateIncludingText': '2024-02-09T18:29:15Z', 'url': 'https://api.congress.gov/v3/bill/117/s/2386?format=json'}"
         ],
         "textposition": "top center",
         "type": "scatter",
         "x": [
          6.310464859008789
         ],
         "y": [
          -1.6948659420013428
         ]
        },
        {
         "marker": {
          "size": 5
         },
         "mode": "markers+text",
         "text": [
          "{'congress': 117, 'number': '681', 'originChamber': 'Senate', 'originChamberCode': 'S', 'title': 'A resolution recognizing the service of the Los Angeles-class attack submarine the USS Oklahoma City and the crews of the USS Oklahoma City, who served the United States with valor and bravery.', 'type': 'SRES', 'updateDateIncludingText': '2023-08-24T20:45:19Z', 'url': 'https://api.congress.gov/v3/bill/117/sres/681?format=json'}"
         ],
         "textposition": "top center",
         "type": "scatter",
         "x": [
          2.624112844467163
         ],
         "y": [
          2.73183274269104
         ]
        },
        {
         "marker": {
          "size": 5
         },
         "mode": "markers+text",
         "text": [
          "{'congress': 117, 'number': '2991', 'originChamber': 'Senate', 'originChamberCode': 'S', 'title': 'Countering Human Trafficking Act of 2021', 'type': 'S', 'updateDateIncludingText': '2024-02-09T18:16:56Z', 'url': 'https://api.congress.gov/v3/bill/117/s/2991?format=json'}"
         ],
         "textposition": "top center",
         "type": "scatter",
         "x": [
          3.2118682861328125
         ],
         "y": [
          -5.699984073638916
         ]
        },
        {
         "marker": {
          "size": 5
         },
         "mode": "markers+text",
         "text": [
          "{'congress': 117, 'number': '3285', 'originChamber': 'House', 'originChamberCode': 'H', 'title': '21st Century President Act', 'type': 'HR', 'updateDateIncludingText': '2023-11-10T04:56:30Z', 'url': 'https://api.congress.gov/v3/bill/117/hr/3285?format=json'}"
         ],
         "textposition": "top center",
         "type": "scatter",
         "x": [
          4.855676174163818
         ],
         "y": [
          -7.996829509735107
         ]
        },
        {
         "marker": {
          "size": 5
         },
         "mode": "markers+text",
         "text": [
          "{'congress': 117, 'number': '7735', 'originChamber': 'House', 'originChamberCode': 'H', 'title': 'Improving Access to the VA Home Loan Benefit Act of 2022', 'type': 'HR', 'updateDateIncludingText': '2024-02-07T16:16:30Z', 'url': 'https://api.congress.gov/v3/bill/117/hr/7735?format=json'}"
         ],
         "textposition": "top center",
         "type": "scatter",
         "x": [
          6.424374580383301
         ],
         "y": [
          -5.123208999633789
         ]
        },
        {
         "marker": {
          "size": 5
         },
         "mode": "markers+text",
         "text": [
          "{'congress': 117, 'number': '6961', 'originChamber': 'House', 'originChamberCode': 'H', 'title': 'Dignity for MST Survivors Act', 'type': 'HR', 'updateDateIncludingText': '2024-02-09T18:29:17Z', 'url': 'https://api.congress.gov/v3/bill/117/hr/6961?format=json'}"
         ],
         "textposition": "top center",
         "type": "scatter",
         "x": [
          8.492283821105957
         ],
         "y": [
          -6.548590660095215
         ]
        },
        {
         "marker": {
          "size": 5
         },
         "mode": "markers+text",
         "text": [
          "{'congress': 117, 'number': '3846', 'originChamber': 'Senate', 'originChamberCode': 'S', 'title': 'Justice and Mental Health Collaboration Reauthorization Act of 2022', 'type': 'S', 'updateDateIncludingText': '2023-01-11T13:50:20Z', 'url': 'https://api.congress.gov/v3/bill/117/s/3846?format=json'}"
         ],
         "textposition": "top center",
         "type": "scatter",
         "x": [
          -3.932159423828125
         ],
         "y": [
          1.359145998954773
         ]
        },
        {
         "marker": {
          "size": 5
         },
         "mode": "markers+text",
         "text": [
          "{'congress': 117, 'number': '559', 'originChamber': 'Senate', 'originChamberCode': 'S', 'title': \"A resolution expressing gratitude on behalf of the people of the United States to the journalists and news staff who are risking injury and death, are subject to grave threat, and have sacrificed their lives, to chronicle and report on the ongoing war in Ukraine resulting from the Russian Federation's invasion.\", 'type': 'SRES', 'updateDateIncludingText': '2024-02-09T17:08:30Z', 'url': 'https://api.congress.gov/v3/bill/117/sres/559?format=json'}"
         ],
         "textposition": "top center",
         "type": "scatter",
         "x": [
          3.445937395095825
         ],
         "y": [
          -4.428959369659424
         ]
        },
        {
         "marker": {
          "size": 5
         },
         "mode": "markers+text",
         "text": [
          "{'congress': 117, 'number': '966', 'originChamber': 'House', 'originChamberCode': 'H', 'title': \"Expressing the sense of the House of Representatives regarding the need for investigation and prosecution of the crime of aggression and other international crimes committed by officials of the Government of the Russian Federation against the Government and people of Ukraine, and calling on the President to direct the United States representative to the United Nations to use the voice, vote, and influence of the United States to immediately promote the establishment of an appropriate regional or international justice mechanism to investigate and prosecute possible international crimes stemming from the Russian invasion of Ukraine, and further calling upon the President to convoke and convene the world's democracies for the purposes of establishing such an international justice mechanism at the earliest possible time, and for other purposes.\", 'type': 'HRES', 'updateDateIncludingText': '2024-02-07T11:38:03Z', 'url': 'https://api.congress.gov/v3/bill/117/hres/966?format=json'}"
         ],
         "textposition": "top center",
         "type": "scatter",
         "x": [
          6.7041335105896
         ],
         "y": [
          -3.5895566940307617
         ]
        },
        {
         "marker": {
          "size": 5
         },
         "mode": "markers+text",
         "text": [
          "{'congress': 117, 'number': '499', 'originChamber': 'Senate', 'originChamberCode': 'S', 'title': 'A resolution celebrating 100 years of diplomatic relations between the United States and the Baltic States.', 'type': 'SRES', 'updateDateIncludingText': '2024-02-09T17:08:30Z', 'url': 'https://api.congress.gov/v3/bill/117/sres/499?format=json'}"
         ],
         "textposition": "top center",
         "type": "scatter",
         "x": [
          6.5325469970703125
         ],
         "y": [
          -8.853771209716797
         ]
        },
        {
         "marker": {
          "size": 5
         },
         "mode": "markers+text",
         "text": [
          "{'congress': 117, 'number': '1531', 'originChamber': 'House', 'originChamberCode': 'H', 'title': 'Providing for consideration of the Senate amendment to the House amendment to the Senate amendment to the bill (H.R. 2617) to amend section 1115 of title 31, United States Code, to amend the description of how performance goals are achieved, and for other purposes; relating to consideration of the Senate amendment to the bill (H.R. 4373) making appropriations for the Department of State, foreign operations, and related programs for the fiscal year ending September 30, 2022, and for other purposes; relating to consideration of the Senate amendments to the bill (H.R. 1082) to prohibit the unauthorized sale of ride-hailing signage and study the incidence of fatal and non-fatal assaults in TNC and for-hire vehicles in order to enhance safety and save lives; and for other purposes.', 'type': 'HRES', 'updateDateIncludingText': '2024-02-07T14:47:33Z', 'url': 'https://api.congress.gov/v3/bill/117/hres/1531?format=json'}"
         ],
         "textposition": "top center",
         "type": "scatter",
         "x": [
          1.9393607378005981
         ],
         "y": [
          -4.1795806884765625
         ]
        },
        {
         "marker": {
          "size": 5
         },
         "mode": "markers+text",
         "text": [
          "{'congress': 117, 'number': '9694', 'originChamber': 'House', 'originChamberCode': 'H', 'title': 'For the relief of Jan van Hoek.', 'type': 'HR', 'updateDateIncludingText': '2024-02-05T14:30:09Z', 'url': 'https://api.congress.gov/v3/bill/117/hr/9694?format=json'}"
         ],
         "textposition": "top center",
         "type": "scatter",
         "x": [
          -0.09086313843727112
         ],
         "y": [
          -3.9107093811035156
         ]
        },
        {
         "marker": {
          "size": 5
         },
         "mode": "markers+text",
         "text": [
          "{'congress': 117, 'number': '4293', 'originChamber': 'Senate', 'originChamberCode': 'S', 'title': 'Pharmacy Benefit Manager Transparency Act of 2022', 'type': 'S', 'updateDateIncludingText': '2024-02-16T15:34:59Z', 'url': 'https://api.congress.gov/v3/bill/117/s/4293?format=json'}"
         ],
         "textposition": "top center",
         "type": "scatter",
         "x": [
          1.1778416633605957
         ],
         "y": [
          -6.793469429016113
         ]
        },
        {
         "marker": {
          "size": 5
         },
         "mode": "markers+text",
         "text": [
          "{'congress': 117, 'number': '4894', 'originChamber': 'Senate', 'originChamberCode': 'S', 'title': 'Improving Government Efficiency and Workforce Development through Federal Executive Boards Act of 2022', 'type': 'S', 'updateDateIncludingText': '2024-02-09T18:16:56Z', 'url': 'https://api.congress.gov/v3/bill/117/s/4894?format=json'}"
         ],
         "textposition": "top center",
         "type": "scatter",
         "x": [
          -2.1744399070739746
         ],
         "y": [
          -7.012557506561279
         ]
        },
        {
         "marker": {
          "size": 5
         },
         "mode": "markers+text",
         "text": [
          "{'congress': 117, 'number': '5203', 'originChamber': 'Senate', 'originChamberCode': 'S', 'title': 'Bring Our Heroes Home Act', 'type': 'S', 'updateDateIncludingText': '2024-02-09T18:16:56Z', 'url': 'https://api.congress.gov/v3/bill/117/s/5203?format=json'}"
         ],
         "textposition": "top center",
         "type": "scatter",
         "x": [
          8.950174331665039
         ],
         "y": [
          -5.406591415405273
         ]
        },
        {
         "marker": {
          "size": 5
         },
         "mode": "markers+text",
         "text": [
          "{'congress': 117, 'number': '2540', 'originChamber': 'Senate', 'originChamberCode': 'S', 'title': 'CISA Technical Corrections and Improvements Act of 2021', 'type': 'S', 'updateDateIncludingText': '2024-02-09T18:16:56Z', 'url': 'https://api.congress.gov/v3/bill/117/s/2540?format=json'}"
         ],
         "textposition": "top center",
         "type": "scatter",
         "x": [
          8.012797355651855
         ],
         "y": [
          -3.24627423286438
         ]
        },
        {
         "marker": {
          "size": 5
         },
         "mode": "markers+text",
         "text": [
          "{'congress': 117, 'number': '2541', 'originChamber': 'Senate', 'originChamberCode': 'S', 'title': 'Shadow Wolves Enhancement Act', 'type': 'S', 'updateDateIncludingText': '2024-02-09T18:16:56Z', 'url': 'https://api.congress.gov/v3/bill/117/s/2541?format=json'}"
         ],
         "textposition": "top center",
         "type": "scatter",
         "x": [
          1.2193589210510254
         ],
         "y": [
          -0.18575339019298553
         ]
        },
        {
         "marker": {
          "size": 5
         },
         "mode": "markers+text",
         "text": [
          "{'congress': 117, 'number': '5961', 'originChamber': 'House', 'originChamberCode': 'H', 'title': 'To make revisions in title 5, United States Code, as necessary to keep the title current, and to make technical amendments to improve the United States Code.', 'type': 'HR', 'updateDateIncludingText': '2023-03-08T20:26:24Z', 'url': 'https://api.congress.gov/v3/bill/117/hr/5961?format=json'}"
         ],
         "textposition": "top center",
         "type": "scatter",
         "x": [
          1.8763483762741089
         ],
         "y": [
          -1.07743501663208
         ]
        },
        {
         "marker": {
          "size": 5
         },
         "mode": "markers+text",
         "text": [
          "{'congress': 117, 'number': '2899', 'originChamber': 'Senate', 'originChamberCode': 'S', 'title': 'Prison Camera Reform Act of 2021', 'type': 'S', 'updateDateIncludingText': '2023-01-11T13:50:19Z', 'url': 'https://api.congress.gov/v3/bill/117/s/2899?format=json'}"
         ],
         "textposition": "top center",
         "type": "scatter",
         "x": [
          -2.3769469261169434
         ],
         "y": [
          -4.123594760894775
         ]
        },
        {
         "marker": {
          "size": 5
         },
         "mode": "markers+text",
         "text": [
          "{'congress': 117, 'number': '8526', 'originChamber': 'House', 'originChamberCode': 'H', 'title': 'Office of Disaster Recovery Act', 'type': 'HR', 'updateDateIncludingText': '2024-02-07T16:02:17Z', 'url': 'https://api.congress.gov/v3/bill/117/hr/8526?format=json'}"
         ],
         "textposition": "top center",
         "type": "scatter",
         "x": [
          1.1500930786132812
         ],
         "y": [
          0.7798293828964233
         ]
        },
        {
         "marker": {
          "size": 5
         },
         "mode": "markers+text",
         "text": [
          "{'congress': 117, 'number': '7211', 'originChamber': 'House', 'originChamberCode': 'H', 'title': 'Small State and Rural Rescue Act', 'type': 'HR', 'updateDateIncludingText': '2024-02-09T18:16:56Z', 'url': 'https://api.congress.gov/v3/bill/117/hr/7211?format=json'}"
         ],
         "textposition": "top center",
         "type": "scatter",
         "x": [
          5.483048439025879
         ],
         "y": [
          -3.2704453468322754
         ]
        },
        {
         "marker": {
          "size": 5
         },
         "mode": "markers+text",
         "text": [
          "{'congress': 117, 'number': '8606', 'originChamber': 'House', 'originChamberCode': 'H', 'title': 'To amend title 49, United States Code, to prohibit the extension of certain contracts to procure rail rolling stock, and for other purposes.', 'type': 'HR', 'updateDateIncludingText': '2024-02-07T16:02:17Z', 'url': 'https://api.congress.gov/v3/bill/117/hr/8606?format=json'}"
         ],
         "textposition": "top center",
         "type": "scatter",
         "x": [
          2.618457078933716
         ],
         "y": [
          -7.612547397613525
         ]
        },
        {
         "marker": {
          "size": 5
         },
         "mode": "markers+text",
         "text": [
          "{'congress': 117, 'number': '8607', 'originChamber': 'House', 'originChamberCode': 'H', 'title': 'To direct the Secretary of Transportation to give priority consideration for certain Department of Transportation grant programs to eligible projects that improve or build resiliency in the supply chain, and for other purposes.', 'type': 'HR', 'updateDateIncludingText': '2024-02-07T16:02:17Z', 'url': 'https://api.congress.gov/v3/bill/117/hr/8607?format=json'}"
         ],
         "textposition": "top center",
         "type": "scatter",
         "x": [
          4.0666375160217285
         ],
         "y": [
          0.8515909910202026
         ]
        },
        {
         "marker": {
          "size": 5
         },
         "mode": "markers+text",
         "text": [
          "{'congress': 117, 'number': '1305', 'originChamber': 'House', 'originChamberCode': 'H', 'title': 'Recognizing Islam as one of the great religions of the world.', 'type': 'HRES', 'updateDateIncludingText': '2024-02-07T11:38:03Z', 'url': 'https://api.congress.gov/v3/bill/117/hres/1305?format=json'}"
         ],
         "textposition": "top center",
         "type": "scatter",
         "x": [
          6.570694446563721
         ],
         "y": [
          -1.9651254415512085
         ]
        },
        {
         "marker": {
          "size": 5
         },
         "mode": "markers+text",
         "text": [
          "{'congress': 117, 'number': '731', 'originChamber': 'Senate', 'originChamberCode': 'S', 'title': 'A resolution expressing support for the recognition of July 2022 as \"Muslim-American Heritage Month\" and celebrating the heritage and culture of Muslim Americans in the United States.', 'type': 'SRES', 'updateDateIncludingText': '2022-12-31T05:24:31Z', 'url': 'https://api.congress.gov/v3/bill/117/sres/731?format=json'}"
         ],
         "textposition": "top center",
         "type": "scatter",
         "x": [
          6.556668758392334
         ],
         "y": [
          -0.7212889194488525
         ]
        },
        {
         "marker": {
          "size": 5
         },
         "mode": "markers+text",
         "text": [
          "{'congress': 117, 'number': '4665', 'originChamber': 'Senate', 'originChamberCode': 'S', 'title': 'Cash Refunds for Flight Cancellations Act of 2022', 'type': 'S', 'updateDateIncludingText': '2024-02-16T15:34:59Z', 'url': 'https://api.congress.gov/v3/bill/117/s/4665?format=json'}"
         ],
         "textposition": "top center",
         "type": "scatter",
         "x": [
          0.11658697575330734
         ],
         "y": [
          -2.8097238540649414
         ]
        },
        {
         "marker": {
          "size": 5
         },
         "mode": "markers+text",
         "text": [
          "{'congress': 117, 'number': '2989', 'originChamber': 'Senate', 'originChamberCode': 'S', 'title': 'DHS Blue Campaign Enhancement Act', 'type': 'S', 'updateDateIncludingText': '2024-02-09T18:16:56Z', 'url': 'https://api.congress.gov/v3/bill/117/s/2989?format=json'}"
         ],
         "textposition": "top center",
         "type": "scatter",
         "x": [
          4.316810131072998
         ],
         "y": [
          -4.734105587005615
         ]
        },
        {
         "marker": {
          "size": 5
         },
         "mode": "markers+text",
         "text": [
          "{'congress': 117, 'number': '1434', 'originChamber': 'House', 'originChamberCode': 'H', 'title': 'Reaffirming the preemptive authority of the Federal Food, Drug, and Cosmetic Act (21 U.S.C. 301 et seq.) and the Public Health Service Act (42 U.S.C. 201 et seq.) (including regulations thereunder) with respect to State laws that inhibit access to or use of any reproductive health product.', 'type': 'HRES', 'updateDateIncludingText': '2024-02-05T14:30:09Z', 'url': 'https://api.congress.gov/v3/bill/117/hres/1434?format=json'}"
         ],
         "textposition": "top center",
         "type": "scatter",
         "x": [
          0.24674414098262787
         ],
         "y": [
          -2.8659684658050537
         ]
        },
        {
         "marker": {
          "size": 5
         },
         "mode": "markers+text",
         "text": [
          "{'congress': 117, 'number': '2801', 'originChamber': 'Senate', 'originChamberCode': 'S', 'title': 'SMART Act of 2022', 'type': 'S', 'updateDateIncludingText': '2024-02-09T18:16:56Z', 'url': 'https://api.congress.gov/v3/bill/117/s/2801?format=json'}"
         ],
         "textposition": "top center",
         "type": "scatter",
         "x": [
          -0.29850029945373535
         ],
         "y": [
          2.994506359100342
         ]
        },
        {
         "marker": {
          "size": 5
         },
         "mode": "markers+text",
         "text": [
          "{'congress': 117, 'number': '4619', 'originChamber': 'Senate', 'originChamberCode': 'S', 'title': 'Fair Access to Financial Services Act of 2022', 'type': 'S', 'updateDateIncludingText': '2024-02-16T15:28:31Z', 'url': 'https://api.congress.gov/v3/bill/117/s/4619?format=json'}"
         ],
         "textposition": "top center",
         "type": "scatter",
         "x": [
          -0.19949200749397278
         ],
         "y": [
          -8.093302726745605
         ]
        },
        {
         "marker": {
          "size": 5
         },
         "mode": "markers+text",
         "text": [
          "{'congress': 117, 'number': '2801', 'originChamber': 'Senate', 'originChamberCode': 'S', 'title': 'SMART Act of 2022', 'type': 'S', 'updateDateIncludingText': '2024-02-09T18:16:56Z', 'url': 'https://api.congress.gov/v3/bill/117/s/2801?format=json'}"
         ],
         "textposition": "top center",
         "type": "scatter",
         "x": [
          2.324784517288208
         ],
         "y": [
          -1.499791145324707
         ]
        },
        {
         "marker": {
          "size": 5
         },
         "mode": "markers+text",
         "text": [
          "{'congress': 117, 'number': '5060', 'originChamber': 'Senate', 'originChamberCode': 'S', 'title': 'Paul D. Wellstone Building Act of 2022', 'type': 'S', 'updateDateIncludingText': '2024-02-16T19:19:39Z', 'url': 'https://api.congress.gov/v3/bill/117/s/5060?format=json'}"
         ],
         "textposition": "top center",
         "type": "scatter",
         "x": [
          -2.938380479812622
         ],
         "y": [
          -2.8391053676605225
         ]
        },
        {
         "marker": {
          "size": 5
         },
         "mode": "markers+text",
         "text": [
          "{'congress': 117, 'number': '8574', 'originChamber': 'House', 'originChamberCode': 'H', 'title': 'Global Catastrophic Risk Management Act of 2022', 'type': 'HR', 'updateDateIncludingText': '2024-02-07T16:02:17Z', 'url': 'https://api.congress.gov/v3/bill/117/hr/8574?format=json'}"
         ],
         "textposition": "top center",
         "type": "scatter",
         "x": [
          -5.810731887817383
         ],
         "y": [
          -6.011207103729248
         ]
        },
        {
         "marker": {
          "size": 5
         },
         "mode": "markers+text",
         "text": [
          "{'congress': 117, 'number': '8525', 'originChamber': 'House', 'originChamberCode': 'H', 'title': 'Delivering Equity and Justice for Disaster Survivors Act of 2022', 'type': 'HR', 'updateDateIncludingText': '2024-02-07T16:02:17Z', 'url': 'https://api.congress.gov/v3/bill/117/hr/8525?format=json'}"
         ],
         "textposition": "top center",
         "type": "scatter",
         "x": [
          -2.585391044616699
         ],
         "y": [
          -5.405068397521973
         ]
        },
        {
         "marker": {
          "size": 5
         },
         "mode": "markers+text",
         "text": [
          "{'congress': 117, 'number': '5168', 'originChamber': 'Senate', 'originChamberCode': 'S', 'title': 'Energy Security and Lightering Independence Act of 2022', 'type': 'S', 'updateDateIncludingText': '2023-09-05T17:28:35Z', 'url': 'https://api.congress.gov/v3/bill/117/s/5168?format=json'}"
         ],
         "textposition": "top center",
         "type": "scatter",
         "x": [
          8.460567474365234
         ],
         "y": [
          -1.471758246421814
         ]
        },
        {
         "marker": {
          "size": 5
         },
         "mode": "markers+text",
         "text": [
          "{'congress': 117, 'number': '4682', 'originChamber': 'Senate', 'originChamberCode': 'S', 'title': 'Defense Production Oversight Act of 2022', 'type': 'S', 'updateDateIncludingText': '2024-02-16T15:28:31Z', 'url': 'https://api.congress.gov/v3/bill/117/s/4682?format=json'}"
         ],
         "textposition": "top center",
         "type": "scatter",
         "x": [
          4.103365898132324
         ],
         "y": [
          -2.3294737339019775
         ]
        },
        {
         "marker": {
          "size": 5
         },
         "mode": "markers+text",
         "text": [
          "{'congress': 117, 'number': '8623', 'originChamber': 'House', 'originChamberCode': 'H', 'title': 'Member SECURE Act', 'type': 'HR', 'updateDateIncludingText': '2024-02-07T11:39:48Z', 'url': 'https://api.congress.gov/v3/bill/117/hr/8623?format=json'}"
         ],
         "textposition": "top center",
         "type": "scatter",
         "x": [
          5.700547218322754
         ],
         "y": [
          -1.6238774061203003
         ]
        },
        {
         "marker": {
          "size": 5
         },
         "mode": "markers+text",
         "text": [
          "{'congress': 117, 'number': '4834', 'originChamber': 'Senate', 'originChamberCode': 'S', 'title': 'PROTECT Our Children Act of 2022', 'type': 'S', 'updateDateIncludingText': '2023-11-09T21:13:47Z', 'url': 'https://api.congress.gov/v3/bill/117/s/4834?format=json'}"
         ],
         "textposition": "top center",
         "type": "scatter",
         "x": [
          -1.7869081497192383
         ],
         "y": [
          -2.6640143394470215
         ]
        },
        {
         "marker": {
          "size": 5
         },
         "mode": "markers+text",
         "text": [
          "{'congress': 117, 'number': '3115', 'originChamber': 'Senate', 'originChamberCode': 'S', 'title': 'POWER 2.0 Act', 'type': 'S', 'updateDateIncludingText': '2023-01-01T23:48:26Z', 'url': 'https://api.congress.gov/v3/bill/117/s/3115?format=json'}"
         ],
         "textposition": "top center",
         "type": "scatter",
         "x": [
          2.6578104496002197
         ],
         "y": [
          -0.7748349905014038
         ]
        },
        {
         "marker": {
          "size": 5
         },
         "mode": "markers+text",
         "text": [
          "{'congress': 117, 'number': '4101', 'originChamber': 'Senate', 'originChamberCode': 'S', 'title': 'Combating Human Rights Abuses Act of 2022', 'type': 'S', 'updateDateIncludingText': '2024-02-16T15:34:59Z', 'url': 'https://api.congress.gov/v3/bill/117/s/4101?format=json'}"
         ],
         "textposition": "top center",
         "type": "scatter",
         "x": [
          -1.9685394763946533
         ],
         "y": [
          -7.8713226318359375
         ]
        },
        {
         "marker": {
          "size": 5
         },
         "mode": "markers+text",
         "text": [
          "{'congress': 117, 'number': '4621', 'originChamber': 'Senate', 'originChamberCode': 'S', 'title': 'Next Generation Fuels Act of 2022', 'type': 'S', 'updateDateIncludingText': '2022-12-31T05:16:10Z', 'url': 'https://api.congress.gov/v3/bill/117/s/4621?format=json'}"
         ],
         "textposition": "top center",
         "type": "scatter",
         "x": [
          -3.7359142303466797
         ],
         "y": [
          -5.609371662139893
         ]
        },
        {
         "marker": {
          "size": 5
         },
         "mode": "markers+text",
         "text": [
          "{'congress': 117, 'number': '8516', 'originChamber': 'House', 'originChamberCode': 'H', 'title': 'Wildfire Response Improvement Act', 'type': 'HR', 'updateDateIncludingText': '2024-02-07T16:02:17Z', 'url': 'https://api.congress.gov/v3/bill/117/hr/8516?format=json'}"
         ],
         "textposition": "top center",
         "type": "scatter",
         "x": [
          -3.7476959228515625
         ],
         "y": [
          1.8781156539916992
         ]
        },
        {
         "marker": {
          "size": 5
         },
         "mode": "markers+text",
         "text": [
          "{'congress': 117, 'number': '7777', 'originChamber': 'House', 'originChamberCode': 'H', 'title': 'Industrial Control Systems Cybersecurity Training Act', 'type': 'HR', 'updateDateIncludingText': '2024-02-09T18:16:56Z', 'url': 'https://api.congress.gov/v3/bill/117/hr/7777?format=json'}"
         ],
         "textposition": "top center",
         "type": "scatter",
         "x": [
          -3.8372795581817627
         ],
         "y": [
          -6.41909122467041
         ]
        },
        {
         "marker": {
          "size": 5
         },
         "mode": "markers+text",
         "text": [
          "{'congress': 117, 'number': '8267', 'originChamber': 'House', 'originChamberCode': 'H', 'title': 'Container Missile Notification Act', 'type': 'HR', 'updateDateIncludingText': '2024-02-07T11:40:31Z', 'url': 'https://api.congress.gov/v3/bill/117/hr/8267?format=json'}"
         ],
         "textposition": "top center",
         "type": "scatter",
         "x": [
          -5.2796807289123535
         ],
         "y": [
          -4.21884822845459
         ]
        },
        {
         "marker": {
          "size": 5
         },
         "mode": "markers+text",
         "text": [
          "{'congress': 117, 'number': '9484', 'originChamber': 'House', 'originChamberCode': 'H', 'title': 'Election Mail Act', 'type': 'HR', 'updateDateIncludingText': '2024-02-07T13:33:49Z', 'url': 'https://api.congress.gov/v3/bill/117/hr/9484?format=json'}"
         ],
         "textposition": "top center",
         "type": "scatter",
         "x": [
          -5.858960151672363
         ],
         "y": [
          -6.007434368133545
         ]
        },
        {
         "marker": {
          "size": 5
         },
         "mode": "markers+text",
         "text": [
          "{'congress': 117, 'number': '8259', 'originChamber': 'House', 'originChamberCode': 'H', 'title': 'Arms Exports Delivery Solutions Act', 'type': 'HR', 'updateDateIncludingText': '2024-02-07T11:42:27Z', 'url': 'https://api.congress.gov/v3/bill/117/hr/8259?format=json'}"
         ],
         "textposition": "top center",
         "type": "scatter",
         "x": [
          -1.009942650794983
         ],
         "y": [
          -2.1471927165985107
         ]
        },
        {
         "marker": {
          "size": 5
         },
         "mode": "markers+text",
         "text": [
          "{'congress': 117, 'number': '4466', 'originChamber': 'Senate', 'originChamberCode': 'S', 'title': 'Peace Corps Reauthorization Act of 2022', 'type': 'S', 'updateDateIncludingText': '2024-02-09T17:08:30Z', 'url': 'https://api.congress.gov/v3/bill/117/s/4466?format=json'}"
         ],
         "textposition": "top center",
         "type": "scatter",
         "x": [
          0.5184521675109863
         ],
         "y": [
          -0.09780673682689667
         ]
        },
        {
         "marker": {
          "size": 5
         },
         "mode": "markers+text",
         "text": [
          "{'congress': 117, 'number': '8603', 'originChamber': 'House', 'originChamberCode': 'H', 'title': 'To direct the President to take such actions as may be necessary to prohibit the purchase of public or private real estate located in the United States by an foreign governments.', 'type': 'HR', 'updateDateIncludingText': '2024-02-07T11:38:03Z', 'url': 'https://api.congress.gov/v3/bill/117/hr/8603?format=json'}"
         ],
         "textposition": "top center",
         "type": "scatter",
         "x": [
          -3.5844943523406982
         ],
         "y": [
          -7.630749225616455
         ]
        },
        {
         "marker": {
          "size": 5
         },
         "mode": "markers+text",
         "text": [
          "{'congress': 117, 'number': '8562', 'originChamber': 'House', 'originChamberCode': 'H', 'title': 'Defense Production Oversight Act of 2022', 'type': 'HR', 'updateDateIncludingText': '2024-02-07T14:47:33Z', 'url': 'https://api.congress.gov/v3/bill/117/hr/8562?format=json'}"
         ],
         "textposition": "top center",
         "type": "scatter",
         "x": [
          2.564274549484253
         ],
         "y": [
          -0.6776793003082275
         ]
        },
        {
         "marker": {
          "size": 5
         },
         "mode": "markers+text",
         "text": [
          "{'congress': 117, 'number': '2793', 'originChamber': 'Senate', 'originChamberCode': 'S', 'title': 'SMART Leasing Act', 'type': 'S', 'updateDateIncludingText': '2024-02-09T18:16:56Z', 'url': 'https://api.congress.gov/v3/bill/117/s/2793?format=json'}"
         ],
         "textposition": "top center",
         "type": "scatter",
         "x": [
          3.732599973678589
         ],
         "y": [
          -8.213529586791992
         ]
        },
        {
         "marker": {
          "size": 5
         },
         "mode": "markers+text",
         "text": [
          "{'congress': 117, 'number': '7085', 'originChamber': 'House', 'originChamberCode': 'H', 'title': 'To amend the Public Works and Economic Development Act of 1965 to authorize the Secretary of Commerce to make predevelopment grants, and for other purposes.', 'type': 'HR', 'updateDateIncludingText': '2024-02-07T16:02:17Z', 'url': 'https://api.congress.gov/v3/bill/117/hr/7085?format=json'}"
         ],
         "textposition": "top center",
         "type": "scatter",
         "x": [
          7.628809452056885
         ],
         "y": [
          -3.380164861679077
         ]
        },
        {
         "marker": {
          "size": 5
         },
         "mode": "markers+text",
         "text": [
          "{'congress': 117, 'number': '8520', 'originChamber': 'House', 'originChamberCode': 'H', 'title': 'Countering Untrusted Telecommunications Abroad Act', 'type': 'HR', 'updateDateIncludingText': '2024-02-09T17:08:30Z', 'url': 'https://api.congress.gov/v3/bill/117/hr/8520?format=json'}"
         ],
         "textposition": "top center",
         "type": "scatter",
         "x": [
          -0.6074866056442261
         ],
         "y": [
          -0.5597922205924988
         ]
        },
        {
         "marker": {
          "size": 5
         },
         "mode": "markers+text",
         "text": [
          "{'congress': 117, 'number': '1066', 'originChamber': 'House', 'originChamberCode': 'H', 'title': 'Wildfire Recovery Act', 'type': 'HR', 'updateDateIncludingText': '2024-02-07T16:02:17Z', 'url': 'https://api.congress.gov/v3/bill/117/hr/1066?format=json'}"
         ],
         "textposition": "top center",
         "type": "scatter",
         "x": [
          4.925207614898682
         ],
         "y": [
          -11.128912925720215
         ]
        },
        {
         "marker": {
          "size": 5
         },
         "mode": "markers+text",
         "text": [
          "{'congress': 117, 'number': '6064', 'originChamber': 'House', 'originChamberCode': 'H', 'title': 'To direct the Secretary of Veterans Affairs to seek to enter into an agreement with the National Academies of Sciences, Engineering, and Medicine for a review of examinations, furnished by the Secretary, to individuals who submit claims to the Secretary for compensation under chapter 11 of title 38, United States Code, for mental and physical conditions linked to military sexual trauma.', 'type': 'HR', 'updateDateIncludingText': '2024-02-09T18:29:17Z', 'url': 'https://api.congress.gov/v3/bill/117/hr/6064?format=json'}"
         ],
         "textposition": "top center",
         "type": "scatter",
         "x": [
          4.894449234008789
         ],
         "y": [
          -10.21583080291748
         ]
        },
        {
         "marker": {
          "size": 5
         },
         "mode": "markers+text",
         "text": [
          "{'congress': 117, 'number': '120', 'originChamber': 'House', 'originChamberCode': 'H', 'title': 'Recognizing international days of peace, coexistence, and cooperation.', 'type': 'HCONRES', 'updateDateIncludingText': '2024-02-07T13:33:49Z', 'url': 'https://api.congress.gov/v3/bill/117/hconres/120?format=json'}"
         ],
         "textposition": "top center",
         "type": "scatter",
         "x": [
          4.149695873260498
         ],
         "y": [
          -11.324813842773438
         ]
        }
       ],
       "layout": {
        "height": 800,
        "template": {
         "data": {
          "bar": [
           {
            "error_x": {
             "color": "#2a3f5f"
            },
            "error_y": {
             "color": "#2a3f5f"
            },
            "marker": {
             "line": {
              "color": "#E5ECF6",
              "width": 0.5
             },
             "pattern": {
              "fillmode": "overlay",
              "size": 10,
              "solidity": 0.2
             }
            },
            "type": "bar"
           }
          ],
          "barpolar": [
           {
            "marker": {
             "line": {
              "color": "#E5ECF6",
              "width": 0.5
             },
             "pattern": {
              "fillmode": "overlay",
              "size": 10,
              "solidity": 0.2
             }
            },
            "type": "barpolar"
           }
          ],
          "carpet": [
           {
            "aaxis": {
             "endlinecolor": "#2a3f5f",
             "gridcolor": "white",
             "linecolor": "white",
             "minorgridcolor": "white",
             "startlinecolor": "#2a3f5f"
            },
            "baxis": {
             "endlinecolor": "#2a3f5f",
             "gridcolor": "white",
             "linecolor": "white",
             "minorgridcolor": "white",
             "startlinecolor": "#2a3f5f"
            },
            "type": "carpet"
           }
          ],
          "choropleth": [
           {
            "colorbar": {
             "outlinewidth": 0,
             "ticks": ""
            },
            "type": "choropleth"
           }
          ],
          "contour": [
           {
            "colorbar": {
             "outlinewidth": 0,
             "ticks": ""
            },
            "colorscale": [
             [
              0,
              "#0d0887"
             ],
             [
              0.1111111111111111,
              "#46039f"
             ],
             [
              0.2222222222222222,
              "#7201a8"
             ],
             [
              0.3333333333333333,
              "#9c179e"
             ],
             [
              0.4444444444444444,
              "#bd3786"
             ],
             [
              0.5555555555555556,
              "#d8576b"
             ],
             [
              0.6666666666666666,
              "#ed7953"
             ],
             [
              0.7777777777777778,
              "#fb9f3a"
             ],
             [
              0.8888888888888888,
              "#fdca26"
             ],
             [
              1,
              "#f0f921"
             ]
            ],
            "type": "contour"
           }
          ],
          "contourcarpet": [
           {
            "colorbar": {
             "outlinewidth": 0,
             "ticks": ""
            },
            "type": "contourcarpet"
           }
          ],
          "heatmap": [
           {
            "colorbar": {
             "outlinewidth": 0,
             "ticks": ""
            },
            "colorscale": [
             [
              0,
              "#0d0887"
             ],
             [
              0.1111111111111111,
              "#46039f"
             ],
             [
              0.2222222222222222,
              "#7201a8"
             ],
             [
              0.3333333333333333,
              "#9c179e"
             ],
             [
              0.4444444444444444,
              "#bd3786"
             ],
             [
              0.5555555555555556,
              "#d8576b"
             ],
             [
              0.6666666666666666,
              "#ed7953"
             ],
             [
              0.7777777777777778,
              "#fb9f3a"
             ],
             [
              0.8888888888888888,
              "#fdca26"
             ],
             [
              1,
              "#f0f921"
             ]
            ],
            "type": "heatmap"
           }
          ],
          "heatmapgl": [
           {
            "colorbar": {
             "outlinewidth": 0,
             "ticks": ""
            },
            "colorscale": [
             [
              0,
              "#0d0887"
             ],
             [
              0.1111111111111111,
              "#46039f"
             ],
             [
              0.2222222222222222,
              "#7201a8"
             ],
             [
              0.3333333333333333,
              "#9c179e"
             ],
             [
              0.4444444444444444,
              "#bd3786"
             ],
             [
              0.5555555555555556,
              "#d8576b"
             ],
             [
              0.6666666666666666,
              "#ed7953"
             ],
             [
              0.7777777777777778,
              "#fb9f3a"
             ],
             [
              0.8888888888888888,
              "#fdca26"
             ],
             [
              1,
              "#f0f921"
             ]
            ],
            "type": "heatmapgl"
           }
          ],
          "histogram": [
           {
            "marker": {
             "pattern": {
              "fillmode": "overlay",
              "size": 10,
              "solidity": 0.2
             }
            },
            "type": "histogram"
           }
          ],
          "histogram2d": [
           {
            "colorbar": {
             "outlinewidth": 0,
             "ticks": ""
            },
            "colorscale": [
             [
              0,
              "#0d0887"
             ],
             [
              0.1111111111111111,
              "#46039f"
             ],
             [
              0.2222222222222222,
              "#7201a8"
             ],
             [
              0.3333333333333333,
              "#9c179e"
             ],
             [
              0.4444444444444444,
              "#bd3786"
             ],
             [
              0.5555555555555556,
              "#d8576b"
             ],
             [
              0.6666666666666666,
              "#ed7953"
             ],
             [
              0.7777777777777778,
              "#fb9f3a"
             ],
             [
              0.8888888888888888,
              "#fdca26"
             ],
             [
              1,
              "#f0f921"
             ]
            ],
            "type": "histogram2d"
           }
          ],
          "histogram2dcontour": [
           {
            "colorbar": {
             "outlinewidth": 0,
             "ticks": ""
            },
            "colorscale": [
             [
              0,
              "#0d0887"
             ],
             [
              0.1111111111111111,
              "#46039f"
             ],
             [
              0.2222222222222222,
              "#7201a8"
             ],
             [
              0.3333333333333333,
              "#9c179e"
             ],
             [
              0.4444444444444444,
              "#bd3786"
             ],
             [
              0.5555555555555556,
              "#d8576b"
             ],
             [
              0.6666666666666666,
              "#ed7953"
             ],
             [
              0.7777777777777778,
              "#fb9f3a"
             ],
             [
              0.8888888888888888,
              "#fdca26"
             ],
             [
              1,
              "#f0f921"
             ]
            ],
            "type": "histogram2dcontour"
           }
          ],
          "mesh3d": [
           {
            "colorbar": {
             "outlinewidth": 0,
             "ticks": ""
            },
            "type": "mesh3d"
           }
          ],
          "parcoords": [
           {
            "line": {
             "colorbar": {
              "outlinewidth": 0,
              "ticks": ""
             }
            },
            "type": "parcoords"
           }
          ],
          "pie": [
           {
            "automargin": true,
            "type": "pie"
           }
          ],
          "scatter": [
           {
            "fillpattern": {
             "fillmode": "overlay",
             "size": 10,
             "solidity": 0.2
            },
            "type": "scatter"
           }
          ],
          "scatter3d": [
           {
            "line": {
             "colorbar": {
              "outlinewidth": 0,
              "ticks": ""
             }
            },
            "marker": {
             "colorbar": {
              "outlinewidth": 0,
              "ticks": ""
             }
            },
            "type": "scatter3d"
           }
          ],
          "scattercarpet": [
           {
            "marker": {
             "colorbar": {
              "outlinewidth": 0,
              "ticks": ""
             }
            },
            "type": "scattercarpet"
           }
          ],
          "scattergeo": [
           {
            "marker": {
             "colorbar": {
              "outlinewidth": 0,
              "ticks": ""
             }
            },
            "type": "scattergeo"
           }
          ],
          "scattergl": [
           {
            "marker": {
             "colorbar": {
              "outlinewidth": 0,
              "ticks": ""
             }
            },
            "type": "scattergl"
           }
          ],
          "scattermapbox": [
           {
            "marker": {
             "colorbar": {
              "outlinewidth": 0,
              "ticks": ""
             }
            },
            "type": "scattermapbox"
           }
          ],
          "scatterpolar": [
           {
            "marker": {
             "colorbar": {
              "outlinewidth": 0,
              "ticks": ""
             }
            },
            "type": "scatterpolar"
           }
          ],
          "scatterpolargl": [
           {
            "marker": {
             "colorbar": {
              "outlinewidth": 0,
              "ticks": ""
             }
            },
            "type": "scatterpolargl"
           }
          ],
          "scatterternary": [
           {
            "marker": {
             "colorbar": {
              "outlinewidth": 0,
              "ticks": ""
             }
            },
            "type": "scatterternary"
           }
          ],
          "surface": [
           {
            "colorbar": {
             "outlinewidth": 0,
             "ticks": ""
            },
            "colorscale": [
             [
              0,
              "#0d0887"
             ],
             [
              0.1111111111111111,
              "#46039f"
             ],
             [
              0.2222222222222222,
              "#7201a8"
             ],
             [
              0.3333333333333333,
              "#9c179e"
             ],
             [
              0.4444444444444444,
              "#bd3786"
             ],
             [
              0.5555555555555556,
              "#d8576b"
             ],
             [
              0.6666666666666666,
              "#ed7953"
             ],
             [
              0.7777777777777778,
              "#fb9f3a"
             ],
             [
              0.8888888888888888,
              "#fdca26"
             ],
             [
              1,
              "#f0f921"
             ]
            ],
            "type": "surface"
           }
          ],
          "table": [
           {
            "cells": {
             "fill": {
              "color": "#EBF0F8"
             },
             "line": {
              "color": "white"
             }
            },
            "header": {
             "fill": {
              "color": "#C8D4E3"
             },
             "line": {
              "color": "white"
             }
            },
            "type": "table"
           }
          ]
         },
         "layout": {
          "annotationdefaults": {
           "arrowcolor": "#2a3f5f",
           "arrowhead": 0,
           "arrowwidth": 1
          },
          "autotypenumbers": "strict",
          "coloraxis": {
           "colorbar": {
            "outlinewidth": 0,
            "ticks": ""
           }
          },
          "colorscale": {
           "diverging": [
            [
             0,
             "#8e0152"
            ],
            [
             0.1,
             "#c51b7d"
            ],
            [
             0.2,
             "#de77ae"
            ],
            [
             0.3,
             "#f1b6da"
            ],
            [
             0.4,
             "#fde0ef"
            ],
            [
             0.5,
             "#f7f7f7"
            ],
            [
             0.6,
             "#e6f5d0"
            ],
            [
             0.7,
             "#b8e186"
            ],
            [
             0.8,
             "#7fbc41"
            ],
            [
             0.9,
             "#4d9221"
            ],
            [
             1,
             "#276419"
            ]
           ],
           "sequential": [
            [
             0,
             "#0d0887"
            ],
            [
             0.1111111111111111,
             "#46039f"
            ],
            [
             0.2222222222222222,
             "#7201a8"
            ],
            [
             0.3333333333333333,
             "#9c179e"
            ],
            [
             0.4444444444444444,
             "#bd3786"
            ],
            [
             0.5555555555555556,
             "#d8576b"
            ],
            [
             0.6666666666666666,
             "#ed7953"
            ],
            [
             0.7777777777777778,
             "#fb9f3a"
            ],
            [
             0.8888888888888888,
             "#fdca26"
            ],
            [
             1,
             "#f0f921"
            ]
           ],
           "sequentialminus": [
            [
             0,
             "#0d0887"
            ],
            [
             0.1111111111111111,
             "#46039f"
            ],
            [
             0.2222222222222222,
             "#7201a8"
            ],
            [
             0.3333333333333333,
             "#9c179e"
            ],
            [
             0.4444444444444444,
             "#bd3786"
            ],
            [
             0.5555555555555556,
             "#d8576b"
            ],
            [
             0.6666666666666666,
             "#ed7953"
            ],
            [
             0.7777777777777778,
             "#fb9f3a"
            ],
            [
             0.8888888888888888,
             "#fdca26"
            ],
            [
             1,
             "#f0f921"
            ]
           ]
          },
          "colorway": [
           "#636efa",
           "#EF553B",
           "#00cc96",
           "#ab63fa",
           "#FFA15A",
           "#19d3f3",
           "#FF6692",
           "#B6E880",
           "#FF97FF",
           "#FECB52"
          ],
          "font": {
           "color": "#2a3f5f"
          },
          "geo": {
           "bgcolor": "white",
           "lakecolor": "white",
           "landcolor": "#E5ECF6",
           "showlakes": true,
           "showland": true,
           "subunitcolor": "white"
          },
          "hoverlabel": {
           "align": "left"
          },
          "hovermode": "closest",
          "mapbox": {
           "style": "light"
          },
          "paper_bgcolor": "white",
          "plot_bgcolor": "#E5ECF6",
          "polar": {
           "angularaxis": {
            "gridcolor": "white",
            "linecolor": "white",
            "ticks": ""
           },
           "bgcolor": "#E5ECF6",
           "radialaxis": {
            "gridcolor": "white",
            "linecolor": "white",
            "ticks": ""
           }
          },
          "scene": {
           "xaxis": {
            "backgroundcolor": "#E5ECF6",
            "gridcolor": "white",
            "gridwidth": 2,
            "linecolor": "white",
            "showbackground": true,
            "ticks": "",
            "zerolinecolor": "white"
           },
           "yaxis": {
            "backgroundcolor": "#E5ECF6",
            "gridcolor": "white",
            "gridwidth": 2,
            "linecolor": "white",
            "showbackground": true,
            "ticks": "",
            "zerolinecolor": "white"
           },
           "zaxis": {
            "backgroundcolor": "#E5ECF6",
            "gridcolor": "white",
            "gridwidth": 2,
            "linecolor": "white",
            "showbackground": true,
            "ticks": "",
            "zerolinecolor": "white"
           }
          },
          "shapedefaults": {
           "line": {
            "color": "#2a3f5f"
           }
          },
          "ternary": {
           "aaxis": {
            "gridcolor": "white",
            "linecolor": "white",
            "ticks": ""
           },
           "baxis": {
            "gridcolor": "white",
            "linecolor": "white",
            "ticks": ""
           },
           "bgcolor": "#E5ECF6",
           "caxis": {
            "gridcolor": "white",
            "linecolor": "white",
            "ticks": ""
           }
          },
          "title": {
           "x": 0.05
          },
          "xaxis": {
           "automargin": true,
           "gridcolor": "white",
           "linecolor": "white",
           "ticks": "",
           "title": {
            "standoff": 15
           },
           "zerolinecolor": "white",
           "zerolinewidth": 2
          },
          "yaxis": {
           "automargin": true,
           "gridcolor": "white",
           "linecolor": "white",
           "ticks": "",
           "title": {
            "standoff": 15
           },
           "zerolinecolor": "white",
           "zerolinewidth": 2
          }
         }
        },
        "title": {
         "text": "2D Visualization of Embeddings"
        },
        "width": 800,
        "xaxis": {
         "title": {
          "text": "Component 1"
         }
        },
        "yaxis": {
         "title": {
          "text": "Component 2"
         }
        }
       }
      }
     },
     "metadata": {},
     "output_type": "display_data"
    }
   ],
   "source": [
    "import plotly.graph_objects as go\n",
    "\n",
    "fig = go.Figure()\n",
    "\n",
    "for i, title in enumerate(titles):\n",
    "    if i >= len(embeddings_reduced):  # Prevent out of bounds error\n",
    "        break\n",
    "    fig.add_trace(go.Scatter(x=[embeddings_reduced[i, 0]], y=[embeddings_reduced[i, 1]],\n",
    "                             mode='markers', text=[title],\n",
    "                             textposition=\"top center\", marker=dict(size=5)))\n",
    "\n",
    "fig.update_layout(title='2D Visualization of Embeddings', xaxis_title='Component 1', yaxis_title='Component 2',\n",
    "                  height=800, width=800)\n",
    "fig.show()\n"
   ]
  }
 ],
 "metadata": {
  "kernelspec": {
   "display_name": "Python 3",
   "language": "python",
   "name": "python3"
  },
  "language_info": {
   "codemirror_mode": {
    "name": "ipython",
    "version": 3
   },
   "file_extension": ".py",
   "mimetype": "text/x-python",
   "name": "python",
   "nbconvert_exporter": "python",
   "pygments_lexer": "ipython3",
   "version": "3.11.8"
  }
 },
 "nbformat": 4,
 "nbformat_minor": 2
}
