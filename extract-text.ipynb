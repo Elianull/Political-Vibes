{
 "cells": [
  {
   "cell_type": "code",
   "execution_count": 1,
   "metadata": {},
   "outputs": [],
   "source": [
    "import os\n",
    "import sqlite3\n",
    "import pandas as pd\n",
    "from tqdm.notebook import tqdm\n",
    "import xml.etree.ElementTree as ET"
   ]
  },
  {
   "cell_type": "code",
   "execution_count": 2,
   "metadata": {},
   "outputs": [],
   "source": [
    "def convert_xml_to_readable(xml_string):\n",
    "    root = ET.fromstring(xml_string.replace(\"&\", \"&amp;\").replace(\"&amp;amp;\", \"&amp;\"))\n",
    "\n",
    "    readable_text = \"\"\n",
    "\n",
    "    # Extract title\n",
    "    title_elem = root.find(\".//dc:title\", {\"dc\": \"http://purl.org/dc/elements/1.1/\"})\n",
    "    if title_elem is None:\n",
    "        title_elem = root.find(\".//official-title\")\n",
    "    if title_elem is not None and title_elem.text:\n",
    "        title = title_elem.text.strip()\n",
    "        readable_text += title + \"\\n\\n\"\n",
    "\n",
    "    # Extract form data\n",
    "    form = root.find(\"./form\")\n",
    "    if form is not None:\n",
    "        congress_elem = form.find(\"congress\")\n",
    "        congress = congress_elem.text.strip() if congress_elem is not None and congress_elem.text else \"\"\n",
    "\n",
    "        session_elem = form.find(\"session\")\n",
    "        session = session_elem.text.strip() if session_elem is not None and session_elem.text else \"\"\n",
    "\n",
    "        legis_num_elem = form.find(\"legis-num\")\n",
    "        legis_num = legis_num_elem.text.strip() if legis_num_elem is not None and legis_num_elem.text else \"\"\n",
    "\n",
    "        current_chamber_elem = form.find(\"current-chamber\")\n",
    "        current_chamber = current_chamber_elem.text.strip() if current_chamber_elem is not None and current_chamber_elem.text else \"\"\n",
    "\n",
    "        action = form.find(\"action\")\n",
    "        if action is not None:\n",
    "            action_date_elem = action.find(\"action-date\")\n",
    "            action_date = action_date_elem.get(\"date\") if action_date_elem is not None else \"\"\n",
    "\n",
    "            action_desc_elem = action.find(\"action-desc\")\n",
    "            action_desc = \" \".join(action_desc_elem.itertext()).strip() if action_desc_elem is not None else \"\"\n",
    "\n",
    "            readable_text += f\"{congress}\\n{session}\\n{legis_num}\\n\\n{current_chamber}\\n\\n{action_date}\\n\\n{action_desc}\\n\\n\"\n",
    "        else:\n",
    "            readable_text += f\"{congress}\\n{session}\\n{legis_num}\\n\\n{current_chamber}\\n\\n\"\n",
    "\n",
    "        legis_type_elem = form.find(\"legis-type\")\n",
    "        legis_type = legis_type_elem.text.strip() if legis_type_elem is not None and legis_type_elem.text else \"\"\n",
    "\n",
    "        official_title_elem = form.find(\"official-title\")\n",
    "        official_title = official_title_elem.text.strip() if official_title_elem is not None and official_title_elem.text else \"\"\n",
    "\n",
    "        readable_text += f\"{legis_type}\\n\\n{official_title}\\n\\n\"\n",
    "\n",
    "    # Extract preamble\n",
    "    preamble = root.find(\"./preamble\")\n",
    "    if preamble is not None:\n",
    "        preamble_text = \" \".join(preamble.itertext()).strip()\n",
    "        readable_text += \"Preamble:\\n\" + preamble_text + \"\\n\\n\"\n",
    "\n",
    "    # Extract resolution body\n",
    "    resolution_body = root.find(\"./resolution-body\")\n",
    "    if resolution_body is not None:\n",
    "        for section in resolution_body.findall(\"section\"):\n",
    "            section_text = \" \".join(section.itertext()).strip()\n",
    "            readable_text += section_text + \"\\n\\n\"\n",
    "    else:\n",
    "        # Extract legis-body\n",
    "        legis_body = root.find(\"./legis-body\")\n",
    "        if legis_body is not None:\n",
    "            for section in legis_body.findall(\"section\"):\n",
    "                section_text = \" \".join(section.itertext()).strip()\n",
    "                readable_text += section_text + \"\\n\\n\"\n",
    "\n",
    "    return readable_text.strip()"
   ]
  },
  {
   "cell_type": "code",
   "execution_count": 17,
   "metadata": {},
   "outputs": [
    {
     "data": {
      "application/vnd.jupyter.widget-view+json": {
       "model_id": "e2c86f89573e47a99a2d11cf31f5019a",
       "version_major": 2,
       "version_minor": 0
      },
      "text/plain": [
       "Congress:   0%|          | 0/6 [00:00<?, ?it/s]"
      ]
     },
     "metadata": {},
     "output_type": "display_data"
    },
    {
     "data": {
      "application/vnd.jupyter.widget-view+json": {
       "model_id": "1c7baafe719a44459901e81be0618cc4",
       "version_major": 2,
       "version_minor": 0
      },
      "text/plain": [
       "Category:   0%|          | 0/2 [00:00<?, ?it/s]"
      ]
     },
     "metadata": {},
     "output_type": "display_data"
    },
    {
     "data": {
      "application/vnd.jupyter.widget-view+json": {
       "model_id": "23385dc5ae674b65b95ba4b3e060d38f",
       "version_major": 2,
       "version_minor": 0
      },
      "text/plain": [
       "Bill Type:   0%|          | 0/8 [00:00<?, ?it/s]"
      ]
     },
     "metadata": {},
     "output_type": "display_data"
    },
    {
     "data": {
      "application/vnd.jupyter.widget-view+json": {
       "model_id": "741ba6e624704c25b11e3ce3ba241067",
       "version_major": 2,
       "version_minor": 0
      },
      "text/plain": [
       "Bills:   0%|          | 0/230 [00:00<?, ?it/s]"
      ]
     },
     "metadata": {},
     "output_type": "display_data"
    },
    {
     "data": {
      "application/vnd.jupyter.widget-view+json": {
       "model_id": "11fcf9d285724b08974917c32602e0dd",
       "version_major": 2,
       "version_minor": 0
      },
      "text/plain": [
       "Bills:   0%|          | 0/278 [00:00<?, ?it/s]"
      ]
     },
     "metadata": {},
     "output_type": "display_data"
    },
    {
     "data": {
      "application/vnd.jupyter.widget-view+json": {
       "model_id": "e8ae3056868b410688527a300ad4e502",
       "version_major": 2,
       "version_minor": 0
      },
      "text/plain": [
       "Bills:   0%|          | 0/8964 [00:00<?, ?it/s]"
      ]
     },
     "metadata": {},
     "output_type": "display_data"
    },
    {
     "data": {
      "application/vnd.jupyter.widget-view+json": {
       "model_id": "fe1ce05418de45ed9852b5436f7b2ac4",
       "version_major": 2,
       "version_minor": 0
      },
      "text/plain": [
       "Bills:   0%|          | 0/1028 [00:00<?, ?it/s]"
      ]
     },
     "metadata": {},
     "output_type": "display_data"
    },
    {
     "data": {
      "application/vnd.jupyter.widget-view+json": {
       "model_id": "8820a108327746888b3548adbf865ea9",
       "version_major": 2,
       "version_minor": 0
      },
      "text/plain": [
       "Bills:   0%|          | 0/4284 [00:00<?, ?it/s]"
      ]
     },
     "metadata": {},
     "output_type": "display_data"
    },
    {
     "data": {
      "application/vnd.jupyter.widget-view+json": {
       "model_id": "03afe2fed5e74abca4fb32d7e05b7695",
       "version_major": 2,
       "version_minor": 0
      },
      "text/plain": [
       "Bills:   0%|          | 0/126 [00:00<?, ?it/s]"
      ]
     },
     "metadata": {},
     "output_type": "display_data"
    },
    {
     "data": {
      "application/vnd.jupyter.widget-view+json": {
       "model_id": "676005d3979e4261a37b98bc24d1296f",
       "version_major": 2,
       "version_minor": 0
      },
      "text/plain": [
       "Bills:   0%|          | 0/60 [00:00<?, ?it/s]"
      ]
     },
     "metadata": {},
     "output_type": "display_data"
    },
    {
     "data": {
      "application/vnd.jupyter.widget-view+json": {
       "model_id": "a91c23bd61b04b75b6b83586b6cda3ee",
       "version_major": 2,
       "version_minor": 0
      },
      "text/plain": [
       "Bills:   0%|          | 0/786 [00:00<?, ?it/s]"
      ]
     },
     "metadata": {},
     "output_type": "display_data"
    },
    {
     "data": {
      "application/vnd.jupyter.widget-view+json": {
       "model_id": "73ea49a021164b9aa9c47e5b40105cc6",
       "version_major": 2,
       "version_minor": 0
      },
      "text/plain": [
       "Bill Type:   0%|          | 0/8 [00:00<?, ?it/s]"
      ]
     },
     "metadata": {},
     "output_type": "display_data"
    },
    {
     "data": {
      "application/vnd.jupyter.widget-view+json": {
       "model_id": "53fba9d597414ac5b0f01503b912d583",
       "version_major": 2,
       "version_minor": 0
      },
      "text/plain": [
       "Bills:   0%|          | 0/236 [00:00<?, ?it/s]"
      ]
     },
     "metadata": {},
     "output_type": "display_data"
    },
    {
     "data": {
      "application/vnd.jupyter.widget-view+json": {
       "model_id": "ea44a0c207714335ab073981c8a892f6",
       "version_major": 2,
       "version_minor": 0
      },
      "text/plain": [
       "Bills:   0%|          | 0/102 [00:00<?, ?it/s]"
      ]
     },
     "metadata": {},
     "output_type": "display_data"
    },
    {
     "data": {
      "application/vnd.jupyter.widget-view+json": {
       "model_id": "6f024a6ee34b411e80d00953b48ed682",
       "version_major": 2,
       "version_minor": 0
      },
      "text/plain": [
       "Bills:   0%|          | 0/6702 [00:00<?, ?it/s]"
      ]
     },
     "metadata": {},
     "output_type": "display_data"
    },
    {
     "data": {
      "application/vnd.jupyter.widget-view+json": {
       "model_id": "18cd306dcaec4556b55966560471314c",
       "version_major": 2,
       "version_minor": 0
      },
      "text/plain": [
       "Bills:   0%|          | 0/836 [00:00<?, ?it/s]"
      ]
     },
     "metadata": {},
     "output_type": "display_data"
    },
    {
     "data": {
      "application/vnd.jupyter.widget-view+json": {
       "model_id": "b9a08592559941e7a543fbf4716d26e3",
       "version_major": 2,
       "version_minor": 0
      },
      "text/plain": [
       "Bills:   0%|          | 0/3014 [00:00<?, ?it/s]"
      ]
     },
     "metadata": {},
     "output_type": "display_data"
    },
    {
     "data": {
      "application/vnd.jupyter.widget-view+json": {
       "model_id": "28689d97cf9b4d94807b8a4f8c26fae1",
       "version_major": 2,
       "version_minor": 0
      },
      "text/plain": [
       "Bills:   0%|          | 0/54 [00:00<?, ?it/s]"
      ]
     },
     "metadata": {},
     "output_type": "display_data"
    },
    {
     "data": {
      "application/vnd.jupyter.widget-view+json": {
       "model_id": "75452e7bc07b459c86d11d52d827c2a7",
       "version_major": 2,
       "version_minor": 0
      },
      "text/plain": [
       "Bills:   0%|          | 0/72 [00:00<?, ?it/s]"
      ]
     },
     "metadata": {},
     "output_type": "display_data"
    },
    {
     "data": {
      "application/vnd.jupyter.widget-view+json": {
       "model_id": "a06d041e257f4da084930e9172fe5b4a",
       "version_major": 2,
       "version_minor": 0
      },
      "text/plain": [
       "Bills:   0%|          | 0/742 [00:00<?, ?it/s]"
      ]
     },
     "metadata": {},
     "output_type": "display_data"
    },
    {
     "data": {
      "application/vnd.jupyter.widget-view+json": {
       "model_id": "948879a84c024c79ac4f5f6098f1d845",
       "version_major": 2,
       "version_minor": 0
      },
      "text/plain": [
       "Category:   0%|          | 0/2 [00:00<?, ?it/s]"
      ]
     },
     "metadata": {},
     "output_type": "display_data"
    },
    {
     "data": {
      "application/vnd.jupyter.widget-view+json": {
       "model_id": "79d9b08339f845cabd172c7430399111",
       "version_major": 2,
       "version_minor": 0
      },
      "text/plain": [
       "Bill Type:   0%|          | 0/8 [00:00<?, ?it/s]"
      ]
     },
     "metadata": {},
     "output_type": "display_data"
    },
    {
     "data": {
      "application/vnd.jupyter.widget-view+json": {
       "model_id": "d4403206bcd74a0495b5353e194a70a1",
       "version_major": 2,
       "version_minor": 0
      },
      "text/plain": [
       "Bills:   0%|          | 0/342 [00:00<?, ?it/s]"
      ]
     },
     "metadata": {},
     "output_type": "display_data"
    },
    {
     "data": {
      "application/vnd.jupyter.widget-view+json": {
       "model_id": "da6e098272564de991e8ecc9567b6383",
       "version_major": 2,
       "version_minor": 0
      },
      "text/plain": [
       "Bills:   0%|          | 0/184 [00:00<?, ?it/s]"
      ]
     },
     "metadata": {},
     "output_type": "display_data"
    },
    {
     "data": {
      "application/vnd.jupyter.widget-view+json": {
       "model_id": "e8337eff13a34b118ca6cc232c262fb2",
       "version_major": 2,
       "version_minor": 0
      },
      "text/plain": [
       "Bills:   0%|          | 0/10750 [00:00<?, ?it/s]"
      ]
     },
     "metadata": {},
     "output_type": "display_data"
    },
    {
     "data": {
      "application/vnd.jupyter.widget-view+json": {
       "model_id": "6dae26331fef4ddfa5d7ea97e57833eb",
       "version_major": 2,
       "version_minor": 0
      },
      "text/plain": [
       "Bills:   0%|          | 0/1320 [00:00<?, ?it/s]"
      ]
     },
     "metadata": {},
     "output_type": "display_data"
    },
    {
     "data": {
      "application/vnd.jupyter.widget-view+json": {
       "model_id": "8b02fb5de4a940258610a3a1c5b9724e",
       "version_major": 2,
       "version_minor": 0
      },
      "text/plain": [
       "Bills:   0%|          | 0/5640 [00:00<?, ?it/s]"
      ]
     },
     "metadata": {},
     "output_type": "display_data"
    },
    {
     "data": {
      "application/vnd.jupyter.widget-view+json": {
       "model_id": "b28cbc4ac3e348f4a408e5b192d34285",
       "version_major": 2,
       "version_minor": 0
      },
      "text/plain": [
       "Bills:   0%|          | 0/98 [00:00<?, ?it/s]"
      ]
     },
     "metadata": {},
     "output_type": "display_data"
    },
    {
     "data": {
      "application/vnd.jupyter.widget-view+json": {
       "model_id": "e7796cf635ba46b69e7e25fbffa170b3",
       "version_major": 2,
       "version_minor": 0
      },
      "text/plain": [
       "Bills:   0%|          | 0/82 [00:00<?, ?it/s]"
      ]
     },
     "metadata": {},
     "output_type": "display_data"
    },
    {
     "data": {
      "application/vnd.jupyter.widget-view+json": {
       "model_id": "183ec6d59f3941b49d9bc7a55cb0dd89",
       "version_major": 2,
       "version_minor": 0
      },
      "text/plain": [
       "Bills:   0%|          | 0/820 [00:00<?, ?it/s]"
      ]
     },
     "metadata": {},
     "output_type": "display_data"
    },
    {
     "data": {
      "application/vnd.jupyter.widget-view+json": {
       "model_id": "be908afd7d224542a47c05fd75c755aa",
       "version_major": 2,
       "version_minor": 0
      },
      "text/plain": [
       "Bill Type:   0%|          | 0/8 [00:00<?, ?it/s]"
      ]
     },
     "metadata": {},
     "output_type": "display_data"
    },
    {
     "data": {
      "application/vnd.jupyter.widget-view+json": {
       "model_id": "54eea627310043878cffaeb1bd977de8",
       "version_major": 2,
       "version_minor": 0
      },
      "text/plain": [
       "Bills:   0%|          | 0/300 [00:00<?, ?it/s]"
      ]
     },
     "metadata": {},
     "output_type": "display_data"
    },
    {
     "data": {
      "application/vnd.jupyter.widget-view+json": {
       "model_id": "6f58c5bc42f94be9b6c8331a34466007",
       "version_major": 2,
       "version_minor": 0
      },
      "text/plain": [
       "Bills:   0%|          | 0/70 [00:00<?, ?it/s]"
      ]
     },
     "metadata": {},
     "output_type": "display_data"
    },
    {
     "data": {
      "application/vnd.jupyter.widget-view+json": {
       "model_id": "4c0f20c948834f099e1edd8fa46f4c8c",
       "version_major": 2,
       "version_minor": 0
      },
      "text/plain": [
       "Bills:   0%|          | 0/7512 [00:00<?, ?it/s]"
      ]
     },
     "metadata": {},
     "output_type": "display_data"
    },
    {
     "data": {
      "application/vnd.jupyter.widget-view+json": {
       "model_id": "ed3c7be786ad4b85bbdb60ce3c3bf928",
       "version_major": 2,
       "version_minor": 0
      },
      "text/plain": [
       "Bills:   0%|          | 0/940 [00:00<?, ?it/s]"
      ]
     },
     "metadata": {},
     "output_type": "display_data"
    },
    {
     "data": {
      "application/vnd.jupyter.widget-view+json": {
       "model_id": "19df5148e5dc48289e72abf9bfbb849c",
       "version_major": 2,
       "version_minor": 0
      },
      "text/plain": [
       "Bills:   0%|          | 0/3184 [00:00<?, ?it/s]"
      ]
     },
     "metadata": {},
     "output_type": "display_data"
    },
    {
     "data": {
      "application/vnd.jupyter.widget-view+json": {
       "model_id": "f8d84eec013340cc9316f553ca46bff3",
       "version_major": 2,
       "version_minor": 0
      },
      "text/plain": [
       "Bills:   0%|          | 0/124 [00:00<?, ?it/s]"
      ]
     },
     "metadata": {},
     "output_type": "display_data"
    },
    {
     "data": {
      "application/vnd.jupyter.widget-view+json": {
       "model_id": "e658be755e3e4565a80e730a31369432",
       "version_major": 2,
       "version_minor": 0
      },
      "text/plain": [
       "Bills:   0%|          | 0/32 [00:00<?, ?it/s]"
      ]
     },
     "metadata": {},
     "output_type": "display_data"
    },
    {
     "data": {
      "application/vnd.jupyter.widget-view+json": {
       "model_id": "85b335ce41cd450dbcd708e63d5f0ba8",
       "version_major": 2,
       "version_minor": 0
      },
      "text/plain": [
       "Bills:   0%|          | 0/762 [00:00<?, ?it/s]"
      ]
     },
     "metadata": {},
     "output_type": "display_data"
    },
    {
     "data": {
      "application/vnd.jupyter.widget-view+json": {
       "model_id": "6b41252128594fdda4792a638e1c7d27",
       "version_major": 2,
       "version_minor": 0
      },
      "text/plain": [
       "Category:   0%|          | 0/2 [00:00<?, ?it/s]"
      ]
     },
     "metadata": {},
     "output_type": "display_data"
    },
    {
     "data": {
      "application/vnd.jupyter.widget-view+json": {
       "model_id": "1fdf993cb99c4aadb8738a6af7a0ef85",
       "version_major": 2,
       "version_minor": 0
      },
      "text/plain": [
       "Bill Type:   0%|          | 0/8 [00:00<?, ?it/s]"
      ]
     },
     "metadata": {},
     "output_type": "display_data"
    },
    {
     "data": {
      "application/vnd.jupyter.widget-view+json": {
       "model_id": "1c7986d20f2e4681a6eb80dcc7b124e7",
       "version_major": 2,
       "version_minor": 0
      },
      "text/plain": [
       "Bills:   0%|          | 0/272 [00:00<?, ?it/s]"
      ]
     },
     "metadata": {},
     "output_type": "display_data"
    },
    {
     "data": {
      "application/vnd.jupyter.widget-view+json": {
       "model_id": "c2058b2fa7e3445a94aa2fa55a3d629f",
       "version_major": 2,
       "version_minor": 0
      },
      "text/plain": [
       "Bills:   0%|          | 0/368 [00:00<?, ?it/s]"
      ]
     },
     "metadata": {},
     "output_type": "display_data"
    },
    {
     "data": {
      "application/vnd.jupyter.widget-view+json": {
       "model_id": "352bd784bdaa40a9b5948c38de49e249",
       "version_major": 2,
       "version_minor": 0
      },
      "text/plain": [
       "Bills:   0%|          | 0/12138 [00:00<?, ?it/s]"
      ]
     },
     "metadata": {},
     "output_type": "display_data"
    },
    {
     "data": {
      "application/vnd.jupyter.widget-view+json": {
       "model_id": "45f8c417ffb04c91a4d82b37f9f214d6",
       "version_major": 2,
       "version_minor": 0
      },
      "text/plain": [
       "Bills:   0%|          | 0/1586 [00:00<?, ?it/s]"
      ]
     },
     "metadata": {},
     "output_type": "display_data"
    },
    {
     "data": {
      "application/vnd.jupyter.widget-view+json": {
       "model_id": "e3b74e2cd57c40a7a96601c3d1b2832b",
       "version_major": 2,
       "version_minor": 0
      },
      "text/plain": [
       "Bills:   0%|          | 0/5362 [00:00<?, ?it/s]"
      ]
     },
     "metadata": {},
     "output_type": "display_data"
    },
    {
     "data": {
      "application/vnd.jupyter.widget-view+json": {
       "model_id": "6e9737cf9dcc49d8812ceab90e70f838",
       "version_major": 2,
       "version_minor": 0
      },
      "text/plain": [
       "Bills:   0%|          | 0/106 [00:00<?, ?it/s]"
      ]
     },
     "metadata": {},
     "output_type": "display_data"
    },
    {
     "data": {
      "application/vnd.jupyter.widget-view+json": {
       "model_id": "4e8faa8845b5416497625f8b27b2b672",
       "version_major": 2,
       "version_minor": 0
      },
      "text/plain": [
       "Bills:   0%|          | 0/142 [00:00<?, ?it/s]"
      ]
     },
     "metadata": {},
     "output_type": "display_data"
    },
    {
     "data": {
      "application/vnd.jupyter.widget-view+json": {
       "model_id": "97d477c0c0874d7f981e147118b970c9",
       "version_major": 2,
       "version_minor": 0
      },
      "text/plain": [
       "Bills:   0%|          | 0/892 [00:00<?, ?it/s]"
      ]
     },
     "metadata": {},
     "output_type": "display_data"
    },
    {
     "data": {
      "application/vnd.jupyter.widget-view+json": {
       "model_id": "0df9c7cd74074235bef5e16680199a94",
       "version_major": 2,
       "version_minor": 0
      },
      "text/plain": [
       "Bill Type:   0%|          | 0/8 [00:00<?, ?it/s]"
      ]
     },
     "metadata": {},
     "output_type": "display_data"
    },
    {
     "data": {
      "application/vnd.jupyter.widget-view+json": {
       "model_id": "cb98d2d640eb4f20891ed6717f26168f",
       "version_major": 2,
       "version_minor": 0
      },
      "text/plain": [
       "Bills:   0%|          | 0/194 [00:00<?, ?it/s]"
      ]
     },
     "metadata": {},
     "output_type": "display_data"
    },
    {
     "data": {
      "application/vnd.jupyter.widget-view+json": {
       "model_id": "252909d823354894852ba7d84b91e247",
       "version_major": 2,
       "version_minor": 0
      },
      "text/plain": [
       "Bills:   0%|          | 0/52 [00:00<?, ?it/s]"
      ]
     },
     "metadata": {},
     "output_type": "display_data"
    },
    {
     "data": {
      "application/vnd.jupyter.widget-view+json": {
       "model_id": "5661817e30974101900d47821efa4e77",
       "version_major": 2,
       "version_minor": 0
      },
      "text/plain": [
       "Bills:   0%|          | 0/9318 [00:00<?, ?it/s]"
      ]
     },
     "metadata": {},
     "output_type": "display_data"
    },
    {
     "data": {
      "application/vnd.jupyter.widget-view+json": {
       "model_id": "979b0dfdb2414f5baf2f2bc83299eb37",
       "version_major": 2,
       "version_minor": 0
      },
      "text/plain": [
       "Bills:   0%|          | 0/1234 [00:00<?, ?it/s]"
      ]
     },
     "metadata": {},
     "output_type": "display_data"
    },
    {
     "data": {
      "application/vnd.jupyter.widget-view+json": {
       "model_id": "2ae0fb2f4fef4512a50b13e6ad7e47c2",
       "version_major": 2,
       "version_minor": 0
      },
      "text/plain": [
       "Bills:   0%|          | 0/4250 [00:00<?, ?it/s]"
      ]
     },
     "metadata": {},
     "output_type": "display_data"
    },
    {
     "data": {
      "application/vnd.jupyter.widget-view+json": {
       "model_id": "9722c25982aa429b9e79734cb6eed5d1",
       "version_major": 2,
       "version_minor": 0
      },
      "text/plain": [
       "Bills:   0%|          | 0/106 [00:00<?, ?it/s]"
      ]
     },
     "metadata": {},
     "output_type": "display_data"
    },
    {
     "data": {
      "application/vnd.jupyter.widget-view+json": {
       "model_id": "1c1c553b0953405cae65406aeed1a866",
       "version_major": 2,
       "version_minor": 0
      },
      "text/plain": [
       "Bills:   0%|          | 0/70 [00:00<?, ?it/s]"
      ]
     },
     "metadata": {},
     "output_type": "display_data"
    },
    {
     "data": {
      "application/vnd.jupyter.widget-view+json": {
       "model_id": "83567bc90fe24eb8a8f2641e4c773674",
       "version_major": 2,
       "version_minor": 0
      },
      "text/plain": [
       "Bills:   0%|          | 0/906 [00:00<?, ?it/s]"
      ]
     },
     "metadata": {},
     "output_type": "display_data"
    },
    {
     "data": {
      "application/vnd.jupyter.widget-view+json": {
       "model_id": "c6e4ad26ddb049e8ba30ee882f0c4a16",
       "version_major": 2,
       "version_minor": 0
      },
      "text/plain": [
       "Category:   0%|          | 0/2 [00:00<?, ?it/s]"
      ]
     },
     "metadata": {},
     "output_type": "display_data"
    },
    {
     "data": {
      "application/vnd.jupyter.widget-view+json": {
       "model_id": "0adf69c42aea4ed5a77f2780c2fbaa4c",
       "version_major": 2,
       "version_minor": 0
      },
      "text/plain": [
       "Bill Type:   0%|          | 0/8 [00:00<?, ?it/s]"
      ]
     },
     "metadata": {},
     "output_type": "display_data"
    },
    {
     "data": {
      "application/vnd.jupyter.widget-view+json": {
       "model_id": "b9deaa278fa24b5ba0c450a6bf610937",
       "version_major": 2,
       "version_minor": 0
      },
      "text/plain": [
       "Bills:   0%|          | 0/236 [00:00<?, ?it/s]"
      ]
     },
     "metadata": {},
     "output_type": "display_data"
    },
    {
     "data": {
      "application/vnd.jupyter.widget-view+json": {
       "model_id": "cc31f1f0fa4f41d0b15bb27c7f45ca92",
       "version_major": 2,
       "version_minor": 0
      },
      "text/plain": [
       "Bills:   0%|          | 0/204 [00:00<?, ?it/s]"
      ]
     },
     "metadata": {},
     "output_type": "display_data"
    },
    {
     "data": {
      "application/vnd.jupyter.widget-view+json": {
       "model_id": "8b73416c5df34012b31fa660d5b20969",
       "version_major": 2,
       "version_minor": 0
      },
      "text/plain": [
       "Bills:   0%|          | 0/13536 [00:00<?, ?it/s]"
      ]
     },
     "metadata": {},
     "output_type": "display_data"
    },
    {
     "data": {
      "application/vnd.jupyter.widget-view+json": {
       "model_id": "fbbfef7996194fd5aa6aee74c7c54353",
       "version_major": 2,
       "version_minor": 0
      },
      "text/plain": [
       "Bills:   0%|          | 0/1760 [00:00<?, ?it/s]"
      ]
     },
     "metadata": {},
     "output_type": "display_data"
    },
    {
     "data": {
      "application/vnd.jupyter.widget-view+json": {
       "model_id": "d43082eb1c1b4669a0be378100d45a5c",
       "version_major": 2,
       "version_minor": 0
      },
      "text/plain": [
       "Bills:   0%|          | 0/7200 [00:00<?, ?it/s]"
      ]
     },
     "metadata": {},
     "output_type": "display_data"
    },
    {
     "data": {
      "application/vnd.jupyter.widget-view+json": {
       "model_id": "ccdb6550b232443b95b01ce2753dd2fc",
       "version_major": 2,
       "version_minor": 0
      },
      "text/plain": [
       "Bills:   0%|          | 0/132 [00:00<?, ?it/s]"
      ]
     },
     "metadata": {},
     "output_type": "display_data"
    },
    {
     "data": {
      "application/vnd.jupyter.widget-view+json": {
       "model_id": "cbd7a0e72a034d12b5014de839471f0b",
       "version_major": 2,
       "version_minor": 0
      },
      "text/plain": [
       "Bills:   0%|          | 0/190 [00:00<?, ?it/s]"
      ]
     },
     "metadata": {},
     "output_type": "display_data"
    },
    {
     "data": {
      "application/vnd.jupyter.widget-view+json": {
       "model_id": "ddc9dfa4a8c64a45a39b18ce24e8524b",
       "version_major": 2,
       "version_minor": 0
      },
      "text/plain": [
       "Bills:   0%|          | 0/1122 [00:00<?, ?it/s]"
      ]
     },
     "metadata": {},
     "output_type": "display_data"
    },
    {
     "data": {
      "application/vnd.jupyter.widget-view+json": {
       "model_id": "a09632fff9b048feb554cefd2ad1e7ef",
       "version_major": 2,
       "version_minor": 0
      },
      "text/plain": [
       "Bill Type:   0%|          | 0/8 [00:00<?, ?it/s]"
      ]
     },
     "metadata": {},
     "output_type": "display_data"
    },
    {
     "data": {
      "application/vnd.jupyter.widget-view+json": {
       "model_id": "df220321028e474b9c2e8d0c2254286c",
       "version_major": 2,
       "version_minor": 0
      },
      "text/plain": [
       "Bills:   0%|          | 0/144 [00:00<?, ?it/s]"
      ]
     },
     "metadata": {},
     "output_type": "display_data"
    },
    {
     "data": {
      "application/vnd.jupyter.widget-view+json": {
       "model_id": "18849ae815404fe89149bf231ffc6c4b",
       "version_major": 2,
       "version_minor": 0
      },
      "text/plain": [
       "Bills:   0%|          | 0/100 [00:00<?, ?it/s]"
      ]
     },
     "metadata": {},
     "output_type": "display_data"
    },
    {
     "data": {
      "application/vnd.jupyter.widget-view+json": {
       "model_id": "7b83fd06638044ae933e8caae9f9c4f3",
       "version_major": 2,
       "version_minor": 0
      },
      "text/plain": [
       "Bills:   0%|          | 0/9414 [00:00<?, ?it/s]"
      ]
     },
     "metadata": {},
     "output_type": "display_data"
    },
    {
     "data": {
      "application/vnd.jupyter.widget-view+json": {
       "model_id": "ef77d64c5f59450697c3f0a8b4e736e1",
       "version_major": 2,
       "version_minor": 0
      },
      "text/plain": [
       "Bills:   0%|          | 0/1134 [00:00<?, ?it/s]"
      ]
     },
     "metadata": {},
     "output_type": "display_data"
    },
    {
     "data": {
      "application/vnd.jupyter.widget-view+json": {
       "model_id": "935fa68c598a48549d1c20f54b458aff",
       "version_major": 2,
       "version_minor": 0
      },
      "text/plain": [
       "Bills:   0%|          | 0/4754 [00:00<?, ?it/s]"
      ]
     },
     "metadata": {},
     "output_type": "display_data"
    },
    {
     "data": {
      "application/vnd.jupyter.widget-view+json": {
       "model_id": "71ab0cdedee6429498bb0d365513966c",
       "version_major": 2,
       "version_minor": 0
      },
      "text/plain": [
       "Bills:   0%|          | 0/66 [00:00<?, ?it/s]"
      ]
     },
     "metadata": {},
     "output_type": "display_data"
    },
    {
     "data": {
      "application/vnd.jupyter.widget-view+json": {
       "model_id": "daf8091d768144ef9e4899e903b702fd",
       "version_major": 2,
       "version_minor": 0
      },
      "text/plain": [
       "Bills:   0%|          | 0/70 [00:00<?, ?it/s]"
      ]
     },
     "metadata": {},
     "output_type": "display_data"
    },
    {
     "data": {
      "application/vnd.jupyter.widget-view+json": {
       "model_id": "5ff6dc50f5ea4574830cc8eb310dff36",
       "version_major": 2,
       "version_minor": 0
      },
      "text/plain": [
       "Bills:   0%|          | 0/830 [00:00<?, ?it/s]"
      ]
     },
     "metadata": {},
     "output_type": "display_data"
    },
    {
     "data": {
      "application/vnd.jupyter.widget-view+json": {
       "model_id": "1023a34f193e40dea82e53f985c9a98c",
       "version_major": 2,
       "version_minor": 0
      },
      "text/plain": [
       "Category:   0%|          | 0/2 [00:00<?, ?it/s]"
      ]
     },
     "metadata": {},
     "output_type": "display_data"
    },
    {
     "data": {
      "application/vnd.jupyter.widget-view+json": {
       "model_id": "3db76112267c46408c37c9353997cb90",
       "version_major": 2,
       "version_minor": 0
      },
      "text/plain": [
       "Bill Type:   0%|          | 0/8 [00:00<?, ?it/s]"
      ]
     },
     "metadata": {},
     "output_type": "display_data"
    },
    {
     "data": {
      "application/vnd.jupyter.widget-view+json": {
       "model_id": "b7a39a4e00ca4105baa5e4914fe4e42e",
       "version_major": 2,
       "version_minor": 0
      },
      "text/plain": [
       "Bills:   0%|          | 0/168 [00:00<?, ?it/s]"
      ]
     },
     "metadata": {},
     "output_type": "display_data"
    },
    {
     "data": {
      "application/vnd.jupyter.widget-view+json": {
       "model_id": "94649b664e8146f7abdc19a184b54c51",
       "version_major": 2,
       "version_minor": 0
      },
      "text/plain": [
       "Bills:   0%|          | 0/146 [00:00<?, ?it/s]"
      ]
     },
     "metadata": {},
     "output_type": "display_data"
    },
    {
     "data": {
      "application/vnd.jupyter.widget-view+json": {
       "model_id": "dc8e979069f84a0e8ccb1a0e4ef5ac6e",
       "version_major": 2,
       "version_minor": 0
      },
      "text/plain": [
       "Bills:   0%|          | 0/14454 [00:00<?, ?it/s]"
      ]
     },
     "metadata": {},
     "output_type": "display_data"
    },
    {
     "data": {
      "application/vnd.jupyter.widget-view+json": {
       "model_id": "76f535dd8d3f430d8facaf0731892d85",
       "version_major": 2,
       "version_minor": 0
      },
      "text/plain": [
       "Bills:   0%|          | 0/1846 [00:00<?, ?it/s]"
      ]
     },
     "metadata": {},
     "output_type": "display_data"
    },
    {
     "data": {
      "application/vnd.jupyter.widget-view+json": {
       "model_id": "ea796aaec8a64a30a85dfde941964750",
       "version_major": 2,
       "version_minor": 0
      },
      "text/plain": [
       "Bills:   0%|          | 0/7374 [00:00<?, ?it/s]"
      ]
     },
     "metadata": {},
     "output_type": "display_data"
    },
    {
     "data": {
      "application/vnd.jupyter.widget-view+json": {
       "model_id": "05d3acf878c04473a793b666d9d872ee",
       "version_major": 2,
       "version_minor": 0
      },
      "text/plain": [
       "Bills:   0%|          | 0/78 [00:00<?, ?it/s]"
      ]
     },
     "metadata": {},
     "output_type": "display_data"
    },
    {
     "data": {
      "application/vnd.jupyter.widget-view+json": {
       "model_id": "bb14663c5a794d81b4a1b6de95871cba",
       "version_major": 2,
       "version_minor": 0
      },
      "text/plain": [
       "Bills:   0%|          | 0/94 [00:00<?, ?it/s]"
      ]
     },
     "metadata": {},
     "output_type": "display_data"
    },
    {
     "data": {
      "application/vnd.jupyter.widget-view+json": {
       "model_id": "52002d503bfb45f2af07eac6696a3d32",
       "version_major": 2,
       "version_minor": 0
      },
      "text/plain": [
       "Bills:   0%|          | 0/1136 [00:00<?, ?it/s]"
      ]
     },
     "metadata": {},
     "output_type": "display_data"
    },
    {
     "data": {
      "application/vnd.jupyter.widget-view+json": {
       "model_id": "2993a7ab65214f988790bae15c8067db",
       "version_major": 2,
       "version_minor": 0
      },
      "text/plain": [
       "Bill Type:   0%|          | 0/8 [00:00<?, ?it/s]"
      ]
     },
     "metadata": {},
     "output_type": "display_data"
    },
    {
     "data": {
      "application/vnd.jupyter.widget-view+json": {
       "model_id": "2a9d2fda29b9466e8a5d04de04303d23",
       "version_major": 2,
       "version_minor": 0
      },
      "text/plain": [
       "Bills:   0%|          | 0/184 [00:00<?, ?it/s]"
      ]
     },
     "metadata": {},
     "output_type": "display_data"
    },
    {
     "data": {
      "application/vnd.jupyter.widget-view+json": {
       "model_id": "0c77ce6c0ab942eeabf51ab4dd13440a",
       "version_major": 2,
       "version_minor": 0
      },
      "text/plain": [
       "Bills:   0%|          | 0/90 [00:00<?, ?it/s]"
      ]
     },
     "metadata": {},
     "output_type": "display_data"
    },
    {
     "data": {
      "application/vnd.jupyter.widget-view+json": {
       "model_id": "0baa4f12a72c485eac0eec22aeebd9e9",
       "version_major": 2,
       "version_minor": 0
      },
      "text/plain": [
       "Bills:   0%|          | 0/9364 [00:00<?, ?it/s]"
      ]
     },
     "metadata": {},
     "output_type": "display_data"
    },
    {
     "data": {
      "application/vnd.jupyter.widget-view+json": {
       "model_id": "f633ebb189f140b184ce2d85d1d3bcb1",
       "version_major": 2,
       "version_minor": 0
      },
      "text/plain": [
       "Bills:   0%|          | 0/1614 [00:00<?, ?it/s]"
      ]
     },
     "metadata": {},
     "output_type": "display_data"
    },
    {
     "data": {
      "application/vnd.jupyter.widget-view+json": {
       "model_id": "cd18e79d32c642bfa5d4f90b88b1c250",
       "version_major": 2,
       "version_minor": 0
      },
      "text/plain": [
       "Bills:   0%|          | 0/5058 [00:00<?, ?it/s]"
      ]
     },
     "metadata": {},
     "output_type": "display_data"
    },
    {
     "data": {
      "application/vnd.jupyter.widget-view+json": {
       "model_id": "4ec8c11d28d34144a1ecd5d01c199209",
       "version_major": 2,
       "version_minor": 0
      },
      "text/plain": [
       "Bills:   0%|          | 0/100 [00:00<?, ?it/s]"
      ]
     },
     "metadata": {},
     "output_type": "display_data"
    },
    {
     "data": {
      "application/vnd.jupyter.widget-view+json": {
       "model_id": "a4aeaaaf69354f0e81ae3f63fd35b54e",
       "version_major": 2,
       "version_minor": 0
      },
      "text/plain": [
       "Bills:   0%|          | 0/104 [00:00<?, ?it/s]"
      ]
     },
     "metadata": {},
     "output_type": "display_data"
    },
    {
     "data": {
      "application/vnd.jupyter.widget-view+json": {
       "model_id": "8778ae58e72f417bb0d6a8ab2013ab66",
       "version_major": 2,
       "version_minor": 0
      },
      "text/plain": [
       "Bills:   0%|          | 0/994 [00:00<?, ?it/s]"
      ]
     },
     "metadata": {},
     "output_type": "display_data"
    },
    {
     "data": {
      "application/vnd.jupyter.widget-view+json": {
       "model_id": "7b6ba9dfd8344921b16faa0b77e7f10f",
       "version_major": 2,
       "version_minor": 0
      },
      "text/plain": [
       "Category:   0%|          | 0/2 [00:00<?, ?it/s]"
      ]
     },
     "metadata": {},
     "output_type": "display_data"
    },
    {
     "data": {
      "application/vnd.jupyter.widget-view+json": {
       "model_id": "c2158419c76840e680badae50fc20011",
       "version_major": 2,
       "version_minor": 0
      },
      "text/plain": [
       "Bill Type:   0%|          | 0/8 [00:00<?, ?it/s]"
      ]
     },
     "metadata": {},
     "output_type": "display_data"
    },
    {
     "data": {
      "application/vnd.jupyter.widget-view+json": {
       "model_id": "7169270f3e91485d96951c3075c91dc9",
       "version_major": 2,
       "version_minor": 0
      },
      "text/plain": [
       "Bills:   0%|          | 0/216 [00:00<?, ?it/s]"
      ]
     },
     "metadata": {},
     "output_type": "display_data"
    },
    {
     "data": {
      "application/vnd.jupyter.widget-view+json": {
       "model_id": "326dfb6029354099810b100fc60a4fec",
       "version_major": 2,
       "version_minor": 0
      },
      "text/plain": [
       "Bills:   0%|          | 0/302 [00:00<?, ?it/s]"
      ]
     },
     "metadata": {},
     "output_type": "display_data"
    },
    {
     "data": {
      "application/vnd.jupyter.widget-view+json": {
       "model_id": "7f079776992a459395e04fedddd5f6bc",
       "version_major": 2,
       "version_minor": 0
      },
      "text/plain": [
       "Bills:   0%|          | 0/14912 [00:00<?, ?it/s]"
      ]
     },
     "metadata": {},
     "output_type": "display_data"
    },
    {
     "data": {
      "application/vnd.jupyter.widget-view+json": {
       "model_id": "90cc7047a52949409296d9df3c26a847",
       "version_major": 2,
       "version_minor": 0
      },
      "text/plain": [
       "Bills:   0%|          | 0/2006 [00:00<?, ?it/s]"
      ]
     },
     "metadata": {},
     "output_type": "display_data"
    },
    {
     "data": {
      "application/vnd.jupyter.widget-view+json": {
       "model_id": "bae9e5f3b9d241999606945e25022dcf",
       "version_major": 2,
       "version_minor": 0
      },
      "text/plain": [
       "Bills:   0%|          | 0/7678 [00:00<?, ?it/s]"
      ]
     },
     "metadata": {},
     "output_type": "display_data"
    },
    {
     "data": {
      "application/vnd.jupyter.widget-view+json": {
       "model_id": "e6659d5ed91740939a53d0ae38568c06",
       "version_major": 2,
       "version_minor": 0
      },
      "text/plain": [
       "Bills:   0%|          | 0/54 [00:00<?, ?it/s]"
      ]
     },
     "metadata": {},
     "output_type": "display_data"
    },
    {
     "data": {
      "application/vnd.jupyter.widget-view+json": {
       "model_id": "8ce1db823e08419d95e4697abcae81b5",
       "version_major": 2,
       "version_minor": 0
      },
      "text/plain": [
       "Bills:   0%|          | 0/142 [00:00<?, ?it/s]"
      ]
     },
     "metadata": {},
     "output_type": "display_data"
    },
    {
     "data": {
      "application/vnd.jupyter.widget-view+json": {
       "model_id": "3bafee47b8ad43b5abb495b17814b95f",
       "version_major": 2,
       "version_minor": 0
      },
      "text/plain": [
       "Bills:   0%|          | 0/1136 [00:00<?, ?it/s]"
      ]
     },
     "metadata": {},
     "output_type": "display_data"
    },
    {
     "data": {
      "application/vnd.jupyter.widget-view+json": {
       "model_id": "3f44ca06822b42f6948db1d30c8017f9",
       "version_major": 2,
       "version_minor": 0
      },
      "text/plain": [
       "Bill Type:   0%|          | 0/8 [00:00<?, ?it/s]"
      ]
     },
     "metadata": {},
     "output_type": "display_data"
    },
    {
     "data": {
      "application/vnd.jupyter.widget-view+json": {
       "model_id": "c873d6dee2214c3f9dcbbf8a73eaedfd",
       "version_major": 2,
       "version_minor": 0
      },
      "text/plain": [
       "Bills:   0%|          | 0/42 [00:00<?, ?it/s]"
      ]
     },
     "metadata": {},
     "output_type": "display_data"
    },
    {
     "data": {
      "application/vnd.jupyter.widget-view+json": {
       "model_id": "cf9470001bb64c81afee0cbf1faf2ad7",
       "version_major": 2,
       "version_minor": 0
      },
      "text/plain": [
       "Bills:   0%|          | 0/24 [00:00<?, ?it/s]"
      ]
     },
     "metadata": {},
     "output_type": "display_data"
    },
    {
     "data": {
      "application/vnd.jupyter.widget-view+json": {
       "model_id": "527e88923ec548e6b7d3671fc5c22bc4",
       "version_major": 2,
       "version_minor": 0
      },
      "text/plain": [
       "Bills:   0%|          | 0/1608 [00:00<?, ?it/s]"
      ]
     },
     "metadata": {},
     "output_type": "display_data"
    },
    {
     "data": {
      "application/vnd.jupyter.widget-view+json": {
       "model_id": "da750935283642038df5c21a847bce62",
       "version_major": 2,
       "version_minor": 0
      },
      "text/plain": [
       "Bills:   0%|          | 0/268 [00:00<?, ?it/s]"
      ]
     },
     "metadata": {},
     "output_type": "display_data"
    },
    {
     "data": {
      "application/vnd.jupyter.widget-view+json": {
       "model_id": "08c65216a1fe46ff971c798fbc0323ff",
       "version_major": 2,
       "version_minor": 0
      },
      "text/plain": [
       "Bills:   0%|          | 0/700 [00:00<?, ?it/s]"
      ]
     },
     "metadata": {},
     "output_type": "display_data"
    },
    {
     "data": {
      "application/vnd.jupyter.widget-view+json": {
       "model_id": "f805f7eee175484692a0ac631109f267",
       "version_major": 2,
       "version_minor": 0
      },
      "text/plain": [
       "Bills:   0%|          | 0/20 [00:00<?, ?it/s]"
      ]
     },
     "metadata": {},
     "output_type": "display_data"
    },
    {
     "data": {
      "application/vnd.jupyter.widget-view+json": {
       "model_id": "5bd945e6367f4d87b46d92b0ce9832b9",
       "version_major": 2,
       "version_minor": 0
      },
      "text/plain": [
       "Bills:   0%|          | 0/22 [00:00<?, ?it/s]"
      ]
     },
     "metadata": {},
     "output_type": "display_data"
    },
    {
     "data": {
      "application/vnd.jupyter.widget-view+json": {
       "model_id": "9156559350da4093864d8160b8c68906",
       "version_major": 2,
       "version_minor": 0
      },
      "text/plain": [
       "Bills:   0%|          | 0/138 [00:00<?, ?it/s]"
      ]
     },
     "metadata": {},
     "output_type": "display_data"
    }
   ],
   "source": [
    "def parse_bill_id(bill_id):\n",
    "    \"\"\"\n",
    "    Parse the bill_id to extract congress, type, and number.\n",
    "    \n",
    "    Args:\n",
    "    bill_id (str): A string representing the bill ID in the format BILLS-{congress}{type}{number}ih\n",
    "    \n",
    "    Returns:\n",
    "    tuple: Returns a tuple containing the congress, type, and number extracted from the bill_id.\n",
    "    \"\"\"\n",
    "    # Remove the 'BILLS-' prefix and 'ih' suffix\n",
    "    bill_id_stripped = bill_id.replace('BILLS-', '').rstrip('ih')\n",
    "    \n",
    "    # Find where digits end to separate congress number from type and number\n",
    "    digit_end = 0\n",
    "    for char in bill_id_stripped:\n",
    "        if char.isdigit():\n",
    "            digit_end += 1\n",
    "        else:\n",
    "            break\n",
    "    \n",
    "    # Extract congress number\n",
    "    congress = bill_id_stripped[:digit_end]\n",
    "    \n",
    "    # Remaining string contains type and number, need to separate them\n",
    "    remaining = bill_id_stripped[digit_end:]\n",
    "    \n",
    "    # Extract number from the end of the string\n",
    "    number = ''.join(filter(str.isdigit, remaining))\n",
    "    type_start = remaining.find(number)\n",
    "    \n",
    "    # Extract bill type\n",
    "    bill_type = remaining[:type_start]\n",
    "    \n",
    "    return congress, bill_type, number\n",
    "\n",
    "\n",
    "\n",
    "def load_bill_text(db_path, bill_text_dir):\n",
    "    conn = sqlite3.connect(db_path)\n",
    "    cursor = conn.cursor()\n",
    "\n",
    "\n",
    "    # Drop the existing bill_text table if it exists (REMOVE AFTER TESTING)\n",
    "    cursor.execute(\"DROP TABLE IF EXISTS bill_text\")\n",
    "    \n",
    "    # Create the updated bill_text table if it doesn't exist\n",
    "    cursor.execute(\"\"\"\n",
    "        CREATE TABLE IF NOT EXISTS bill_text (\n",
    "            bill_id TEXT PRIMARY KEY,\n",
    "            bill_congress INTEGER,\n",
    "            bill_type TEXT,\n",
    "            bill_number TEXT,\n",
    "            xml_content TEXT,\n",
    "            last_edited_date TEXT,\n",
    "            readable_text TEXT\n",
    "        )\n",
    "    \"\"\")\n",
    "\n",
    "    for congress_dir in tqdm(os.listdir(bill_text_dir), desc=\"Congress\"):\n",
    "        congress_path = os.path.join(bill_text_dir, congress_dir)\n",
    "        if not os.path.isdir(congress_path):\n",
    "            continue\n",
    "        \n",
    "        bill_text_data = []\n",
    "\n",
    "        for category_dir in tqdm(os.listdir(congress_path), desc=\"Category\", leave=False):\n",
    "            category_path = os.path.join(congress_path, category_dir)\n",
    "            if not os.path.isdir(category_path):\n",
    "                continue\n",
    "\n",
    "            for bill_type_dir in tqdm(os.listdir(category_path), desc=\"Bill Type\", leave=False):\n",
    "                bill_type_path = os.path.join(category_path, bill_type_dir)\n",
    "                if not os.path.isdir(bill_type_path):\n",
    "                    continue\n",
    "\n",
    "                for file_name in tqdm(os.listdir(bill_type_path), desc=\"Bills\", leave=False):\n",
    "                    if file_name.endswith('.xml'):\n",
    "                        bill_file_path = os.path.join(bill_type_path, file_name)\n",
    "                        with open(bill_file_path, 'r', encoding='utf-8') as file:\n",
    "                            xml_content = file.read()\n",
    "\n",
    "                        bill_id = file_name.replace('.xml', '')\n",
    "                        bill_congress, bill_type, bill_number = parse_bill_id(bill_id)\n",
    "                        last_edited_date = None\n",
    "\n",
    "                        last_edited_file = file_name.replace('.xml', '-lastmod.txt')\n",
    "                        last_edited_path = os.path.join(bill_type_path, last_edited_file)\n",
    "                        if os.path.exists(last_edited_path):\n",
    "                            with open(last_edited_path, 'r') as file:\n",
    "                                last_edited_date = file.read().strip()\n",
    "\n",
    "                        readable_text = convert_xml_to_readable(xml_content)\n",
    "\n",
    "                        bill_text_data.append({\n",
    "                            'bill_id': bill_id,\n",
    "                            'bill_congress': bill_congress,\n",
    "                            'bill_type': bill_type,\n",
    "                            'bill_number': bill_number,\n",
    "                            'xml_content': xml_content,\n",
    "                            'last_edited_date': last_edited_date,\n",
    "                            'readable_text': readable_text\n",
    "                        })\n",
    "\n",
    "        # Load data into a DataFrame and then into the SQLite database\n",
    "        bill_text_df = pd.DataFrame(bill_text_data)\n",
    "        bill_text_df.to_sql('bill_text', conn, if_exists='append', index=False, method='multi', chunksize=100)\n",
    "\n",
    "    conn.close()\n",
    "\n",
    "# Usage example\n",
    "db_path = \"data/bill_data.db\"\n",
    "bill_text_dir = \"data/bill-text\"\n",
    "load_bill_text(db_path, bill_text_dir)\n"
   ]
  },
  {
   "cell_type": "code",
   "execution_count": 18,
   "metadata": {},
   "outputs": [
    {
     "name": "stdout",
     "output_type": "stream",
     "text": [
      "Bill Text Table Preview:\n",
      "Bill ID: BILLS-113hconres10ih\n",
      "Bill Congress: 113\n",
      "Bill Type: hconres\n",
      "Bill Number: 10\n",
      "Last Edited Date: 2023-01-08T17:43:15.369Z\n",
      "XML Content:\n",
      "<?xml version=\"1.0\"?>\n",
      "<?xml-stylesheet type=\"text/xsl\" href=\"billres.xsl\"?>\n",
      "<!DOCTYPE resolution PUBLIC \"-//US Congress//DTDs/res.dtd//EN\" \"res.dtd\">\n",
      "<resolution dms-id=\"HE1B634ADB5524EE89838587297AC47D8\" key=\"H\" public-private=\"public\" resolution-stage=\"Introduced-in-House\" resolution-type=\"house-concurrent\" star-print=\"no-star-print\">\n",
      "\t<metadata xmlns:dc=\"http://purl.org/dc/elements/1.1/\">\n",
      "<dublinCore>\n",
      "<dc:title>113 HCON 10 IH: Supporting the goals and ideals of No Name-Calling Week in bringing attention to name-calling of all kinds and providing schools with the tools and inspiration to launch an on-going dialogue about ways to eliminate name-calling and bullying in their communities.</dc:title>\n",
      "<dc:publisher>U.S. House of Representatives</dc:publisher>\n",
      "<dc:date>2013-01-25</dc:date>\n",
      "<dc:format>text/xml</dc:format>\n",
      "<dc:language>EN</dc:language>\n",
      "<dc:rights>Pursuant to Title 17 Section 105 of the United States Code, this file is not subject to copyright protection and is in the public domain.</dc:rights>\n",
      "</dublinCore>\n",
      "</metadata>\n",
      "<form>\n",
      "\t\t<distribution-code display=\"yes\">IV</distribution-code>\n",
      "\t\t<congress display=\"yes\">113th CONGRESS</congress>\n",
      "\t\t<session display=\"yes\">1st Session</session>\n",
      "\t\t<legis-num>H. CON. RES. 10</legis-num>\n",
      "\t\t<current-chamber>IN THE HOUSE OF REPRESENTATIVES</current-chamber>\n",
      "\t\t<action display=\"yes\">\n",
      "\t\t\t<action-date date=\"20130125\">January 25, 2013</action-date>\n",
      "\t\t\t<action-desc><sponsor name-id=\"R000435\">Ms. Ros-Lehtinen</sponsor> (for\n",
      "\t\t\t herself, <cosponsor name-id=\"K000188\">Mr. Kind</cosponsor>,\n",
      "\t\t\t <cosponsor name-id=\"S001175\">Ms. Speier</cosponsor>,\n",
      "\t\t\t <cosponsor name-id=\"S001165\">Mr. Sires</cosponsor>,\n",
      "\t\t\t <cosponsor name-id=\"M000933\">Mr. Moran</cosponsor>,\n",
      "\t\t\t <cosponsor name-id=\"N000147\">Ms. Norton</cosponsor>,\n",
      "\t\t\t <cosponsor name-id=\"S001177\">Mr. Sablan</cosponsor>,\n",
      "\t\t\t <cosponsor name-id=\"P000598\">Mr. Polis</cosponsor>,\n",
      "\t\t\t <cosponsor name-id=\"C001084\">Mr. Cicilline</cosponsor>,\n",
      "\t\t\t <cosponsor name-id=\"P000607\">Mr. Pocan</cosponsor>,\n",
      "\t\t\t <cosponsor name-id=\"S001191\">Ms. Sinema</cosponsor>,\n",
      "\t\t\t <cosponsor name-id=\"S001145\">Ms. Schakowsky</cosponsor>, and\n",
      "\t\t\t <cosponsor name-id=\"H001034\">Mr. Honda</cosponsor>) submitted the following\n",
      "\t\t\t concurrent resolution; which was referred to the\n",
      "\t\t\t <committee-name committee-id=\"HGO00\">Committee on Oversight and Government\n",
      "\t\t\t Reform</committee-name></action-desc>\n",
      "\t\t</action>\n",
      "\t\t<legis-type>CONCURRENT RESOLUTION</legis-type>\n",
      "\t\t<official-title display=\"yes\">Supporting the goals and ideals of No\n",
      "\t\t  Name-Calling Week in bringing attention to name-calling of all kinds and\n",
      "\t\t  providing schools with the tools and inspiration to launch an on-going dialogue\n",
      "\t\t  about ways to eliminate name-calling and bullying in their\n",
      "\t\t  communities.</official-title>\n",
      "\t</form>\n",
      "\t<preamble>\n",
      "\t\t<whereas><text>Whereas No Name-Calling Week is an annual week of\n",
      "\t\t\t educational activities aimed at ending name-calling of all kinds and providing\n",
      "\t\t\t schools with the tools and inspiration to launch an on-going dialogue about\n",
      "\t\t\t ways to eliminate name-calling and bullying in their communities;</text>\n",
      "\t\t</whereas><whereas><text>Whereas 60 organizations, including the National School\n",
      "\t\t\t Boards Association, National Association of Elementary School Principals,\n",
      "\t\t\t National Association of Secondary School Principals, National Education\n",
      "\t\t\t Association, National Association of School Psychologists, Gay, Lesbian and\n",
      "\t\t\t Straight Education Network, and Big Brothers Big Sisters of America, have come\n",
      "\t\t\t together as No Name-Calling Week partner organizations;</text>\n",
      "\t\t</whereas><whereas><text>Whereas thousands of students have participated in No\n",
      "\t\t\t Name-Calling Week since its inception in 2004;</text>\n",
      "\t\t</whereas><whereas><text>Whereas the Gay, Lesbian and Straight Education Network\n",
      "\t\t\t has conducted and released national studies analyzing the pervasive harassment\n",
      "\t\t\t and victimization faced by elementary students and lesbian, gay, bisexual, and\n",
      "\t\t\t transgender (LGBT) secondary students;</text>\n",
      "\t\t</whereas><whereas><text>Whereas 26 percent of elementary students reported hearing\n",
      "\t\t\t others say hurtful things based on another student’s race or ethnic\n",
      "\t\t\t background;</text>\n",
      "\t\t</whereas><whereas><text>Whereas 30 percent of elementary students reported being\n",
      "\t\t\t bullied or called names at some point while in school;</text>\n",
      "\t\t</whereas><whereas><text>Whereas over 70 percent of LGBT middle and high school\n",
      "\t\t\t students frequently hear homophobic remarks and over 80 percent of LGBT middle\n",
      "\t\t\t and high school students were verbally harassed in the past year because of\n",
      "\t\t\t their sexual orientation; and</text>\n",
      "\t\t</whereas><whereas><text>Whereas 55 percent of LGBT middle and high school students\n",
      "\t\t\t experienced harassment via electronic means in the past year: Now, therefore,\n",
      "\t\t\t be it</text>\n",
      "\t\t</whereas></preamble>\n",
      "\t<resolution-body id=\"H4F3AF138CA9E4ABA84571F864B52B33D\" style=\"traditional\">\n",
      "\t\t<section display-inline=\"yes-display-inline\" id=\"H8EF0821428FA42178026B1BA1D153FE8\" section-type=\"undesignated-section\"><enum></enum><text>That Congress—</text>\n",
      "\t\t\t<paragraph id=\"H2DF0302BC09D4FBB8EC82957FC06EB01\"><enum>(1)</enum><text display-inline=\"yes-display-inline\">supports the goals and ideals of No\n",
      "\t\t\t Name-Calling Week; and</text>\n",
      "\t\t\t</paragraph><paragraph id=\"H2654FCE1A9984161831D4B81E3C7E298\"><enum>(2)</enum><text>encourages the\n",
      "\t\t\t people of the United States to observe No Name-Calling Week with appropriate\n",
      "\t\t\t ceremonies, programs, and activities.</text>\n",
      "\t\t\t</paragraph></section></resolution-body>\n",
      "</resolution>\n",
      "\n",
      "\n",
      "\n",
      "Readable Text: 113 HCON 10 IH: Supporting the goals and ideals of No Name-Calling Week in bringing attention to name-calling of all kinds and providing schools with the tools and inspiration to launch an on-going dialogue about ways to eliminate name-calling and bullying in their communities.\n",
      "\n",
      "113th CONGRESS\n",
      "1st Session\n",
      "H. CON. RES. 10\n",
      "\n",
      "IN THE HOUSE OF REPRESENTATIVES\n",
      "\n",
      "20130125\n",
      "\n",
      "Ms. Ros-Lehtinen  (for\n",
      "\t\t\t herself,  Mr. Kind ,\n",
      "\t\t\t  Ms. Speier ,\n",
      "\t\t\t  Mr. Sires ,\n",
      "\t\t\t  Mr. Moran ,\n",
      "\t\t\t  Ms. Norton ,\n",
      "\t\t\t  Mr. Sablan ,\n",
      "\t\t\t  Mr. Polis ,\n",
      "\t\t\t  Mr. Cicilline ,\n",
      "\t\t\t  Mr. Pocan ,\n",
      "\t\t\t  Ms. Sinema ,\n",
      "\t\t\t  Ms. Schakowsky , and\n",
      "\t\t\t  Mr. Honda ) submitted the following\n",
      "\t\t\t concurrent resolution; which was referred to the\n",
      "\t\t\t  Committee on Oversight and Government\n",
      "\t\t\t Reform\n",
      "\n",
      "CONCURRENT RESOLUTION\n",
      "\n",
      "Supporting the goals and ideals of No\n",
      "\t\t  Name-Calling Week in bringing attention to name-calling of all kinds and\n",
      "\t\t  providing schools with the tools and inspiration to launch an on-going dialogue\n",
      "\t\t  about ways to eliminate name-calling and bullying in their\n",
      "\t\t  communities.\n",
      "\n",
      "Preamble:\n",
      "Whereas No Name-Calling Week is an annual week of\n",
      "\t\t\t educational activities aimed at ending name-calling of all kinds and providing\n",
      "\t\t\t schools with the tools and inspiration to launch an on-going dialogue about\n",
      "\t\t\t ways to eliminate name-calling and bullying in their communities; \n",
      "\t\t Whereas 60 organizations, including the National School\n",
      "\t\t\t Boards Association, National Association of Elementary School Principals,\n",
      "\t\t\t National Association of Secondary School Principals, National Education\n",
      "\t\t\t Association, National Association of School Psychologists, Gay, Lesbian and\n",
      "\t\t\t Straight Education Network, and Big Brothers Big Sisters of America, have come\n",
      "\t\t\t together as No Name-Calling Week partner organizations; \n",
      "\t\t Whereas thousands of students have participated in No\n",
      "\t\t\t Name-Calling Week since its inception in 2004; \n",
      "\t\t Whereas the Gay, Lesbian and Straight Education Network\n",
      "\t\t\t has conducted and released national studies analyzing the pervasive harassment\n",
      "\t\t\t and victimization faced by elementary students and lesbian, gay, bisexual, and\n",
      "\t\t\t transgender (LGBT) secondary students; \n",
      "\t\t Whereas 26 percent of elementary students reported hearing\n",
      "\t\t\t others say hurtful things based on another student’s race or ethnic\n",
      "\t\t\t background; \n",
      "\t\t Whereas 30 percent of elementary students reported being\n",
      "\t\t\t bullied or called names at some point while in school; \n",
      "\t\t Whereas over 70 percent of LGBT middle and high school\n",
      "\t\t\t students frequently hear homophobic remarks and over 80 percent of LGBT middle\n",
      "\t\t\t and high school students were verbally harassed in the past year because of\n",
      "\t\t\t their sexual orientation; and \n",
      "\t\t Whereas 55 percent of LGBT middle and high school students\n",
      "\t\t\t experienced harassment via electronic means in the past year: Now, therefore,\n",
      "\t\t\t be it\n",
      "\n",
      "That Congress— \n",
      "\t\t\t (1) supports the goals and ideals of No\n",
      "\t\t\t Name-Calling Week; and \n",
      "\t\t\t (2) encourages the\n",
      "\t\t\t people of the United States to observe No Name-Calling Week with appropriate\n",
      "\t\t\t ceremonies, programs, and activities.\n",
      "------------------------\n",
      "Bill ID: BILLS-113hconres11eh\n",
      "Bill Congress: 113\n",
      "Bill Type: hconres\n",
      "Bill Number: 11\n",
      "Last Edited Date: 2023-01-08T17:39:52.041Z\n",
      "XML Content:\n",
      "<?xml version=\"1.0\"?>\n",
      "<?xml-stylesheet type=\"text/xsl\" href=\"billres.xsl\"?>\n",
      "<!DOCTYPE resolution PUBLIC \"-//US Congress//DTDs/res.dtd//EN\" \"res.dtd\">\n",
      "<resolution dms-id=\"H8D0A93D555394E28A8A6FD8D1364862A\" public-private=\"public\" resolution-stage=\"Engrossed-in-House\" resolution-type=\"house-concurrent\" star-print=\"no-star-print\" key=\"H\" stage-count=\"1\"> \n",
      "<metadata xmlns:dc=\"http://purl.org/dc/elements/1.1/\">\n",
      "<dublinCore>\n",
      "<dc:title>113 HCON 11 EH: Providing for a joint session of Congress to receive a message from the President.</dc:title>\n",
      "<dc:publisher>U.S. House of Representatives</dc:publisher>\n",
      "<dc:date></dc:date>\n",
      "<dc:format>text/xml</dc:format>\n",
      "<dc:language>EN</dc:language>\n",
      "<dc:rights>Pursuant to Title 17 Section 105 of the United States Code, this file is not subject to copyright protection and is in the public domain.</dc:rights>\n",
      "</dublinCore>\n",
      "</metadata>\n",
      "<form>\n",
      "<distribution-code display=\"no\">IV</distribution-code> \n",
      "<congress display=\"yes\">113th CONGRESS</congress> \n",
      "<session display=\"yes\">1st Session</session> \n",
      "<legis-num>H. CON. RES. 11</legis-num> \n",
      "<current-chamber display=\"no\">IN THE HOUSE OF REPRESENTATIVES</current-chamber> \n",
      "<legis-type>CONCURRENT RESOLUTION</legis-type> \n",
      "<official-title display=\"no\">Providing for a joint session of Congress to receive a message from the President.</official-title> \n",
      "</form> \n",
      "<resolution-body style=\"traditional\" id=\"HFFECE92115A74FFC8A19BB9921685EA8\"> \n",
      "<section display-inline=\"yes-display-inline\" section-type=\"undesignated-section\" id=\"H1D270F80F45B4B568C5C132C9563C88B\"><text display-inline=\"yes-display-inline\">That the two Houses of Congress assemble in the Hall of the House of Representatives on Tuesday, February 12, 2013, at 9 p.m., for the purpose of receiving such communication as the President of the United States shall be pleased to make to them. </text></section> \n",
      "</resolution-body> \n",
      "<attestation><attestation-group><attestation-date date=\"20130204\" chamber=\"House\">Passed the House of Representatives February 4, 2013.</attestation-date><attestor display=\"no\">Karen L. Haas,</attestor><role>Clerk.</role></attestation-group></attestation>\n",
      "<endorsement display=\"yes\"></endorsement>\n",
      "</resolution> \n",
      "\n",
      "\n",
      "\n",
      "Readable Text: 113 HCON 11 EH: Providing for a joint session of Congress to receive a message from the President.\n",
      "\n",
      "113th CONGRESS\n",
      "1st Session\n",
      "H. CON. RES. 11\n",
      "\n",
      "IN THE HOUSE OF REPRESENTATIVES\n",
      "\n",
      "CONCURRENT RESOLUTION\n",
      "\n",
      "Providing for a joint session of Congress to receive a message from the President.\n",
      "\n",
      "That the two Houses of Congress assemble in the Hall of the House of Representatives on Tuesday, February 12, 2013, at 9 p.m., for the purpose of receiving such communication as the President of the United States shall be pleased to make to them.\n",
      "------------------------\n",
      "Bill ID: BILLS-113hconres11enr\n",
      "Bill Congress: 113\n",
      "Bill Type: hconres\n",
      "Bill Number: 11\n",
      "Last Edited Date: 2023-01-06T12:29:01.247Z\n",
      "XML Content:\n",
      "<?xml version=\"1.0\"?>\n",
      "<?xml-stylesheet type=\"text/xsl\" href=\"billres.xsl\"?>\n",
      "<!DOCTYPE resolution PUBLIC \"-//US Congress//DTDs/res.dtd//EN\" \"res.dtd\">\n",
      "<resolution dms-id=\"H8D0A93D555394E28A8A6FD8D1364862A\" public-private=\"public\" resolution-stage=\"Enrolled-Bill\" resolution-type=\"house-concurrent\" star-print=\"no-star-print\" key=\"H\" stage-count=\"1\" public-print=\"no\"> \n",
      "<metadata xmlns:dc=\"http://purl.org/dc/elements/1.1/\">\n",
      "<dublinCore>\n",
      "<dc:title> HCON 11 ENR: Providing for a joint session of Congress to receive a message from the President.</dc:title>\n",
      "<dc:publisher>U.S. House of Representatives</dc:publisher>\n",
      "<dc:date>2013-02-07</dc:date>\n",
      "<dc:format>text/xml</dc:format>\n",
      "<dc:language>EN</dc:language>\n",
      "<dc:rights>Pursuant to Title 17 Section 105 of the United States Code, this file is not subject to copyright protection and is in the public domain.</dc:rights>\n",
      "</dublinCore>\n",
      "</metadata>\n",
      "<form display=\"yes\">\n",
      "<distribution-code display=\"no\">IV</distribution-code> \n",
      "<congress display=\"yes\">One Hundred Thirteenth Congress of the United States of America</congress> \n",
      "<session display=\"yes\">At the First Session</session><enrolled-dateline display=\"yes\">Begun and held at the City of Washington on Thursday, the third day of January, two thousand and thirteen</enrolled-dateline> \n",
      "<legis-num display=\"yes\">H. CON. RES. 11</legis-num> \n",
      "<current-chamber display=\"no\"/> \n",
      "<action display=\"yes\"> \n",
      "<action-date date=\"20130207\" display=\"yes\">February 7, 2013</action-date> \n",
      "<action-desc blank-lines-after=\"0\" display=\"yes\">Agreed to</action-desc> \n",
      "</action> \n",
      "<legis-type display=\"yes\">CONCURRENT RESOLUTION</legis-type> \n",
      "<official-title display=\"no\">Providing for a joint session of Congress to receive a message from the President.</official-title> \n",
      "</form> \n",
      "<resolution-body style=\"traditional\" id=\"HFFECE92115A74FFC8A19BB9921685EA8\" display-resolving-clause=\"yes-display-resolving-clause\"> \n",
      "<section display-inline=\"yes-display-inline\" section-type=\"undesignated-section\" id=\"H1D270F80F45B4B568C5C132C9563C88B\" commented=\"no\"><text display-inline=\"yes-display-inline\">That the two Houses of Congress assemble in the Hall of the House of Representatives on Tuesday, February 12, 2013, at 9 p.m., for the purpose of receiving such communication as the President of the United States shall be pleased to make to them. </text></section> </resolution-body> <attestation><attestation-group><role>Clerk of the House of Representatives.</role></attestation-group><attestation-group><role>Secretary of the Senate.</role></attestation-group></attestation> </resolution>\n",
      "\n",
      "Readable Text: HCON 11 ENR: Providing for a joint session of Congress to receive a message from the President.\n",
      "\n",
      "One Hundred Thirteenth Congress of the United States of America\n",
      "At the First Session\n",
      "H. CON. RES. 11\n",
      "\n",
      "\n",
      "\n",
      "20130207\n",
      "\n",
      "Agreed to\n",
      "\n",
      "CONCURRENT RESOLUTION\n",
      "\n",
      "Providing for a joint session of Congress to receive a message from the President.\n",
      "\n",
      "That the two Houses of Congress assemble in the Hall of the House of Representatives on Tuesday, February 12, 2013, at 9 p.m., for the purpose of receiving such communication as the President of the United States shall be pleased to make to them.\n",
      "------------------------\n",
      "Bill ID: BILLS-113hconres11rds\n",
      "Bill Congress: 113\n",
      "Bill Type: hconres\n",
      "Bill Number: 11\n",
      "Last Edited Date: 2023-01-08T17:39:52.090Z\n",
      "XML Content:\n",
      "<?xml version=\"1.0\"?>\n",
      "<?xml-stylesheet type=\"text/xsl\" href=\"billres.xsl\"?>\n",
      "<!DOCTYPE resolution PUBLIC \"-//US Congress//DTDs/res.dtd//EN\" \"res.dtd\">\n",
      "<resolution dms-id=\"H8D0A93D555394E28A8A6FD8D1364862A\" key=\"H\" public-private=\"public\" resolution-stage=\"Received-in-Senate\" resolution-type=\"house-concurrent\" stage-count=\"1\" star-print=\"no-star-print\">\n",
      "\t<metadata xmlns:dc=\"http://purl.org/dc/elements/1.1/\">\n",
      "<dublinCore>\n",
      "<dc:title>113 HCON 11 : Providing for a joint session of Congress to receive a message from the President.</dc:title>\n",
      "<dc:publisher>U.S. House of Representatives</dc:publisher>\n",
      "<dc:date></dc:date>\n",
      "<dc:format>text/xml</dc:format>\n",
      "<dc:language>EN</dc:language>\n",
      "<dc:rights>Pursuant to Title 17 Section 105 of the United States Code, this file is not subject to copyright protection and is in the public domain.</dc:rights>\n",
      "</dublinCore>\n",
      "</metadata>\n",
      "<form>\n",
      "\t\t<distribution-code display=\"yes\">II</distribution-code>\n",
      "\t\t<congress display=\"yes\">113th CONGRESS</congress>\n",
      "\t\t<session display=\"yes\">1st Session</session>\n",
      "\t\t<legis-num>H. CON. RES. 11</legis-num>\n",
      "\t\t<current-chamber display=\"yes\">IN THE SENATE OF THE UNITED\n",
      "\t\t  STATES</current-chamber>\n",
      "\t\t<action>\n",
      "\t\t\t<action-date>February 7, 2013</action-date>\n",
      "\t\t\t<action-desc>Received</action-desc>\n",
      "\t\t</action>\n",
      "\t\t<legis-type>CONCURRENT RESOLUTION</legis-type>\n",
      "\t\t<official-title display=\"yes\">Providing for a joint session of Congress\n",
      "\t\t  to receive a message from the President.</official-title>\n",
      "\t</form>\n",
      "\t<resolution-body id=\"HFFECE92115A74FFC8A19BB9921685EA8\" style=\"traditional\">\n",
      "\t\t<section display-inline=\"yes-display-inline\" id=\"H1D270F80F45B4B568C5C132C9563C88B\" section-type=\"undesignated-section\"><enum></enum><text display-inline=\"yes-display-inline\">That the two Houses of Congress assemble in\n",
      "\t\t\t the Hall of the House of Representatives on Tuesday, February 12, 2013, at 9\n",
      "\t\t\t p.m., for the purpose of receiving <pagebreak></pagebreak>such communication as the\n",
      "\t\t\t President of the United States shall be pleased to make to them.</text>\n",
      "\t\t</section></resolution-body>\n",
      "\t<attestation>\n",
      "\t\t<attestation-group>\n",
      "\t\t\t<attestation-date chamber=\"House\" date=\"20130204\">Passed the House of\n",
      "\t\t\t Representatives February 4, 2013.</attestation-date>\n",
      "\t\t\t<attestor display=\"yes\">Karen L. Haas,</attestor>\n",
      "\t\t\t<role>Clerk</role>\n",
      "\t\t</attestation-group>\n",
      "\t</attestation>\n",
      "</resolution>\n",
      "\n",
      "\n",
      "\n",
      "Readable Text: 113 HCON 11 : Providing for a joint session of Congress to receive a message from the President.\n",
      "\n",
      "113th CONGRESS\n",
      "1st Session\n",
      "H. CON. RES. 11\n",
      "\n",
      "IN THE SENATE OF THE UNITED\n",
      "\t\t  STATES\n",
      "\n",
      "None\n",
      "\n",
      "Received\n",
      "\n",
      "CONCURRENT RESOLUTION\n",
      "\n",
      "Providing for a joint session of Congress\n",
      "\t\t  to receive a message from the President.\n",
      "\n",
      "That the two Houses of Congress assemble in\n",
      "\t\t\t the Hall of the House of Representatives on Tuesday, February 12, 2013, at 9\n",
      "\t\t\t p.m., for the purpose of receiving  such communication as the\n",
      "\t\t\t President of the United States shall be pleased to make to them.\n",
      "------------------------\n",
      "Bill ID: BILLS-113hconres12ih\n",
      "Bill Congress: 113\n",
      "Bill Type: hconres\n",
      "Bill Number: 12\n",
      "Last Edited Date: 2023-01-08T17:39:52.155Z\n",
      "XML Content:\n",
      "<?xml version=\"1.0\"?>\n",
      "<?xml-stylesheet type=\"text/xsl\" href=\"billres.xsl\"?>\n",
      "<!DOCTYPE resolution PUBLIC \"-//US Congress//DTDs/res.dtd//EN\" \"res.dtd\">\n",
      "<resolution dms-id=\"H4DFA093F9A064CDD909CADA4A8A8C288\" key=\"H\" public-private=\"public\" resolution-stage=\"Introduced-in-House\" resolution-type=\"house-concurrent\" star-print=\"no-star-print\">\n",
      "\t<metadata xmlns:dc=\"http://purl.org/dc/elements/1.1/\">\n",
      "<dublinCore>\n",
      "<dc:title>113 HCON 12 IH: Honoring and praising the National Association for the Advancement of Colored People on the occasion of its 104th anniversary.</dc:title>\n",
      "<dc:publisher>U.S. House of Representatives</dc:publisher>\n",
      "<dc:date>2013-02-12</dc:date>\n",
      "<dc:format>text/xml</dc:format>\n",
      "<dc:language>EN</dc:language>\n",
      "<dc:rights>Pursuant to Title 17 Section 105 of the United States Code, this file is not subject to copyright protection and is in the public domain.</dc:rights>\n",
      "</dublinCore>\n",
      "</metadata>\n",
      "<form>\n",
      "\t\t<distribution-code display=\"yes\">IV</distribution-code>\n",
      "\t\t<congress display=\"yes\">113th CONGRESS</congress>\n",
      "\t\t<session display=\"yes\">1st Session</session>\n",
      "\t\t<legis-num>H. CON. RES. 12</legis-num>\n",
      "\t\t<current-chamber>IN THE HOUSE OF REPRESENTATIVES</current-chamber>\n",
      "\t\t<action display=\"yes\">\n",
      "\t\t\t<action-date date=\"20130212\">February 12, 2013</action-date>\n",
      "\t\t\t<action-desc><sponsor name-id=\"G000553\">Mr. Al Green of Texas</sponsor>\n",
      "\t\t\t (for himself, <cosponsor name-id=\"B001270\">Ms. Bass</cosponsor>,\n",
      "\t\t\t <cosponsor name-id=\"B001281\">Mrs. Beatty</cosponsor>,\n",
      "\t\t\t <cosponsor name-id=\"B000490\">Mr. Bishop of Georgia</cosponsor>,\n",
      "\t\t\t <cosponsor name-id=\"B000911\">Ms. Brown of Florida</cosponsor>,\n",
      "\t\t\t <cosponsor name-id=\"C001072\">Mr. Carson of Indiana</cosponsor>,\n",
      "\t\t\t <cosponsor name-id=\"C001067\">Ms. Clarke</cosponsor>,\n",
      "\t\t\t <cosponsor name-id=\"C001049\">Mr. Clay</cosponsor>, <cosponsor name-id=\"C001061\">Mr. Cleaver</cosponsor>, <cosponsor name-id=\"C000537\">Mr.\n",
      "\t\t\t Clyburn</cosponsor>, <cosponsor name-id=\"C000714\">Mr. Conyers</cosponsor>,\n",
      "\t\t\t <cosponsor name-id=\"C000984\">Mr. Cummings</cosponsor>,\n",
      "\t\t\t <cosponsor name-id=\"D000096\">Mr. Danny K. Davis of Illinois</cosponsor>,\n",
      "\t\t\t <cosponsor name-id=\"E000290\">Ms. Edwards</cosponsor>,\n",
      "\t\t\t <cosponsor name-id=\"F000455\">Ms. Fudge</cosponsor>,\n",
      "\t\t\t <cosponsor name-id=\"H000324\">Mr. Hastings of Florida</cosponsor>,\n",
      "\t\t\t <cosponsor name-id=\"H000636\">Mr. Hinojosa</cosponsor>,\n",
      "\t\t\t <cosponsor name-id=\"H001034\">Mr. Honda</cosponsor>,\n",
      "\t\t\t <cosponsor name-id=\"J000032\">Ms. Jackson Lee</cosponsor>,\n",
      "\t\t\t <cosponsor name-id=\"J000294\">Mr. Jeffries</cosponsor>,\n",
      "\t\t\t <cosponsor name-id=\"J000126\">Ms. Eddie Bernice Johnson of Texas</cosponsor>,\n",
      "\t\t\t <cosponsor name-id=\"J000288\">Mr. Johnson of Georgia</cosponsor>,\n",
      "\t\t\t <cosponsor name-id=\"L000551\">Ms. Lee of California</cosponsor>,\n",
      "\t\t\t <cosponsor name-id=\"L000287\">Mr. Lewis</cosponsor>,\n",
      "\t\t\t <cosponsor name-id=\"M001137\">Mr. Meeks</cosponsor>,\n",
      "\t\t\t <cosponsor name-id=\"M001160\">Ms. Moore</cosponsor>,\n",
      "\t\t\t <cosponsor name-id=\"N000147\">Ms. Norton</cosponsor>,\n",
      "\t\t\t <cosponsor name-id=\"P000099\">Mr. Pastor of Arizona</cosponsor>,\n",
      "\t\t\t <cosponsor name-id=\"P000604\">Mr. Payne</cosponsor>,\n",
      "\t\t\t <cosponsor name-id=\"R000053\">Mr. Rangel</cosponsor>,\n",
      "\t\t\t <cosponsor name-id=\"R000588\">Mr. Richmond</cosponsor>,\n",
      "\t\t\t <cosponsor name-id=\"R000515\">Mr. Rush</cosponsor>, <cosponsor name-id=\"S001157\">Mr. David Scott of Georgia</cosponsor>,\n",
      "\t\t\t <cosponsor name-id=\"S000185\">Mr. Scott of Virginia</cosponsor>,\n",
      "\t\t\t <cosponsor name-id=\"S001185\">Ms. Sewell of Alabama</cosponsor>,\n",
      "\t\t\t <cosponsor name-id=\"T000193\">Mr. Thompson of Mississippi</cosponsor>,\n",
      "\t\t\t <cosponsor name-id=\"V000131\">Mr. Veasey</cosponsor>,\n",
      "\t\t\t <cosponsor name-id=\"W000187\">Ms. Waters</cosponsor>,\n",
      "\t\t\t <cosponsor name-id=\"W000207\">Mr. Watt</cosponsor>, <cosponsor name-id=\"W000808\">Ms. Wilson of Florida</cosponsor>, and\n",
      "\t\t\t <cosponsor name-id=\"B001251\">Mr. Butterfield</cosponsor>) submitted the\n",
      "\t\t\t following concurrent resolution; which was referred to the\n",
      "\t\t\t <committee-name committee-id=\"HJU00\">Committee on the\n",
      "\t\t\t Judiciary</committee-name></action-desc>\n",
      "\t\t</action>\n",
      "\t\t<legis-type>CONCURRENT RESOLUTION</legis-type>\n",
      "\t\t<official-title display=\"yes\">Honoring and praising the National\n",
      "\t\t  Association for the Advancement of Colored People on the occasion of its 104th\n",
      "\t\t  anniversary.</official-title>\n",
      "\t</form>\n",
      "\t<preamble>\n",
      "\t\t<whereas><text>Whereas the National Association for the Advancement of\n",
      "\t\t\t Colored People (NAACP), originally known as the National Negro Committee, was\n",
      "\t\t\t founded in New York City on February 12, 1909, the centennial of Abraham\n",
      "\t\t\t Lincoln's birth, by a multiracial group of activists who met in a national\n",
      "\t\t\t conference to discuss the civil and political rights of\n",
      "\t\t\t African-Americans;</text>\n",
      "\t\t</whereas><whereas><text>Whereas the NAACP was founded by a distinguished group of\n",
      "\t\t\t leaders in the struggle for civil and political liberty, including Ida\n",
      "\t\t\t Wells-Barnett, W.E.B. DuBois, Henry Moscowitz, Mary White Ovington, Oswald\n",
      "\t\t\t Garrison Villard, and William English Walling;</text>\n",
      "\t\t</whereas><whereas><text>Whereas the NAACP is the oldest and largest civil rights\n",
      "\t\t\t organization in the United States;</text>\n",
      "\t\t</whereas><whereas><text>Whereas the NAACP National Headquarters is located in\n",
      "\t\t\t Baltimore, Maryland;</text>\n",
      "\t\t</whereas><whereas><text>Whereas the mission of the NAACP is to ensure the\n",
      "\t\t\t political, educational, social, and economic equality of rights of all persons\n",
      "\t\t\t and to eliminate racial hatred and racial discrimination;</text>\n",
      "\t\t</whereas><whereas><text>Whereas the NAACP is committed to achieving its goals\n",
      "\t\t\t through nonviolence;</text>\n",
      "\t\t</whereas><whereas><text>Whereas the NAACP advances its mission through reliance\n",
      "\t\t\t upon the press, the petition, the ballot, and the courts, and has been\n",
      "\t\t\t persistent in the use of legal and moral persuasion, even in the face of overt\n",
      "\t\t\t and violent racial hostility;</text>\n",
      "\t\t</whereas><whereas><text>Whereas the NAACP has used political pressure, marches,\n",
      "\t\t\t demonstrations, and effective lobbying to serve as the voice, as well as the\n",
      "\t\t\t shield, for minorities in the United States;</text>\n",
      "\t\t</whereas><whereas><text>Whereas after years of fighting segregation in public\n",
      "\t\t\t schools, the NAACP, under the leadership of Special Counsel Thurgood Marshall,\n",
      "\t\t\t won one of its greatest legal victories in the Supreme Court's decision in\n",
      "\t\t\t Brown v. Board of Education, 347 U.S. 483 (1954);</text>\n",
      "\t\t</whereas><whereas><text>Whereas in 1955, NAACP member Rosa Parks was arrested and\n",
      "\t\t\t fined for refusing to give up her seat on a segregated bus in Montgomery,\n",
      "\t\t\t Alabama, an act of courage that would serve as the catalyst for the largest\n",
      "\t\t\t grassroots civil rights movement in the history of the United States;</text>\n",
      "\t\t</whereas><whereas><text>Whereas the NAACP was prominent in lobbying for the\n",
      "\t\t\t passage of the Civil Rights Acts of 1957, 1960, and 1964, the Voting Rights Act\n",
      "\t\t\t of 1965, the Fannie Lou Hamer, Rosa Parks, Coretta Scott King, César E. Chávez,\n",
      "\t\t\t Barbara C. Jordan, William C. Velásquez, and Dr. Hector P. Garcia Voting Rights\n",
      "\t\t\t Act Reauthorization and Amendments Act of 2006, and the Fair Housing Act, laws\n",
      "\t\t\t that ensured Government protection for legal victories achieved;</text>\n",
      "\t\t</whereas><whereas><text>Whereas in 2005, the NAACP launched the Disaster Relief\n",
      "\t\t\t Fund to help hurricane survivors in Louisiana, Mississippi, Texas, Florida, and\n",
      "\t\t\t Alabama to rebuild their lives;</text>\n",
      "\t\t</whereas><whereas><text>Whereas in the 110th Congress, the NAACP was prominent in\n",
      "\t\t\t lobbying for the passage of H. Res. 826, whose resolved clause expresses that\n",
      "\t\t\t the hanging of nooses is a horrible act when used for the purpose of\n",
      "\t\t\t intimidation and which under certain circumstances can be criminal, this\n",
      "\t\t\t conduct should be investigated thoroughly by Federal authorities, and any\n",
      "\t\t\t criminal violations should be vigorously prosecuted;</text>\n",
      "\t\t</whereas><whereas><text>Whereas in 2008, the NAACP vigorously supported the\n",
      "\t\t\t passage of the Emmett Till Unsolved Civil Rights Crime Act of 2007, a law that\n",
      "\t\t\t puts additional Federal resources into solving the heinous crimes that occurred\n",
      "\t\t\t in the early days of the civil rights struggle that remain unsolved and\n",
      "\t\t\t bringing those who perpetrated such crimes to justice;</text>\n",
      "\t\t</whereas><whereas><text>Whereas the NAACP has helped usher in the new millennium\n",
      "\t\t\t by charting a bold course, beginning with the appointment of the organization’s\n",
      "\t\t\t youngest President and Chief Executive Officer, Benjamin Todd Jealous, and its\n",
      "\t\t\t youngest female Board Chair, Roslyn M. Brock;</text>\n",
      "\t\t</whereas><whereas><text>Whereas under their leadership, the NAACP has outlined a\n",
      "\t\t\t strategic plan to confront 21st century challenges in the critical areas of\n",
      "\t\t\t health, education, housing, criminal justice, and environment;</text>\n",
      "\t\t</whereas><whereas><text>Whereas, on July 16, 2009, the NAACP celebrated its\n",
      "\t\t\t centennial anniversary in New York City, highlighting an extraordinary century\n",
      "\t\t\t of Bold Dreams, Big Victories with a historic address from the first\n",
      "\t\t\t African-American President of the United States, Barack Obama;</text>\n",
      "\t\t</whereas><whereas><text>Whereas as an advocate for sentencing reform, the NAACP\n",
      "\t\t\t applauded the passage of the Fair Sentencing Act of 2010 (<external-xref legal-doc=\"public-law\" parsable-cite=\"pl/111/220\">Public Law 111–220</external-xref>;\n",
      "\t\t\t 124 Stat. 2372), a landmark piece of legislation that reduces the quantity of\n",
      "\t\t\t crack cocaine that triggers a mandatory minimum sentence for a Federal\n",
      "\t\t\t conviction of crack cocaine distribution from 100 times that of people\n",
      "\t\t\t convicted of distributing the drug in powdered form to 18 times that sentence;\n",
      "\t\t\t and</text>\n",
      "\t\t</whereas><whereas><text>Whereas in 2011, the NAACP led the charge to defend the\n",
      "\t\t\t constitutional right to vote and to protect that right for all citizens of the\n",
      "\t\t\t United States, whether they be seniors, young voters, the poor, or from\n",
      "\t\t\t minority communities: Now, therefore, be it</text>\n",
      "\t\t</whereas></preamble>\n",
      "\t<resolution-body id=\"H8D53C13DC5D04A38B39E51D6503C5740\" style=\"traditional\">\n",
      "\t\t<section display-inline=\"yes-display-inline\" id=\"HDC88329461214CF4B5999D34F3E2345C\" section-type=\"undesignated-section\"><enum></enum><text>That Congress—</text>\n",
      "\t\t\t<paragraph id=\"H60C3592E79A04086BA429C50FD008B85\"><enum>(1)</enum><text display-inline=\"yes-display-inline\">recognizes the 104th anniversary of the\n",
      "\t\t\t historic founding of the National Association for the Advancement of Colored\n",
      "\t\t\t People; and</text>\n",
      "\t\t\t</paragraph><paragraph id=\"H8F0A97B4F6F3410CA1D7B45DBE3AECBB\"><enum>(2)</enum><text>honors and praises\n",
      "\t\t\t the National Association for the Advancement of Colored People on the occasion\n",
      "\t\t\t of its anniversary for its work to ensure the political, educational, social,\n",
      "\t\t\t and economic equality of all persons.</text>\n",
      "\t\t\t</paragraph></section></resolution-body>\n",
      "</resolution>\n",
      "\n",
      "\n",
      "\n",
      "Readable Text: 113 HCON 12 IH: Honoring and praising the National Association for the Advancement of Colored People on the occasion of its 104th anniversary.\n",
      "\n",
      "113th CONGRESS\n",
      "1st Session\n",
      "H. CON. RES. 12\n",
      "\n",
      "IN THE HOUSE OF REPRESENTATIVES\n",
      "\n",
      "20130212\n",
      "\n",
      "Mr. Al Green of Texas \n",
      "\t\t\t (for himself,  Ms. Bass ,\n",
      "\t\t\t  Mrs. Beatty ,\n",
      "\t\t\t  Mr. Bishop of Georgia ,\n",
      "\t\t\t  Ms. Brown of Florida ,\n",
      "\t\t\t  Mr. Carson of Indiana ,\n",
      "\t\t\t  Ms. Clarke ,\n",
      "\t\t\t  Mr. Clay ,  Mr. Cleaver ,  Mr.\n",
      "\t\t\t Clyburn ,  Mr. Conyers ,\n",
      "\t\t\t  Mr. Cummings ,\n",
      "\t\t\t  Mr. Danny K. Davis of Illinois ,\n",
      "\t\t\t  Ms. Edwards ,\n",
      "\t\t\t  Ms. Fudge ,\n",
      "\t\t\t  Mr. Hastings of Florida ,\n",
      "\t\t\t  Mr. Hinojosa ,\n",
      "\t\t\t  Mr. Honda ,\n",
      "\t\t\t  Ms. Jackson Lee ,\n",
      "\t\t\t  Mr. Jeffries ,\n",
      "\t\t\t  Ms. Eddie Bernice Johnson of Texas ,\n",
      "\t\t\t  Mr. Johnson of Georgia ,\n",
      "\t\t\t  Ms. Lee of California ,\n",
      "\t\t\t  Mr. Lewis ,\n",
      "\t\t\t  Mr. Meeks ,\n",
      "\t\t\t  Ms. Moore ,\n",
      "\t\t\t  Ms. Norton ,\n",
      "\t\t\t  Mr. Pastor of Arizona ,\n",
      "\t\t\t  Mr. Payne ,\n",
      "\t\t\t  Mr. Rangel ,\n",
      "\t\t\t  Mr. Richmond ,\n",
      "\t\t\t  Mr. Rush ,  Mr. David Scott of Georgia ,\n",
      "\t\t\t  Mr. Scott of Virginia ,\n",
      "\t\t\t  Ms. Sewell of Alabama ,\n",
      "\t\t\t  Mr. Thompson of Mississippi ,\n",
      "\t\t\t  Mr. Veasey ,\n",
      "\t\t\t  Ms. Waters ,\n",
      "\t\t\t  Mr. Watt ,  Ms. Wilson of Florida , and\n",
      "\t\t\t  Mr. Butterfield ) submitted the\n",
      "\t\t\t following concurrent resolution; which was referred to the\n",
      "\t\t\t  Committee on the\n",
      "\t\t\t Judiciary\n",
      "\n",
      "CONCURRENT RESOLUTION\n",
      "\n",
      "Honoring and praising the National\n",
      "\t\t  Association for the Advancement of Colored People on the occasion of its 104th\n",
      "\t\t  anniversary.\n",
      "\n",
      "Preamble:\n",
      "Whereas the National Association for the Advancement of\n",
      "\t\t\t Colored People (NAACP), originally known as the National Negro Committee, was\n",
      "\t\t\t founded in New York City on February 12, 1909, the centennial of Abraham\n",
      "\t\t\t Lincoln's birth, by a multiracial group of activists who met in a national\n",
      "\t\t\t conference to discuss the civil and political rights of\n",
      "\t\t\t African-Americans; \n",
      "\t\t Whereas the NAACP was founded by a distinguished group of\n",
      "\t\t\t leaders in the struggle for civil and political liberty, including Ida\n",
      "\t\t\t Wells-Barnett, W.E.B. DuBois, Henry Moscowitz, Mary White Ovington, Oswald\n",
      "\t\t\t Garrison Villard, and William English Walling; \n",
      "\t\t Whereas the NAACP is the oldest and largest civil rights\n",
      "\t\t\t organization in the United States; \n",
      "\t\t Whereas the NAACP National Headquarters is located in\n",
      "\t\t\t Baltimore, Maryland; \n",
      "\t\t Whereas the mission of the NAACP is to ensure the\n",
      "\t\t\t political, educational, social, and economic equality of rights of all persons\n",
      "\t\t\t and to eliminate racial hatred and racial discrimination; \n",
      "\t\t Whereas the NAACP is committed to achieving its goals\n",
      "\t\t\t through nonviolence; \n",
      "\t\t Whereas the NAACP advances its mission through reliance\n",
      "\t\t\t upon the press, the petition, the ballot, and the courts, and has been\n",
      "\t\t\t persistent in the use of legal and moral persuasion, even in the face of overt\n",
      "\t\t\t and violent racial hostility; \n",
      "\t\t Whereas the NAACP has used political pressure, marches,\n",
      "\t\t\t demonstrations, and effective lobbying to serve as the voice, as well as the\n",
      "\t\t\t shield, for minorities in the United States; \n",
      "\t\t Whereas after years of fighting segregation in public\n",
      "\t\t\t schools, the NAACP, under the leadership of Special Counsel Thurgood Marshall,\n",
      "\t\t\t won one of its greatest legal victories in the Supreme Court's decision in\n",
      "\t\t\t Brown v. Board of Education, 347 U.S. 483 (1954); \n",
      "\t\t Whereas in 1955, NAACP member Rosa Parks was arrested and\n",
      "\t\t\t fined for refusing to give up her seat on a segregated bus in Montgomery,\n",
      "\t\t\t Alabama, an act of courage that would serve as the catalyst for the largest\n",
      "\t\t\t grassroots civil rights movement in the history of the United States; \n",
      "\t\t Whereas the NAACP was prominent in lobbying for the\n",
      "\t\t\t passage of the Civil Rights Acts of 1957, 1960, and 1964, the Voting Rights Act\n",
      "\t\t\t of 1965, the Fannie Lou Hamer, Rosa Parks, Coretta Scott King, César E. Chávez,\n",
      "\t\t\t Barbara C. Jordan, William C. Velásquez, and Dr. Hector P. Garcia Voting Rights\n",
      "\t\t\t Act Reauthorization and Amendments Act of 2006, and the Fair Housing Act, laws\n",
      "\t\t\t that ensured Government protection for legal victories achieved; \n",
      "\t\t Whereas in 2005, the NAACP launched the Disaster Relief\n",
      "\t\t\t Fund to help hurricane survivors in Louisiana, Mississippi, Texas, Florida, and\n",
      "\t\t\t Alabama to rebuild their lives; \n",
      "\t\t Whereas in the 110th Congress, the NAACP was prominent in\n",
      "\t\t\t lobbying for the passage of H. Res. 826, whose resolved clause expresses that\n",
      "\t\t\t the hanging of nooses is a horrible act when used for the purpose of\n",
      "\t\t\t intimidation and which under certain circumstances can be criminal, this\n",
      "\t\t\t conduct should be investigated thoroughly by Federal authorities, and any\n",
      "\t\t\t criminal violations should be vigorously prosecuted; \n",
      "\t\t Whereas in 2008, the NAACP vigorously supported the\n",
      "\t\t\t passage of the Emmett Till Unsolved Civil Rights Crime Act of 2007, a law that\n",
      "\t\t\t puts additional Federal resources into solving the heinous crimes that occurred\n",
      "\t\t\t in the early days of the civil rights struggle that remain unsolved and\n",
      "\t\t\t bringing those who perpetrated such crimes to justice; \n",
      "\t\t Whereas the NAACP has helped usher in the new millennium\n",
      "\t\t\t by charting a bold course, beginning with the appointment of the organization’s\n",
      "\t\t\t youngest President and Chief Executive Officer, Benjamin Todd Jealous, and its\n",
      "\t\t\t youngest female Board Chair, Roslyn M. Brock; \n",
      "\t\t Whereas under their leadership, the NAACP has outlined a\n",
      "\t\t\t strategic plan to confront 21st century challenges in the critical areas of\n",
      "\t\t\t health, education, housing, criminal justice, and environment; \n",
      "\t\t Whereas, on July 16, 2009, the NAACP celebrated its\n",
      "\t\t\t centennial anniversary in New York City, highlighting an extraordinary century\n",
      "\t\t\t of Bold Dreams, Big Victories with a historic address from the first\n",
      "\t\t\t African-American President of the United States, Barack Obama; \n",
      "\t\t Whereas as an advocate for sentencing reform, the NAACP\n",
      "\t\t\t applauded the passage of the Fair Sentencing Act of 2010 ( Public Law 111–220 ;\n",
      "\t\t\t 124 Stat. 2372), a landmark piece of legislation that reduces the quantity of\n",
      "\t\t\t crack cocaine that triggers a mandatory minimum sentence for a Federal\n",
      "\t\t\t conviction of crack cocaine distribution from 100 times that of people\n",
      "\t\t\t convicted of distributing the drug in powdered form to 18 times that sentence;\n",
      "\t\t\t and \n",
      "\t\t Whereas in 2011, the NAACP led the charge to defend the\n",
      "\t\t\t constitutional right to vote and to protect that right for all citizens of the\n",
      "\t\t\t United States, whether they be seniors, young voters, the poor, or from\n",
      "\t\t\t minority communities: Now, therefore, be it\n",
      "\n",
      "That Congress— \n",
      "\t\t\t (1) recognizes the 104th anniversary of the\n",
      "\t\t\t historic founding of the National Association for the Advancement of Colored\n",
      "\t\t\t People; and \n",
      "\t\t\t (2) honors and praises\n",
      "\t\t\t the National Association for the Advancement of Colored People on the occasion\n",
      "\t\t\t of its anniversary for its work to ensure the political, educational, social,\n",
      "\t\t\t and economic equality of all persons.\n",
      "------------------------\n",
      "\n",
      "Total Bill Text Count:\n",
      "Total Bill Text Records: 104817\n",
      "\n",
      "Bill Text Count by Congress:\n",
      "Congress BIL: 104817 bills\n"
     ]
    }
   ],
   "source": [
    "def preview_bill_text_table(db_path):\n",
    "    conn = sqlite3.connect(db_path)\n",
    "    cursor = conn.cursor()\n",
    "\n",
    "    print(\"Bill Text Table Preview:\")\n",
    "    cursor.execute(\"\"\"\n",
    "        SELECT bill_id, bill_congress, bill_number, bill_type, xml_content, last_edited_date, readable_text\n",
    "        FROM bill_text\n",
    "        LIMIT 5\n",
    "    \"\"\")\n",
    "    bill_text_data = cursor.fetchall()\n",
    "    for row in bill_text_data:\n",
    "        print(f\"Bill ID: {row[0]}\")\n",
    "        print(f\"Bill Congress: {row[1]}\")\n",
    "        print(f\"Bill Type: {row[3]}\")\n",
    "        print(f\"Bill Number: {row[2]}\")\n",
    "        print(f\"Last Edited Date: {row[5]}\")\n",
    "        print(f\"XML Content:\\n{row[4]}\")\n",
    "        print(f\"Readable Text: {row[6]}\")\n",
    "        print(\"------------------------\")\n",
    "\n",
    "    print(\"\\nTotal Bill Text Count:\")\n",
    "    cursor.execute(\"SELECT COUNT(*) FROM bill_text\")\n",
    "    total_bill_text = cursor.fetchone()[0]\n",
    "    print(f\"Total Bill Text Records: {total_bill_text}\")\n",
    "\n",
    "    print(\"\\nBill Text Count by Congress:\")\n",
    "    cursor.execute(\"\"\"\n",
    "        SELECT substr(bill_id, 1, 3) as congress, COUNT(*) as count\n",
    "        FROM bill_text\n",
    "        GROUP BY congress\n",
    "    \"\"\")\n",
    "    bill_text_by_congress = cursor.fetchall()\n",
    "    for row in bill_text_by_congress:\n",
    "        print(f\"Congress {row[0]}: {row[1]} bills\")\n",
    "\n",
    "    conn.close()\n",
    "\n",
    "# Usage\n",
    "db_path = \"data/bill_data.db\"\n",
    "preview_bill_text_table(db_path)"
   ]
  }
 ],
 "metadata": {
  "kernelspec": {
   "display_name": "Python 3",
   "language": "python",
   "name": "python3"
  },
  "language_info": {
   "codemirror_mode": {
    "name": "ipython",
    "version": 3
   },
   "file_extension": ".py",
   "mimetype": "text/x-python",
   "name": "python",
   "nbconvert_exporter": "python",
   "pygments_lexer": "ipython3",
   "version": "3.11.8"
  }
 },
 "nbformat": 4,
 "nbformat_minor": 2
}
