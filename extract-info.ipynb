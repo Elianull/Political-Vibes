{
 "cells": [
  {
   "cell_type": "code",
   "execution_count": 1,
   "metadata": {},
   "outputs": [],
   "source": [
    "import os\n",
    "import sqlite3\n",
    "import xml.etree.ElementTree as ET\n",
    "import pandas as pd\n",
    "from tqdm.notebook import tqdm\n",
    "import matplotlib.pyplot as plt\n",
    "from datetime import datetime\n",
    "import seaborn as sns"
   ]
  },
  {
   "cell_type": "code",
   "execution_count": 2,
   "metadata": {},
   "outputs": [],
   "source": [
    "def parse_bill_xml(file_path):\n",
    "    tree = ET.parse(file_path)\n",
    "    root = tree.getroot()\n",
    "\n",
    "    bill_data = {}\n",
    "    bill_number_element = root.find('bill/number')\n",
    "    if bill_number_element is None:\n",
    "        bill_number_element = root.find('bill/billNumber')\n",
    "    bill_type_element = root.find('bill/type')\n",
    "    if bill_type_element is None:\n",
    "        bill_type_element = root.find('bill/billType')\n",
    "    if bill_number_element is None or bill_type_element is None:\n",
    "        raise ValueError(f\"Missing required elements in XML file: {file_path}\")\n",
    "\n",
    "    bill_data['bill_number'] = f\"{bill_type_element.text}{bill_number_element.text}\"\n",
    "\n",
    "    congress_element = root.find(\"bill/congress\")\n",
    "    if congress_element is not None:\n",
    "        bill_data['bill_congress'] = int(congress_element.text)\n",
    "\n",
    "    bill_data['bill_type'] = bill_type_element.text\n",
    "\n",
    "    title_element = root.find(\"bill/titles/item[titleType='Official Title as Introduced']/title\")\n",
    "    if title_element is None:\n",
    "        raise ValueError(f\"Missing 'title' element in XML file: {file_path}\")\n",
    "    bill_data['title'] = title_element.text\n",
    "\n",
    "    version_element = root.find(\"version\")\n",
    "    if version_element is not None:\n",
    "        bill_data['bill_version'] = version_element.text\n",
    "    else:\n",
    "        bill_data['bill_version'] = 'Unknown'\n",
    "\n",
    "    # Attempt to find the sponsors element and proceed only if it's found and not empty\n",
    "    sponsor_element = root.find(\"bill/sponsors/item\")\n",
    "    if sponsor_element is not None:\n",
    "        sponsor_bioguide_id_element = sponsor_element.find(\"bioguideId\")\n",
    "        if sponsor_bioguide_id_element is not None:\n",
    "            bill_data['sponsor_bioguide_id'] = sponsor_bioguide_id_element.text\n",
    "        else:\n",
    "            bill_data['sponsor_bioguide_id'] = 'Unknown'\n",
    "\n",
    "        sponsor_full_name_element = sponsor_element.find(\"fullName\")\n",
    "        if sponsor_full_name_element is not None:\n",
    "            bill_data['sponsor_full_name'] = sponsor_full_name_element.text\n",
    "        else:\n",
    "            bill_data['sponsor_full_name'] = 'Unknown'\n",
    "    else:\n",
    "        # Handle the case where no sponsor information is present\n",
    "        bill_data['sponsor_bioguide_id'] = 'None'\n",
    "        bill_data['sponsor_full_name'] = 'None'\n",
    "\n",
    "\n",
    "    introduced_date_element = root.find(\"bill/introducedDate\")\n",
    "    if introduced_date_element is None:\n",
    "        raise ValueError(f\"Missing 'introduced_date' element in XML file: {file_path}\")\n",
    "    bill_data['introduced_date'] = introduced_date_element.text\n",
    "\n",
    "    latest_action_date_element = root.find(\"bill/latestAction/actionDate\")\n",
    "    if latest_action_date_element is None:\n",
    "        raise ValueError(f\"Missing 'latest_action_date' element in XML file: {file_path}\")\n",
    "    bill_data['latest_action_date'] = latest_action_date_element.text\n",
    "\n",
    "    latest_action_text_element = root.find(\"bill/latestAction/text\")\n",
    "    if latest_action_text_element is None:\n",
    "        raise ValueError(f\"Missing 'latest_action_text' element in XML file: {file_path}\")\n",
    "    bill_data['latest_action_text'] = latest_action_text_element.text\n",
    "\n",
    "    policy_area_element = root.find(\"bill/policyArea/name\")\n",
    "    bill_data['policy_area'] = policy_area_element.text if policy_area_element is not None else 'Unknown'\n",
    "\n",
    "    subject_elements = root.findall(\"bill/subjects/legislativeSubjects/item/name\")\n",
    "    bill_data['subjects'] = [subject_element.text for subject_element in subject_elements] if subject_elements else 'Unknown'\n",
    "\n",
    "    cosponsor_elements = root.findall(\"bill/cosponsors/item/bioguideId\")\n",
    "    bill_data['cosponsors'] = [cosponsor_element.text for cosponsor_element in cosponsor_elements] if cosponsor_elements else 'Unknown'\n",
    "\n",
    "    related_bills = []\n",
    "    for related_bill in root.findall(\"bill/relatedBills/item\"):\n",
    "        related_bill_type = related_bill.find('type')\n",
    "        related_bill_number = related_bill.find('number')\n",
    "        if related_bill_type is not None and related_bill_number is not None:\n",
    "            related_bills.append(f\"{related_bill_type.text}{related_bill_number.text}\")\n",
    "        else:\n",
    "            related_bills.append('Unknown')\n",
    "\n",
    "    return bill_data, related_bills"
   ]
  },
  {
   "cell_type": "code",
   "execution_count": 3,
   "metadata": {},
   "outputs": [
    {
     "data": {
      "application/vnd.jupyter.widget-view+json": {
       "model_id": "dc26d82c63b7407facf56b7b107da3c7",
       "version_major": 2,
       "version_minor": 0
      },
      "text/plain": [
       "Congress:   0%|          | 0/6 [00:00<?, ?it/s]"
      ]
     },
     "metadata": {},
     "output_type": "display_data"
    },
    {
     "data": {
      "application/vnd.jupyter.widget-view+json": {
       "model_id": "4f35bbf8bbbc4fb4b659209ff22fb53a",
       "version_major": 2,
       "version_minor": 0
      },
      "text/plain": [
       "Bill Type:   0%|          | 0/8 [00:00<?, ?it/s]"
      ]
     },
     "metadata": {},
     "output_type": "display_data"
    },
    {
     "data": {
      "application/vnd.jupyter.widget-view+json": {
       "model_id": "26993e3bf96f48ccb7d666ad235669b0",
       "version_major": 2,
       "version_minor": 0
      },
      "text/plain": [
       "Bill Number:   0%|          | 0/125 [00:00<?, ?it/s]"
      ]
     },
     "metadata": {},
     "output_type": "display_data"
    },
    {
     "data": {
      "application/vnd.jupyter.widget-view+json": {
       "model_id": "56beb5fdd3354b938bd1cb36c8e6c115",
       "version_major": 2,
       "version_minor": 0
      },
      "text/plain": [
       "Bill Number:   0%|          | 0/131 [00:00<?, ?it/s]"
      ]
     },
     "metadata": {},
     "output_type": "display_data"
    },
    {
     "data": {
      "application/vnd.jupyter.widget-view+json": {
       "model_id": "68322c52e71341a4b76b3b726515c703",
       "version_major": 2,
       "version_minor": 0
      },
      "text/plain": [
       "Bill Number:   0%|          | 0/5885 [00:00<?, ?it/s]"
      ]
     },
     "metadata": {},
     "output_type": "display_data"
    },
    {
     "data": {
      "application/vnd.jupyter.widget-view+json": {
       "model_id": "8dbaf4682ebe4f779bf6ffa2d04285aa",
       "version_major": 2,
       "version_minor": 0
      },
      "text/plain": [
       "Bill Number:   0%|          | 0/784 [00:00<?, ?it/s]"
      ]
     },
     "metadata": {},
     "output_type": "display_data"
    },
    {
     "data": {
      "application/vnd.jupyter.widget-view+json": {
       "model_id": "334c633bd82040139e14aa916269beab",
       "version_major": 2,
       "version_minor": 0
      },
      "text/plain": [
       "Bill Number:   0%|          | 0/3020 [00:00<?, ?it/s]"
      ]
     },
     "metadata": {},
     "output_type": "display_data"
    },
    {
     "data": {
      "application/vnd.jupyter.widget-view+json": {
       "model_id": "0b224a33bc424cdea3b4bd45dfd36f37",
       "version_major": 2,
       "version_minor": 0
      },
      "text/plain": [
       "Bill Number:   0%|          | 0/44 [00:00<?, ?it/s]"
      ]
     },
     "metadata": {},
     "output_type": "display_data"
    },
    {
     "data": {
      "application/vnd.jupyter.widget-view+json": {
       "model_id": "56cf2178e6344039b2ee645878cef14b",
       "version_major": 2,
       "version_minor": 0
      },
      "text/plain": [
       "Bill Number:   0%|          | 0/47 [00:00<?, ?it/s]"
      ]
     },
     "metadata": {},
     "output_type": "display_data"
    },
    {
     "data": {
      "application/vnd.jupyter.widget-view+json": {
       "model_id": "6e58563bbc1445c5811e462813adb96b",
       "version_major": 2,
       "version_minor": 0
      },
      "text/plain": [
       "Bill Number:   0%|          | 0/601 [00:00<?, ?it/s]"
      ]
     },
     "metadata": {},
     "output_type": "display_data"
    },
    {
     "name": "stdout",
     "output_type": "stream",
     "text": [
      "Debug: bills_df\n",
      "  bill_number  bill_congress bill_type  \\\n",
      "0    HCONRES1            113   HCONRES   \n",
      "1   HCONRES10            113   HCONRES   \n",
      "2  HCONRES100            113   HCONRES   \n",
      "3  HCONRES101            113   HCONRES   \n",
      "4  HCONRES102            113   HCONRES   \n",
      "\n",
      "                                               title bill_version  \\\n",
      "0  Regarding consent to assemble outside the seat...        3.0.0   \n",
      "1  Supporting the goals and ideals of No Name-Cal...        3.0.0   \n",
      "2  Authorizing the use of the rotunda of the Capi...        3.0.0   \n",
      "3  Expressing the sense of Congress that Warren W...        3.0.0   \n",
      "4  Expressing support for designation of June 21 ...        3.0.0   \n",
      "\n",
      "  sponsor_bioguide_id                    sponsor_full_name introduced_date  \\\n",
      "0             S000250        Rep. Sessions, Pete [R-TX-32]      2013-01-03   \n",
      "1             R000435  Rep. Ros-Lehtinen, Ileana [R-FL-27]      2013-01-25   \n",
      "2             F000455      Rep. Fudge, Marcia L. [D-OH-11]      2014-05-22   \n",
      "3             D000620       Rep. Delaney, John K. [D-MD-6]      2014-06-11   \n",
      "4             C001084    Rep. Cicilline, David N. [D-RI-1]      2014-06-20   \n",
      "\n",
      "  latest_action_date                                 latest_action_text  \\\n",
      "0         2013-01-04                            Received in the Senate.   \n",
      "1         2013-01-25  Referred to the House Committee on Oversight a...   \n",
      "2         2014-06-11        Message on Senate action sent to the House.   \n",
      "3         2014-06-11  Referred to the House Committee on Foreign Aff...   \n",
      "4         2014-06-20  Referred to the House Committee on Oversight a...   \n",
      "\n",
      "             policy_area                                           subjects  \\\n",
      "0               Congress        [Congressional operations and organization]   \n",
      "1              Education  [Assault and harassment offenses, Commemorativ...   \n",
      "2               Congress  [Commemorative events and holidays, Human righ...   \n",
      "3  International Affairs  [Asia, Congressional oversight, Detention of p...   \n",
      "4                 Health  [Child health, Child safety and welfare, Comme...   \n",
      "\n",
      "                                          cosponsors  \n",
      "0                                            Unknown  \n",
      "1  [K000188, S001175, S001165, M000933, N000147, ...  \n",
      "2                                            Unknown  \n",
      "3                                 [E000179, V000128]  \n",
      "4  [L000559, M001137, N000147, E000288, M001143, ...  \n",
      "Debug: related_bills_df\n",
      "   bill_congress bill_type bill_number bill_version related_bill_number\n",
      "0            113   HCONRES  HCONRES101        3.0.0           SCONRES38\n",
      "1            113   HCONRES  HCONRES103        3.0.0           HCONRES44\n",
      "2            113   HCONRES  HCONRES104        3.0.0                S409\n",
      "3            113   HCONRES  HCONRES106        3.0.0           SCONRES40\n",
      "4            113   HCONRES  HCONRES107        3.0.0           SCONRES41\n"
     ]
    },
    {
     "data": {
      "application/vnd.jupyter.widget-view+json": {
       "model_id": "45953f03cc714ff1a8886ec0a392ab4f",
       "version_major": 2,
       "version_minor": 0
      },
      "text/plain": [
       "Bill Type:   0%|          | 0/8 [00:00<?, ?it/s]"
      ]
     },
     "metadata": {},
     "output_type": "display_data"
    },
    {
     "data": {
      "application/vnd.jupyter.widget-view+json": {
       "model_id": "9ced51c225264edeb24b3a671905e6c3",
       "version_major": 2,
       "version_minor": 0
      },
      "text/plain": [
       "Bill Number:   0%|          | 0/183 [00:00<?, ?it/s]"
      ]
     },
     "metadata": {},
     "output_type": "display_data"
    },
    {
     "data": {
      "application/vnd.jupyter.widget-view+json": {
       "model_id": "631a95ea45c74b0b9813d49f8f15d8c9",
       "version_major": 2,
       "version_minor": 0
      },
      "text/plain": [
       "Bill Number:   0%|          | 0/108 [00:00<?, ?it/s]"
      ]
     },
     "metadata": {},
     "output_type": "display_data"
    },
    {
     "data": {
      "application/vnd.jupyter.widget-view+json": {
       "model_id": "5cf7c8154dca449ebc8b7cee7ded12ff",
       "version_major": 2,
       "version_minor": 0
      },
      "text/plain": [
       "Bill Number:   0%|          | 0/6526 [00:00<?, ?it/s]"
      ]
     },
     "metadata": {},
     "output_type": "display_data"
    },
    {
     "data": {
      "application/vnd.jupyter.widget-view+json": {
       "model_id": "8a2641cce241442995bd26e114f57e41",
       "version_major": 2,
       "version_minor": 0
      },
      "text/plain": [
       "Bill Number:   0%|          | 0/957 [00:00<?, ?it/s]"
      ]
     },
     "metadata": {},
     "output_type": "display_data"
    },
    {
     "data": {
      "application/vnd.jupyter.widget-view+json": {
       "model_id": "5e7df0aae11943ae8b029134ef09d213",
       "version_major": 2,
       "version_minor": 0
      },
      "text/plain": [
       "Bill Number:   0%|          | 0/3548 [00:00<?, ?it/s]"
      ]
     },
     "metadata": {},
     "output_type": "display_data"
    },
    {
     "data": {
      "application/vnd.jupyter.widget-view+json": {
       "model_id": "f85f03e33fc147039807efb25ce20c87",
       "version_major": 2,
       "version_minor": 0
      },
      "text/plain": [
       "Bill Number:   0%|          | 0/58 [00:00<?, ?it/s]"
      ]
     },
     "metadata": {},
     "output_type": "display_data"
    },
    {
     "data": {
      "application/vnd.jupyter.widget-view+json": {
       "model_id": "6ac53a05d1cf4d38b38f035acc909f96",
       "version_major": 2,
       "version_minor": 0
      },
      "text/plain": [
       "Bill Number:   0%|          | 0/41 [00:00<?, ?it/s]"
      ]
     },
     "metadata": {},
     "output_type": "display_data"
    },
    {
     "data": {
      "application/vnd.jupyter.widget-view+json": {
       "model_id": "4fcd6efdeb2e40af8746bd0feb4267e5",
       "version_major": 2,
       "version_minor": 0
      },
      "text/plain": [
       "Bill Number:   0%|          | 0/642 [00:00<?, ?it/s]"
      ]
     },
     "metadata": {},
     "output_type": "display_data"
    },
    {
     "name": "stdout",
     "output_type": "stream",
     "text": [
      "Debug: bills_df\n",
      "  bill_number  bill_congress bill_type  \\\n",
      "0    HCONRES1            114   HCONRES   \n",
      "1   HCONRES10            114   HCONRES   \n",
      "2  HCONRES100            114   HCONRES   \n",
      "3  HCONRES101            114   HCONRES   \n",
      "4  HCONRES102            114   HCONRES   \n",
      "\n",
      "                                               title bill_version  \\\n",
      "0  Regarding consent to assemble outside the seat...        3.0.0   \n",
      "1  Recognizing the challenges and burdens associa...        3.0.0   \n",
      "2  Expressing the sense of the Congress regarding...        3.0.0   \n",
      "3  Supporting the Association of American Veterin...        3.0.0   \n",
      "4  Providing for a joint session of Congress to r...        3.0.0   \n",
      "\n",
      "  sponsor_bioguide_id               sponsor_full_name introduced_date  \\\n",
      "0             S000250   Rep. Sessions, Pete [R-TX-32]      2015-01-06   \n",
      "1             F000043     Rep. Fattah, Chaka [D-PA-2]      2015-01-27   \n",
      "2             R000580  Rep. Roskam, Peter J. [R-IL-6]      2015-12-01   \n",
      "3             Y000065      Rep. Yoho, Ted S. [R-FL-3]      2015-12-11   \n",
      "4             M001165  Rep. McCarthy, Kevin [R-CA-23]      2015-12-15   \n",
      "\n",
      "  latest_action_date                                 latest_action_text  \\\n",
      "0         2015-01-07                            Received in the Senate.   \n",
      "1         2015-01-27  Referred to the House Committee on Education a...   \n",
      "2         2015-12-02  Sponsor introductory remarks on measure. (CR H...   \n",
      "3         2015-12-11    Referred to the House Committee on Agriculture.   \n",
      "4         2015-12-18        Message on Senate action sent to the House.   \n",
      "\n",
      "             policy_area                                           subjects  \\\n",
      "0               Congress        [Congressional operations and organization]   \n",
      "1              Education  [Higher education, Student aid and college cos...   \n",
      "2  International Affairs  [Human rights, Iran, Middle East, Sanctions, S...   \n",
      "3              Education  [Commemorative events and holidays, Congressio...   \n",
      "4               Congress  [Congressional operations and organization, Pr...   \n",
      "\n",
      "                                          cosponsors  \n",
      "0                                            Unknown  \n",
      "1                                 [V000130, L000263]  \n",
      "2  [D000610, L000563, P000602, S000344, Z000017, ...  \n",
      "3  [S001180, D000533, H001053, H001071, A000374, ...  \n",
      "4                                            Unknown  \n",
      "Debug: related_bills_df\n",
      "   bill_congress bill_type bill_number bill_version related_bill_number\n",
      "0            114   HCONRES  HCONRES100        3.0.0           SCONRES26\n",
      "1            114   HCONRES  HCONRES101        3.0.0          HCONRES130\n",
      "2            114   HCONRES  HCONRES106        3.0.0             SJRES26\n",
      "3            114   HCONRES  HCONRES106        3.0.0             SJRES29\n",
      "4            114   HCONRES  HCONRES108        3.0.0           SCONRES27\n"
     ]
    },
    {
     "data": {
      "application/vnd.jupyter.widget-view+json": {
       "model_id": "d3d258e9dc6f43c4bb062e9ec038f5f1",
       "version_major": 2,
       "version_minor": 0
      },
      "text/plain": [
       "Bill Type:   0%|          | 0/8 [00:00<?, ?it/s]"
      ]
     },
     "metadata": {},
     "output_type": "display_data"
    },
    {
     "data": {
      "application/vnd.jupyter.widget-view+json": {
       "model_id": "1fe06acf4964491e8cabfdee5ea40107",
       "version_major": 2,
       "version_minor": 0
      },
      "text/plain": [
       "Bill Number:   0%|          | 0/149 [00:00<?, ?it/s]"
      ]
     },
     "metadata": {},
     "output_type": "display_data"
    },
    {
     "data": {
      "application/vnd.jupyter.widget-view+json": {
       "model_id": "f32603f601054030afde8dd95349039b",
       "version_major": 2,
       "version_minor": 0
      },
      "text/plain": [
       "Bill Number:   0%|          | 0/146 [00:00<?, ?it/s]"
      ]
     },
     "metadata": {},
     "output_type": "display_data"
    },
    {
     "data": {
      "application/vnd.jupyter.widget-view+json": {
       "model_id": "f0ee2a62fa544c168d7c918175a5b91d",
       "version_major": 2,
       "version_minor": 0
      },
      "text/plain": [
       "Bill Number:   0%|          | 0/7394 [00:00<?, ?it/s]"
      ]
     },
     "metadata": {},
     "output_type": "display_data"
    },
    {
     "data": {
      "application/vnd.jupyter.widget-view+json": {
       "model_id": "cf91565ba70844469a8f2c8abc838376",
       "version_major": 2,
       "version_minor": 0
      },
      "text/plain": [
       "Bill Number:   0%|          | 0/1187 [00:00<?, ?it/s]"
      ]
     },
     "metadata": {},
     "output_type": "display_data"
    },
    {
     "data": {
      "application/vnd.jupyter.widget-view+json": {
       "model_id": "ac9f7ec184794231bb6e24735c5a3323",
       "version_major": 2,
       "version_minor": 0
      },
      "text/plain": [
       "Bill Number:   0%|          | 0/3805 [00:00<?, ?it/s]"
      ]
     },
     "metadata": {},
     "output_type": "display_data"
    },
    {
     "data": {
      "application/vnd.jupyter.widget-view+json": {
       "model_id": "3ce27eb99a4045f19dc23838d13adbc5",
       "version_major": 2,
       "version_minor": 0
      },
      "text/plain": [
       "Bill Number:   0%|          | 0/59 [00:00<?, ?it/s]"
      ]
     },
     "metadata": {},
     "output_type": "display_data"
    },
    {
     "data": {
      "application/vnd.jupyter.widget-view+json": {
       "model_id": "a3c72cdf2d1c43f8854d137654fbe798",
       "version_major": 2,
       "version_minor": 0
      },
      "text/plain": [
       "Bill Number:   0%|          | 0/69 [00:00<?, ?it/s]"
      ]
     },
     "metadata": {},
     "output_type": "display_data"
    },
    {
     "data": {
      "application/vnd.jupyter.widget-view+json": {
       "model_id": "98e9f327cf44445caf3bdca72ce54924",
       "version_major": 2,
       "version_minor": 0
      },
      "text/plain": [
       "Bill Number:   0%|          | 0/747 [00:00<?, ?it/s]"
      ]
     },
     "metadata": {},
     "output_type": "display_data"
    },
    {
     "name": "stdout",
     "output_type": "stream",
     "text": [
      "Debug: bills_df\n",
      "  bill_number  bill_congress bill_type  \\\n",
      "0    HCONRES1            115   HCONRES   \n",
      "1   HCONRES10            115   HCONRES   \n",
      "2  HCONRES100            115   HCONRES   \n",
      "3  HCONRES101            115   HCONRES   \n",
      "4  HCONRES102            115   HCONRES   \n",
      "\n",
      "                                               title bill_version  \\\n",
      "0  Regarding consent to assemble outside the seat...        3.0.0   \n",
      "1  Expressing the sense of the Congress that tax-...        3.0.0   \n",
      "2  Providing for a correction in the enrollment o...        3.0.0   \n",
      "3  Providing for a joint session of Congress to r...        3.0.0   \n",
      "4  Authorizing the use of Emancipation Hall in th...        3.0.0   \n",
      "\n",
      "  sponsor_bioguide_id                        sponsor_full_name  \\\n",
      "0             S000250            Rep. Sessions, Pete [R-TX-32]   \n",
      "1             P000594              Rep. Paulsen, Erik [R-MN-3]   \n",
      "2             F000372  Rep. Frelinghuysen, Rodney P. [R-NJ-11]   \n",
      "3             A000055        Rep. Aderholt, Robert B. [R-AL-4]   \n",
      "4             M001165           Rep. McCarthy, Kevin [R-CA-23]   \n",
      "\n",
      "  introduced_date latest_action_date  \\\n",
      "0      2017-01-03         2017-01-04   \n",
      "1      2017-01-13         2017-01-26   \n",
      "2      2018-01-22         2018-01-22   \n",
      "3      2018-01-25         2018-01-29   \n",
      "4      2018-02-05         2018-02-08   \n",
      "\n",
      "                                  latest_action_text  \\\n",
      "0                            Received in the Senate.   \n",
      "1             Referred to the Subcommittee on Trade.   \n",
      "2  Referred to the Committee on Appropriations, a...   \n",
      "3        Message on Senate action sent to the House.   \n",
      "4        Message on Senate action sent to the House.   \n",
      "\n",
      "                    policy_area  \\\n",
      "0                      Congress   \n",
      "1                      Taxation   \n",
      "2  Economics and Public Finance   \n",
      "3                      Congress   \n",
      "4                      Congress   \n",
      "\n",
      "                                            subjects  \\\n",
      "0        [Congressional operations and organization]   \n",
      "1  [Life, casualty, property insurance, Social wo...   \n",
      "2  [Appropriations, Legislative rules and procedure]   \n",
      "3  [Congressional operations and organization, Pr...   \n",
      "4  [Commemorative events and holidays, U.S. Capit...   \n",
      "\n",
      "                                          cosponsors  \n",
      "0                                            Unknown  \n",
      "1  [K000188, N000015, T000462, P000593, J000290, ...  \n",
      "2                                            Unknown  \n",
      "3                                            Unknown  \n",
      "4                                            Unknown  \n",
      "Debug: related_bills_df\n",
      "   bill_congress bill_type bill_number bill_version related_bill_number\n",
      "0            115   HCONRES   HCONRES10        3.0.0            SCONRES7\n",
      "1            115   HCONRES  HCONRES100        3.0.0           SCONRES33\n",
      "2            115   HCONRES  HCONRES100        3.0.0               HR195\n",
      "3            115   HCONRES  HCONRES104        3.0.0              HR1892\n",
      "4            115   HCONRES  HCONRES106        3.0.0           SCONRES35\n"
     ]
    },
    {
     "data": {
      "application/vnd.jupyter.widget-view+json": {
       "model_id": "c9ea06673aac48f388e21ca65d6f8b97",
       "version_major": 2,
       "version_minor": 0
      },
      "text/plain": [
       "Bill Type:   0%|          | 0/8 [00:00<?, ?it/s]"
      ]
     },
     "metadata": {},
     "output_type": "display_data"
    },
    {
     "data": {
      "application/vnd.jupyter.widget-view+json": {
       "model_id": "992098b215834af0be02ee934a5fa1be",
       "version_major": 2,
       "version_minor": 0
      },
      "text/plain": [
       "Bill Number:   0%|          | 0/128 [00:00<?, ?it/s]"
      ]
     },
     "metadata": {},
     "output_type": "display_data"
    },
    {
     "data": {
      "application/vnd.jupyter.widget-view+json": {
       "model_id": "f84a6141e9444c358dda5e1b1fb9133f",
       "version_major": 2,
       "version_minor": 0
      },
      "text/plain": [
       "Bill Number:   0%|          | 0/110 [00:00<?, ?it/s]"
      ]
     },
     "metadata": {},
     "output_type": "display_data"
    },
    {
     "data": {
      "application/vnd.jupyter.widget-view+json": {
       "model_id": "a6e0a32404aa484d957848d33e629b8a",
       "version_major": 2,
       "version_minor": 0
      },
      "text/plain": [
       "Bill Number:   0%|          | 0/9062 [00:00<?, ?it/s]"
      ]
     },
     "metadata": {},
     "output_type": "display_data"
    },
    {
     "data": {
      "application/vnd.jupyter.widget-view+json": {
       "model_id": "bf4d71f340c4461a91286247fcd659a2",
       "version_major": 2,
       "version_minor": 0
      },
      "text/plain": [
       "Bill Number:   0%|          | 0/1273 [00:00<?, ?it/s]"
      ]
     },
     "metadata": {},
     "output_type": "display_data"
    },
    {
     "data": {
      "application/vnd.jupyter.widget-view+json": {
       "model_id": "f107d686e4e2461fb81ef2a1891f3722",
       "version_major": 2,
       "version_minor": 0
      },
      "text/plain": [
       "Bill Number:   0%|          | 0/5086 [00:00<?, ?it/s]"
      ]
     },
     "metadata": {},
     "output_type": "display_data"
    },
    {
     "data": {
      "application/vnd.jupyter.widget-view+json": {
       "model_id": "fac46409e29b4df5b97960ce54f9f30c",
       "version_major": 2,
       "version_minor": 0
      },
      "text/plain": [
       "Bill Number:   0%|          | 0/52 [00:00<?, ?it/s]"
      ]
     },
     "metadata": {},
     "output_type": "display_data"
    },
    {
     "data": {
      "application/vnd.jupyter.widget-view+json": {
       "model_id": "471f15d2dbb54cd0b4d131e01bdcf6dc",
       "version_major": 2,
       "version_minor": 0
      },
      "text/plain": [
       "Bill Number:   0%|          | 0/82 [00:00<?, ?it/s]"
      ]
     },
     "metadata": {},
     "output_type": "display_data"
    },
    {
     "data": {
      "application/vnd.jupyter.widget-view+json": {
       "model_id": "b589e4b0b44c447793cd8ecaaedcf679",
       "version_major": 2,
       "version_minor": 0
      },
      "text/plain": [
       "Bill Number:   0%|          | 0/808 [00:00<?, ?it/s]"
      ]
     },
     "metadata": {},
     "output_type": "display_data"
    },
    {
     "name": "stdout",
     "output_type": "stream",
     "text": [
      "Debug: bills_df\n",
      "  bill_number  bill_congress bill_type  \\\n",
      "0    HCONRES1            116   HCONRES   \n",
      "1   HCONRES10            116   HCONRES   \n",
      "2  HCONRES100            116   HCONRES   \n",
      "3  HCONRES101            116   HCONRES   \n",
      "4  HCONRES102            116   HCONRES   \n",
      "\n",
      "                                               title bill_version  \\\n",
      "0  Regarding consent to assemble outside the seat...        3.0.0   \n",
      "1  Authorizing the use of the rotunda of the Capi...        3.0.0   \n",
      "2  Urging the establishment of a United States Co...        3.0.0   \n",
      "3  Expressing support for democratic elections in...        3.0.0   \n",
      "4  Recognizing September 30, 2020, as a national ...        3.0.0   \n",
      "\n",
      "  sponsor_bioguide_id                      sponsor_full_name introduced_date  \\\n",
      "0             M000312       Rep. McGovern, James P. [D-MA-2]      2019-01-03   \n",
      "1             M001205         Rep. Miller, Carol D. [R-WV-3]      2019-01-30   \n",
      "2             L000551            Rep. Lee, Barbara [D-CA-13]      2020-06-04   \n",
      "3             B000490  Rep. Bishop, Sanford D., Jr. [D-GA-2]      2020-06-08   \n",
      "4             J000126  Rep. Johnson, Eddie Bernice [D-TX-30]      2020-06-11   \n",
      "\n",
      "  latest_action_date                                 latest_action_text  \\\n",
      "0         2019-01-04                            Received in the Senate.   \n",
      "1         2019-01-30  Referred to the House Committee on House Admin...   \n",
      "2         2020-06-04  Referred to the House Committee on the Judiciary.   \n",
      "3         2020-06-26  Referred to the Subcommittee on Western Hemisp...   \n",
      "4         2020-06-11  Referred to the House Committee on Energy and ...   \n",
      "\n",
      "                                   policy_area  \\\n",
      "0                                     Congress   \n",
      "1                                     Congress   \n",
      "2  Civil Rights and Liberties, Minority Issues   \n",
      "3                        International Affairs   \n",
      "4                                       Health   \n",
      "\n",
      "                                            subjects  \\\n",
      "0        [Congressional operations and organization]   \n",
      "1  [Cemeteries and funerals, Conflicts and wars, ...   \n",
      "2  [Commemorative events and holidays, Human righ...   \n",
      "3  [Congressional tributes, Elections, voting, po...   \n",
      "4  [Cardiovascular and respiratory health, Commem...   \n",
      "\n",
      "                                          cosponsors  \n",
      "0                                            Unknown  \n",
      "1  [M001195, M001187, G000578, M001180, W000806, ...  \n",
      "2  [N000147, M001160, H000324, E000297, C001067, ...  \n",
      "3  [P000604, H000324, J000032, J000288, T000193, ...  \n",
      "4                                            Unknown  \n",
      "Debug: related_bills_df\n",
      "   bill_congress bill_type bill_number bill_version related_bill_number\n",
      "0            116   HCONRES   HCONRES10        3.0.0              HR2500\n",
      "1            116   HCONRES   HCONRES10        3.0.0               S1790\n",
      "2            116   HCONRES  HCONRES100        3.0.0           SCONRES50\n",
      "3            116   HCONRES  HCONRES103        3.0.0           HCONRES48\n",
      "4            116   HCONRES  HCONRES104        3.0.0          HCONRES108\n"
     ]
    },
    {
     "data": {
      "application/vnd.jupyter.widget-view+json": {
       "model_id": "085bb8f3073746db8b4170c7db550e3b",
       "version_major": 2,
       "version_minor": 0
      },
      "text/plain": [
       "Bill Type:   0%|          | 0/8 [00:00<?, ?it/s]"
      ]
     },
     "metadata": {},
     "output_type": "display_data"
    },
    {
     "data": {
      "application/vnd.jupyter.widget-view+json": {
       "model_id": "38c9a43a211542a69cd4961a8863bef6",
       "version_major": 2,
       "version_minor": 0
      },
      "text/plain": [
       "Bill Number:   0%|          | 0/125 [00:00<?, ?it/s]"
      ]
     },
     "metadata": {},
     "output_type": "display_data"
    },
    {
     "data": {
      "application/vnd.jupyter.widget-view+json": {
       "model_id": "465dd30f7d5a43f2b77a704fff02950f",
       "version_major": 2,
       "version_minor": 0
      },
      "text/plain": [
       "Bill Number:   0%|          | 0/106 [00:00<?, ?it/s]"
      ]
     },
     "metadata": {},
     "output_type": "display_data"
    },
    {
     "data": {
      "application/vnd.jupyter.widget-view+json": {
       "model_id": "f01d29ef7d354d638f90b542b629db8a",
       "version_major": 2,
       "version_minor": 0
      },
      "text/plain": [
       "Bill Number:   0%|          | 0/9709 [00:00<?, ?it/s]"
      ]
     },
     "metadata": {},
     "output_type": "display_data"
    },
    {
     "data": {
      "application/vnd.jupyter.widget-view+json": {
       "model_id": "68378dfe32584f1abdc8e4e8ceb23c83",
       "version_major": 2,
       "version_minor": 0
      },
      "text/plain": [
       "Bill Number:   0%|          | 0/1532 [00:00<?, ?it/s]"
      ]
     },
     "metadata": {},
     "output_type": "display_data"
    },
    {
     "data": {
      "application/vnd.jupyter.widget-view+json": {
       "model_id": "5a699df946e340a680b82e37d57b64bd",
       "version_major": 2,
       "version_minor": 0
      },
      "text/plain": [
       "Bill Number:   0%|          | 0/5357 [00:00<?, ?it/s]"
      ]
     },
     "metadata": {},
     "output_type": "display_data"
    },
    {
     "data": {
      "application/vnd.jupyter.widget-view+json": {
       "model_id": "dca8ec94e6494ec99fb3410ca90d6461",
       "version_major": 2,
       "version_minor": 0
      },
      "text/plain": [
       "Bill Number:   0%|          | 0/52 [00:00<?, ?it/s]"
      ]
     },
     "metadata": {},
     "output_type": "display_data"
    },
    {
     "data": {
      "application/vnd.jupyter.widget-view+json": {
       "model_id": "116f59a405f44e349384b91ee67a633e",
       "version_major": 2,
       "version_minor": 0
      },
      "text/plain": [
       "Bill Number:   0%|          | 0/70 [00:00<?, ?it/s]"
      ]
     },
     "metadata": {},
     "output_type": "display_data"
    },
    {
     "data": {
      "application/vnd.jupyter.widget-view+json": {
       "model_id": "81bc3b02556d4a218848762b19cd3035",
       "version_major": 2,
       "version_minor": 0
      },
      "text/plain": [
       "Bill Number:   0%|          | 0/877 [00:00<?, ?it/s]"
      ]
     },
     "metadata": {},
     "output_type": "display_data"
    },
    {
     "name": "stdout",
     "output_type": "stream",
     "text": [
      "Debug: bills_df\n",
      "  bill_number  bill_congress bill_type  \\\n",
      "0    HCONRES1            117   HCONRES   \n",
      "1   HCONRES10            117   HCONRES   \n",
      "2  HCONRES100            117   HCONRES   \n",
      "3  HCONRES101            117   HCONRES   \n",
      "4  HCONRES102            117   HCONRES   \n",
      "\n",
      "                                               title bill_version  \\\n",
      "0  Regarding consent to assemble outside the seat...        3.0.0   \n",
      "1  Permitting the remains of the late United Stat...        3.0.0   \n",
      "2  Expressing the sense of Congress in opposition...        3.0.0   \n",
      "3  Calling an Article V Convention for proposing ...        3.0.0   \n",
      "4  Expressing the sense of Congress that it is th...        3.0.0   \n",
      "\n",
      "  sponsor_bioguide_id                   sponsor_full_name introduced_date  \\\n",
      "0             M000312    Rep. McGovern, James P. [D-MA-2]      2021-01-04   \n",
      "1             L000397         Rep. Lofgren, Zoe [D-CA-19]      2021-02-01   \n",
      "2             Z000017        Rep. Zeldin, Lee M. [R-NY-1]      2022-07-14   \n",
      "3             A000375  Rep. Arrington, Jodey C. [R-TX-19]      2022-07-19   \n",
      "4             T000481       Rep. Tlaib, Rashida [D-MI-13]      2022-08-09   \n",
      "\n",
      "  latest_action_date                                 latest_action_text  \\\n",
      "0         2021-01-06                            Received in the Senate.   \n",
      "1         2021-02-02        Message on Senate action sent to the House.   \n",
      "2         2022-07-14  Referred to the House Committee on Foreign Aff...   \n",
      "3         2022-11-01  Referred to the Subcommittee on the Constituti...   \n",
      "4         2022-08-09  Referred to the House Committee on the Judiciary.   \n",
      "\n",
      "                          policy_area  \\\n",
      "0                            Congress   \n",
      "1                            Congress   \n",
      "2               International Affairs   \n",
      "3  Government Operations and Politics   \n",
      "4             Arts, Culture, Religion   \n",
      "\n",
      "                                            subjects  \\\n",
      "0        [Congressional operations and organization]   \n",
      "1  [Cemeteries and funerals, Civil disturbances, ...   \n",
      "2                                            Unknown   \n",
      "3  [Constitution and constitutional amendments, S...   \n",
      "4                                            Unknown   \n",
      "\n",
      "                                          cosponsors  \n",
      "0                                            Unknown  \n",
      "1                                            Unknown  \n",
      "2  [S000168, L000564, M001194, B001305, G000593, ...  \n",
      "3      [H001084, F000466, L000589, N000190, D000615]  \n",
      "4                                 [B001223, C001072]  \n",
      "Debug: related_bills_df\n",
      "   bill_congress bill_type bill_number bill_version related_bill_number\n",
      "0            117   HCONRES  HCONRES100        3.0.0           SCONRES34\n",
      "1            117   HCONRES  HCONRES103        3.0.0           HCONRES48\n",
      "2            117   HCONRES  HCONRES104        3.0.0             SRES755\n",
      "3            117   HCONRES  HCONRES105        3.0.0           SCONRES44\n",
      "4            117   HCONRES  HCONRES106        3.0.0             SRES788\n"
     ]
    },
    {
     "data": {
      "application/vnd.jupyter.widget-view+json": {
       "model_id": "edbc156bfeb74960a2da29bac9544289",
       "version_major": 2,
       "version_minor": 0
      },
      "text/plain": [
       "Bill Type:   0%|          | 0/8 [00:00<?, ?it/s]"
      ]
     },
     "metadata": {},
     "output_type": "display_data"
    },
    {
     "data": {
      "application/vnd.jupyter.widget-view+json": {
       "model_id": "568c0ae793714fe6afefc66fcbafb51c",
       "version_major": 2,
       "version_minor": 0
      },
      "text/plain": [
       "Bill Number:   0%|          | 0/95 [00:00<?, ?it/s]"
      ]
     },
     "metadata": {},
     "output_type": "display_data"
    },
    {
     "data": {
      "application/vnd.jupyter.widget-view+json": {
       "model_id": "c200beb3c0734685a26e3788c04cc55d",
       "version_major": 2,
       "version_minor": 0
      },
      "text/plain": [
       "Bill Number:   0%|          | 0/118 [00:00<?, ?it/s]"
      ]
     },
     "metadata": {},
     "output_type": "display_data"
    },
    {
     "data": {
      "application/vnd.jupyter.widget-view+json": {
       "model_id": "5745cb460c524c4e8c9bde359483383f",
       "version_major": 2,
       "version_minor": 0
      },
      "text/plain": [
       "Bill Number:   0%|          | 0/7579 [00:00<?, ?it/s]"
      ]
     },
     "metadata": {},
     "output_type": "display_data"
    },
    {
     "data": {
      "application/vnd.jupyter.widget-view+json": {
       "model_id": "a004a1e12ab54da390ebcfe75b36999f",
       "version_major": 2,
       "version_minor": 0
      },
      "text/plain": [
       "Bill Number:   0%|          | 0/1066 [00:00<?, ?it/s]"
      ]
     },
     "metadata": {},
     "output_type": "display_data"
    },
    {
     "data": {
      "application/vnd.jupyter.widget-view+json": {
       "model_id": "e65a210ac50243a5b593d9e9ba9b65fe",
       "version_major": 2,
       "version_minor": 0
      },
      "text/plain": [
       "Bill Number:   0%|          | 0/3893 [00:00<?, ?it/s]"
      ]
     },
     "metadata": {},
     "output_type": "display_data"
    },
    {
     "data": {
      "application/vnd.jupyter.widget-view+json": {
       "model_id": "b3f751ddf4ed4aee9a4d56e0e6c0a209",
       "version_major": 2,
       "version_minor": 0
      },
      "text/plain": [
       "Bill Number:   0%|          | 0/30 [00:00<?, ?it/s]"
      ]
     },
     "metadata": {},
     "output_type": "display_data"
    },
    {
     "data": {
      "application/vnd.jupyter.widget-view+json": {
       "model_id": "6f4252d4847146418e16af4129c2d764",
       "version_major": 2,
       "version_minor": 0
      },
      "text/plain": [
       "Bill Number:   0%|          | 0/63 [00:00<?, ?it/s]"
      ]
     },
     "metadata": {},
     "output_type": "display_data"
    },
    {
     "data": {
      "application/vnd.jupyter.widget-view+json": {
       "model_id": "e9f4ab9276c142d9baa25987df49abd6",
       "version_major": 2,
       "version_minor": 0
      },
      "text/plain": [
       "Bill Number:   0%|          | 0/583 [00:00<?, ?it/s]"
      ]
     },
     "metadata": {},
     "output_type": "display_data"
    },
    {
     "name": "stdout",
     "output_type": "stream",
     "text": [
      "Debug: bills_df\n",
      "  bill_number  bill_congress bill_type  \\\n",
      "0    HCONRES1            118   HCONRES   \n",
      "1   HCONRES10            118   HCONRES   \n",
      "2   HCONRES11            118   HCONRES   \n",
      "3   HCONRES12            118   HCONRES   \n",
      "4   HCONRES13            118   HCONRES   \n",
      "\n",
      "                                               title bill_version  \\\n",
      "0  Regarding consent to assemble outside the seat...        3.0.0   \n",
      "1  Expressing the sense of Congress that the Unit...        3.0.0   \n",
      "2  Providing for a joint session of Congress to r...        3.0.0   \n",
      "3  Expressing the sense of Congress that all dire...        3.0.0   \n",
      "4            Supporting the Local Radio Freedom Act.        3.0.0   \n",
      "\n",
      "  sponsor_bioguide_id                 sponsor_full_name introduced_date  \\\n",
      "0             C001053           Rep. Cole, Tom [R-OK-4]      2023-01-09   \n",
      "1             T000165  Rep. Tiffany, Thomas P. [R-WI-7]      2023-01-25   \n",
      "2             S001176      Rep. Scalise, Steve [R-LA-1]      2023-01-31   \n",
      "3             C001039        Rep. Cammack, Kat [R-FL-3]      2023-02-01   \n",
      "4             W000809       Rep. Womack, Steve [R-AR-3]      2023-02-06   \n",
      "\n",
      "  latest_action_date                                 latest_action_text  \\\n",
      "0         2023-01-23                            Received in the Senate.   \n",
      "1         2023-01-25  Referred to the Committee on Foreign Affairs, ...   \n",
      "2         2023-02-02        Message on Senate action sent to the House.   \n",
      "3         2023-02-13  Referred to the Subcommittee on General Farm C...   \n",
      "4         2023-02-06  Referred to the House Committee on the Judiciary.   \n",
      "\n",
      "                               policy_area  \\\n",
      "0                                 Congress   \n",
      "1                    International Affairs   \n",
      "2                                 Congress   \n",
      "3  Foreign Trade and International Finance   \n",
      "4      Science, Technology, Communications   \n",
      "\n",
      "                                            subjects  \\\n",
      "0        [Congressional operations and organization]   \n",
      "1                                            Unknown   \n",
      "2  [Congressional operations and organization, Pr...   \n",
      "3  [Agricultural prices, subsidies, credit, Agric...   \n",
      "4                                            Unknown   \n",
      "\n",
      "                                          cosponsors  \n",
      "0                                            Unknown  \n",
      "1  [P000605, D000032, S001135, N000190, O000175, ...  \n",
      "2                                            Unknown  \n",
      "3  [K000380, L000595, F000472, H001077, F000475, ...  \n",
      "4  [C001066, A000369, A000375, B001298, B001306, ...  \n",
      "Debug: related_bills_df\n",
      "   bill_congress bill_type bill_number bill_version related_bill_number\n",
      "0            118   HCONRES   HCONRES13        3.0.0            SCONRES5\n",
      "1            118   HCONRES   HCONRES14        3.0.0                 HR1\n",
      "2            118   HCONRES   HCONRES14        3.0.0                S947\n",
      "3            118   HCONRES   HCONRES14        3.0.0              HR2811\n",
      "4            118   HCONRES   HCONRES15        3.0.0           HCONRES83\n"
     ]
    }
   ],
   "source": [
    "# Set the root directory path\n",
    "root_dir = \"data/bill-info/\"\n",
    "\n",
    "# Connect to the SQLite database (it will be created if it doesn't exist)\n",
    "conn = sqlite3.connect(\"data/bill_data.db\")\n",
    "\n",
    "# Create the bills table\n",
    "conn.execute(\"\"\"\n",
    "    CREATE TABLE IF NOT EXISTS bills (\n",
    "        bill_congress INTEGER,\n",
    "        bill_type TEXT,\n",
    "        bill_number TEXT,\n",
    "        bill_version TEXT,\n",
    "        title TEXT,\n",
    "        sponsor_bioguide_id TEXT,\n",
    "        sponsor_full_name TEXT,\n",
    "        introduced_date TEXT,\n",
    "        latest_action_date TEXT,\n",
    "        latest_action_text TEXT,\n",
    "        policy_area TEXT,\n",
    "        subjects TEXT,\n",
    "        cosponsors TEXT,\n",
    "        PRIMARY KEY (bill_congress, bill_type, bill_number, bill_version)\n",
    "    )\n",
    "\"\"\")\n",
    "\n",
    "# Create the related_bills table\n",
    "conn.execute(\"\"\"\n",
    "    CREATE TABLE IF NOT EXISTS related_bills (\n",
    "        bill_congress INTEGER,\n",
    "        bill_type TEXT,\n",
    "        bill_number TEXT,\n",
    "        bill_version TEXT,\n",
    "        related_bill_number TEXT,\n",
    "        FOREIGN KEY (bill_number) REFERENCES bills (bill_number)\n",
    "    )\n",
    "\"\"\")\n",
    "\n",
    "# Iterate over the congress directories\n",
    "for congress in tqdm(os.listdir(root_dir), desc=\"Congress\"):\n",
    "    congress_dir = os.path.join(root_dir, congress)\n",
    "\n",
    "    bills_data = []\n",
    "    related_bills_data = []\n",
    "\n",
    "    # Iterate over the bill type directories\n",
    "    for bill_type in tqdm(os.listdir(os.path.join(congress_dir, \"bills\")), desc=\"Bill Type\", leave=False):\n",
    "        bill_type_dir = os.path.join(congress_dir, \"bills\", bill_type)\n",
    "\n",
    "        # Iterate over the bill directories\n",
    "        for bill_number in tqdm(os.listdir(bill_type_dir), desc=\"Bill Number\", leave=False):\n",
    "            bill_dir = os.path.join(bill_type_dir, bill_number)\n",
    "\n",
    "            # Check if the required files exist\n",
    "            if \"fdsys_billstatus.xml\" in os.listdir(bill_dir) and \"fdsys_billstatus-lastmod.txt\" in os.listdir(bill_dir):\n",
    "                xml_file_path = os.path.join(bill_dir, \"fdsys_billstatus.xml\")\n",
    "                try:\n",
    "                    bill_data, related_bills = parse_bill_xml(xml_file_path)\n",
    "                    bills_data.append(bill_data)\n",
    "                    related_bills_data.extend([(bill_data['bill_congress'], bill_data['bill_type'], bill_data['bill_number'], bill_data['bill_version'], related_bill) for related_bill in related_bills])\n",
    "                except ValueError as e:\n",
    "                    print(f\"Error: {str(e)}\")\n",
    "                    continue\n",
    "\n",
    "    # Load data into DataFrames\n",
    "    bills_df = pd.DataFrame(bills_data)\n",
    "    #print(\"Debug: bills_df\")\n",
    "    #print(bills_df.head())\n",
    "\n",
    "    related_bills_df = pd.DataFrame(related_bills_data, columns=['bill_congress', 'bill_type', 'bill_number', 'bill_version', 'related_bill_number'])\n",
    "    #print(\"Debug: related_bills_df\")\n",
    "    #print(related_bills_df.head())\n",
    "\n",
    "    bills_df['subjects'] = bills_df['subjects'].apply(lambda x: ','.join(x) if isinstance(x, list) else x)\n",
    "    bills_df['cosponsors'] = bills_df['cosponsors'].apply(lambda x: ','.join(x) if isinstance(x, list) else x)\n",
    "\n",
    "    # Insert data into the database\n",
    "    bills_df.to_sql('bills', conn, if_exists='append', index=False)\n",
    "    related_bills_df.to_sql('related_bills', conn, if_exists='append', index=False)\n",
    "\n",
    "# Close the database connection\n",
    "conn.close()"
   ]
  },
  {
   "cell_type": "code",
   "execution_count": 4,
   "metadata": {},
   "outputs": [
    {
     "name": "stdout",
     "output_type": "stream",
     "text": [
      "Bills Table Preview:\n",
      "Bill Number: HCONRES1\n",
      "Congress: 113\n",
      "Bill Type: HCONRES\n",
      "Bill Version: 3.0.0\n",
      "Title: Regarding consent to assemble outside the seat of government.\n",
      "Introduced Date: 2013-01-03\n",
      "Sponsor Bioguide ID: S000250\n",
      "Sponsor Full Name: Rep. Sessions, Pete [R-TX-32]\n",
      "Latest Action Date: 2013-01-04\n",
      "Latest Action Text: Received in the Senate.\n",
      "Policy Area: Congress\n",
      "Subjects: Congressional operations and organization\n",
      "Cosponsors: Unknown\n",
      "------------------------\n",
      "Bill Number: HCONRES10\n",
      "Congress: 113\n",
      "Bill Type: HCONRES\n",
      "Bill Version: 3.0.0\n",
      "Title: Supporting the goals and ideals of No Name-Calling Week in bringing attention to name-calling of all kinds and providing schools with the tools and inspiration to launch an on-going dialogue about ways to eliminate name-calling and bullying in their communities.\n",
      "Introduced Date: 2013-01-25\n",
      "Sponsor Bioguide ID: R000435\n",
      "Sponsor Full Name: Rep. Ros-Lehtinen, Ileana [R-FL-27]\n",
      "Latest Action Date: 2013-01-25\n",
      "Latest Action Text: Referred to the House Committee on Oversight and Government Reform.\n",
      "Policy Area: Education\n",
      "Subjects: Assault and harassment offenses,Commemorative events and holidays,Elementary and secondary education,Sex, gender, sexual orientation discrimination,Teaching, teachers, curricula\n",
      "Cosponsors: K000188,S001175,S001165,M000933,N000147,S001177,P000598,C001084,P000607,S001191,S001145,H001034,H001032,W000797,M000312,S001156,E000288\n",
      "------------------------\n",
      "Bill Number: HCONRES100\n",
      "Congress: 113\n",
      "Bill Type: HCONRES\n",
      "Bill Version: 3.0.0\n",
      "Title: Authorizing the use of the rotunda of the Capitol for a ceremony to commemorate the 50th anniversary of the enactment of the Civil Rights Act of 1964.\n",
      "Introduced Date: 2014-05-22\n",
      "Sponsor Bioguide ID: F000455\n",
      "Sponsor Full Name: Rep. Fudge, Marcia L. [D-OH-11]\n",
      "Latest Action Date: 2014-06-11\n",
      "Latest Action Text: Message on Senate action sent to the House.\n",
      "Policy Area: Congress\n",
      "Subjects: Commemorative events and holidays,Human rights,Racial and ethnic relations,U.S. Capitol,U.S. history\n",
      "Cosponsors: Unknown\n",
      "------------------------\n",
      "Bill Number: HCONRES101\n",
      "Congress: 113\n",
      "Bill Type: HCONRES\n",
      "Bill Version: 3.0.0\n",
      "Title: Expressing the sense of Congress that Warren Weinstein should be returned home to his family.\n",
      "Introduced Date: 2014-06-11\n",
      "Sponsor Bioguide ID: D000620\n",
      "Sponsor Full Name: Rep. Delaney, John K. [D-MD-6]\n",
      "Latest Action Date: 2014-06-11\n",
      "Latest Action Text: Referred to the House Committee on Foreign Affairs.\n",
      "Policy Area: International Affairs\n",
      "Subjects: Asia,Congressional oversight,Detention of persons,Diplomacy, foreign officials, Americans abroad,Pakistan,Terrorism\n",
      "Cosponsors: E000179,V000128\n",
      "------------------------\n",
      "Bill Number: HCONRES102\n",
      "Congress: 113\n",
      "Bill Type: HCONRES\n",
      "Bill Version: 3.0.0\n",
      "Title: Expressing support for designation of June 21 as National ASK (Asking Saves Kids) Day to promote children's health and gun safety.\n",
      "Introduced Date: 2014-06-20\n",
      "Sponsor Bioguide ID: C001084\n",
      "Sponsor Full Name: Rep. Cicilline, David N. [D-RI-1]\n",
      "Latest Action Date: 2014-06-20\n",
      "Latest Action Text: Referred to the House Committee on Oversight and Government Reform.\n",
      "Policy Area: Health\n",
      "Subjects: Child health,Child safety and welfare,Commemorative events and holidays,Family relationships,Firearms and explosives\n",
      "Cosponsors: L000559,M001137,N000147,E000288,M001143,T000266\n",
      "------------------------\n",
      "\n",
      "Total Bills Count:\n",
      "Total Bills: 84112\n",
      "\n",
      "Bills Count by Congress:\n",
      "Congress 113: 10637 bills\n",
      "Congress 114: 12063 bills\n",
      "Congress 115: 13556 bills\n",
      "Congress 116: 16601 bills\n",
      "Congress 117: 17828 bills\n",
      "Congress 118: 13427 bills\n",
      "\n",
      "Related Bills Preview:\n",
      "Bill Congress: 113\n",
      "Bill Type: HCONRES\n",
      "Bill Number: HCONRES101\n",
      "Bill Version: 3.0.0\n",
      "Related Bill Number: SCONRES38\n",
      "------------------------\n",
      "Bill Congress: 113\n",
      "Bill Type: HCONRES\n",
      "Bill Number: HCONRES103\n",
      "Bill Version: 3.0.0\n",
      "Related Bill Number: HCONRES44\n",
      "------------------------\n",
      "Bill Congress: 113\n",
      "Bill Type: HCONRES\n",
      "Bill Number: HCONRES104\n",
      "Bill Version: 3.0.0\n",
      "Related Bill Number: S409\n",
      "------------------------\n",
      "Bill Congress: 113\n",
      "Bill Type: HCONRES\n",
      "Bill Number: HCONRES106\n",
      "Bill Version: 3.0.0\n",
      "Related Bill Number: SCONRES40\n",
      "------------------------\n",
      "Bill Congress: 113\n",
      "Bill Type: HCONRES\n",
      "Bill Number: HCONRES107\n",
      "Bill Version: 3.0.0\n",
      "Related Bill Number: SCONRES41\n",
      "------------------------\n",
      "\n",
      "Total Related Bills Count:\n",
      "Total Related Bills: 83831\n"
     ]
    }
   ],
   "source": [
    "def preview_database(db_path):\n",
    "    conn = sqlite3.connect(db_path)\n",
    "    cursor = conn.cursor()\n",
    "\n",
    "    print(\"Bills Table Preview:\")\n",
    "    cursor.execute(\"\"\"\n",
    "        SELECT bill_number, bill_congress, bill_type, bill_version, title,\n",
    "        introduced_date, sponsor_bioguide_id, sponsor_full_name,\n",
    "        latest_action_date, latest_action_text, policy_area, subjects, cosponsors\n",
    "        FROM bills\n",
    "        LIMIT 5\n",
    "    \"\"\")\n",
    "    bills = cursor.fetchall()\n",
    "    for bill in bills:\n",
    "        print(f\"Bill Number: {bill[0]}\")\n",
    "        print(f\"Congress: {bill[1]}\")\n",
    "        print(f\"Bill Type: {bill[2]}\")\n",
    "        print(f\"Bill Version: {bill[3]}\")\n",
    "        print(f\"Title: {bill[4]}\")\n",
    "        print(f\"Introduced Date: {bill[5]}\")\n",
    "        print(f\"Sponsor Bioguide ID: {bill[6]}\")\n",
    "        print(f\"Sponsor Full Name: {bill[7]}\")\n",
    "        print(f\"Latest Action Date: {bill[8]}\")\n",
    "        print(f\"Latest Action Text: {bill[9]}\")\n",
    "        print(f\"Policy Area: {bill[10]}\")\n",
    "        print(f\"Subjects: {bill[11]}\")\n",
    "        print(f\"Cosponsors: {bill[12]}\")\n",
    "        print(\"------------------------\")\n",
    "\n",
    "    print(\"\\nTotal Bills Count:\")\n",
    "    cursor.execute(\"SELECT COUNT(*) FROM bills\")\n",
    "    total_bills = cursor.fetchone()[0]\n",
    "    print(f\"Total Bills: {total_bills}\")\n",
    "\n",
    "    print(\"\\nBills Count by Congress:\")\n",
    "    cursor.execute(\"SELECT bill_congress, COUNT(*) FROM bills GROUP BY bill_congress\")\n",
    "    bills_by_congress = cursor.fetchall()\n",
    "    for congress, count in bills_by_congress:\n",
    "        print(f\"Congress {congress}: {count} bills\")\n",
    "\n",
    "    print(\"\\nRelated Bills Preview:\")\n",
    "    cursor.execute(\"SELECT bill_congress, bill_type, bill_number, bill_version, related_bill_number FROM related_bills LIMIT 5\")\n",
    "    related_bills = cursor.fetchall()\n",
    "    for bill_congress, bill_type, bill_number, bill_version, related_bill in related_bills:\n",
    "        print(f\"Bill Congress: {bill_congress}\")\n",
    "        print(f\"Bill Type: {bill_type}\")\n",
    "        print(f\"Bill Number: {bill_number}\")\n",
    "        print(f\"Bill Version: {bill_version}\")\n",
    "        print(f\"Related Bill Number: {related_bill}\")\n",
    "        print(\"------------------------\")\n",
    "\n",
    "    print(\"\\nTotal Related Bills Count:\")\n",
    "    cursor.execute(\"SELECT COUNT(*) FROM related_bills\")\n",
    "    total_related_bills = cursor.fetchone()[0]\n",
    "    print(f\"Total Related Bills: {total_related_bills}\")\n",
    "\n",
    "    conn.close()\n",
    "\n",
    "preview_database(\"data/bill_data.db\")"
   ]
  }
 ],
 "metadata": {
  "kernelspec": {
   "display_name": "Python 3",
   "language": "python",
   "name": "python3"
  },
  "language_info": {
   "codemirror_mode": {
    "name": "ipython",
    "version": 3
   },
   "file_extension": ".py",
   "mimetype": "text/x-python",
   "name": "python",
   "nbconvert_exporter": "python",
   "pygments_lexer": "ipython3",
   "version": "3.11.8"
  }
 },
 "nbformat": 4,
 "nbformat_minor": 2
}
